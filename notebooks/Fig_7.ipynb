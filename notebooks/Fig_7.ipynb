{
 "cells": [
  {
   "cell_type": "markdown",
   "id": "cbb90fff",
   "metadata": {},
   "source": [
    "# Analysis figures for Transfer Learning model\n",
    "\n",
    "\n"
   ]
  },
  {
   "cell_type": "markdown",
   "id": "0d7f4e22",
   "metadata": {},
   "source": [
    "The transfer learning model is a black-box CNN with inception, bidirectional, attention operators. \n",
    "\n",
    "Outputs from the CNN backbone is a vector, which is then linear-transformed to the same length of KINN intermediate rates, then added to the base rates as modifiers from sequence contexts.\n",
    "\n",
    "$\\delta_s =  f_{CNN}(seq) \\cdot W +b$\n",
    "\n",
    "$k = f_{KINN}(diff)$\n",
    "\n",
    "$\\hat{k} = k + \\delta_s$\n",
    "\n",
    "\n",
    "$\\hat{k}_{eff} = KingAltman(\\hat{k})$\n",
    "\n",
    "$k_{eff} = KingAltman(k)$\n",
    "\n",
    "Its effect, $\\delta_s$, to the final model output $\\hat{k}_{eff}$ is conditional on the base KINN intermediate kinetic rates $k$.\n",
    "\n",
    "Therefore, it makes more sense to analyze the intermediate rate modifiers $\\delta_s$, as outputed by CNN backbone, instead of the final KINN outputs $\\hat{k}_{eff}$, and when $\\delta_s$ is big enough such that $|\\hat{k}_{eff} - k_{eff}| > \\epsilon$.\n"
   ]
  },
  {
   "cell_type": "code",
   "execution_count": 1,
   "id": "06c0d407",
   "metadata": {},
   "outputs": [
    {
     "name": "stdout",
     "output_type": "stream",
     "text": [
      "/mnt/ceph/users/zzhang/CRISPR_pred/crispr_kinn\n"
     ]
    }
   ],
   "source": [
    "%cd .."
   ]
  },
  {
   "cell_type": "code",
   "execution_count": 2,
   "id": "c9b5b97b",
   "metadata": {},
   "outputs": [
    {
     "name": "stderr",
     "output_type": "stream",
     "text": [
      "Using TensorFlow backend.\n"
     ]
    }
   ],
   "source": [
    "import tensorflow as tf\n",
    "import shap\n",
    "import h5py\n",
    "import numpy as np\n",
    "import pandas as pd\n",
    "import os\n",
    "import scipy.stats as ss\n",
    "import src\n",
    "from src.transfer_learn import KinnLayer, amber_app\n",
    "from src.reload import reload_from_dir\n",
    "import matplotlib.pyplot as plt\n",
    "import seaborn as sns\n",
    "import pickle\n",
    "from collections import defaultdict\n",
    "from tqdm.notebook import tqdm\n",
    "%matplotlib inline"
   ]
  },
  {
   "cell_type": "code",
   "execution_count": 3,
   "id": "0ee1800d",
   "metadata": {},
   "outputs": [
    {
     "name": "stdout",
     "output_type": "stream",
     "text": [
      "BUILDING\n",
      "----------\n",
      "controller = GeneralController\n",
      "modeler = <class 'src.transfer_learn.TransferKinnModelBuilder'>\n",
      "knowledge = zero\n",
      "reward = LossAucReward\n",
      "manager = GeneralManager\n"
     ]
    },
    {
     "name": "stderr",
     "output_type": "stream",
     "text": [
      "2022-11-18 04:31:18,344 - AMBER - INFO -\n",
      " time budget set to: 72:00:00\n"
     ]
    },
    {
     "name": "stdout",
     "output_type": "stream",
     "text": [
      "env_type = ControllerTrainEnv\n"
     ]
    }
   ],
   "source": [
    "if os.path.isdir(\"weights\"):\n",
    "    os.rmdir(\"weights\")\n",
    "amb = amber_app(wd=\".\", run=False)\n",
    "# clean up folders created by trainEnv\n",
    "os.rmdir(\"weights\")"
   ]
  },
  {
   "cell_type": "code",
   "execution_count": 4,
   "id": "000b38af",
   "metadata": {},
   "outputs": [
    {
     "data": {
      "text/html": [
       "<div>\n",
       "<style scoped>\n",
       "    .dataframe tbody tr th:only-of-type {\n",
       "        vertical-align: middle;\n",
       "    }\n",
       "\n",
       "    .dataframe tbody tr th {\n",
       "        vertical-align: top;\n",
       "    }\n",
       "\n",
       "    .dataframe thead th {\n",
       "        text-align: right;\n",
       "    }\n",
       "</style>\n",
       "<table border=\"1\" class=\"dataframe\">\n",
       "  <thead>\n",
       "    <tr style=\"text-align: right;\">\n",
       "      <th></th>\n",
       "      <th>Kleinsitver</th>\n",
       "      <th>Listgarten</th>\n",
       "      <th>Listgarten_Indel</th>\n",
       "      <th>Valid</th>\n",
       "      <th>step</th>\n",
       "      <th>n_models</th>\n",
       "      <th>indv_perform</th>\n",
       "      <th>arc</th>\n",
       "      <th>trial</th>\n",
       "      <th>wd</th>\n",
       "    </tr>\n",
       "  </thead>\n",
       "  <tbody>\n",
       "    <tr>\n",
       "      <th>0</th>\n",
       "      <td>0.188933</td>\n",
       "      <td>0.140707</td>\n",
       "      <td>0.208201</td>\n",
       "      <td>0.437008</td>\n",
       "      <td>0</td>\n",
       "      <td>1</td>\n",
       "      <td>[0.189, 0.141, 0.208]</td>\n",
       "      <td>[0, 1, 5, 0, 0, 0, 1]</td>\n",
       "      <td>480</td>\n",
       "      <td>outputs/2022-11-01/TL_5</td>\n",
       "    </tr>\n",
       "    <tr>\n",
       "      <th>1</th>\n",
       "      <td>0.324715</td>\n",
       "      <td>0.195480</td>\n",
       "      <td>0.278344</td>\n",
       "      <td>0.439494</td>\n",
       "      <td>1</td>\n",
       "      <td>2</td>\n",
       "      <td>[0.287, 0.188, 0.304]</td>\n",
       "      <td>[0, 2, 5, 0, 0, 0, 5]</td>\n",
       "      <td>494</td>\n",
       "      <td>outputs/2022-11-01/TL_3</td>\n",
       "    </tr>\n",
       "    <tr>\n",
       "      <th>2</th>\n",
       "      <td>0.316479</td>\n",
       "      <td>0.228706</td>\n",
       "      <td>0.352824</td>\n",
       "      <td>0.442244</td>\n",
       "      <td>2</td>\n",
       "      <td>3</td>\n",
       "      <td>[0.242, 0.122, 0.247]</td>\n",
       "      <td>[1, 1, 5, 1, 1, 0, 5]</td>\n",
       "      <td>484</td>\n",
       "      <td>outputs/2022-11-01/TL_2</td>\n",
       "    </tr>\n",
       "    <tr>\n",
       "      <th>3</th>\n",
       "      <td>0.325627</td>\n",
       "      <td>0.222703</td>\n",
       "      <td>0.301412</td>\n",
       "      <td>0.442706</td>\n",
       "      <td>3</td>\n",
       "      <td>4</td>\n",
       "      <td>[0.225, 0.127, 0.146]</td>\n",
       "      <td>[1, 2, 5, 0, 1, 0, 1]</td>\n",
       "      <td>494</td>\n",
       "      <td>outputs/2022-11-01/TL_1</td>\n",
       "    </tr>\n",
       "    <tr>\n",
       "      <th>4</th>\n",
       "      <td>0.364205</td>\n",
       "      <td>0.261566</td>\n",
       "      <td>0.324285</td>\n",
       "      <td>0.445176</td>\n",
       "      <td>4</td>\n",
       "      <td>5</td>\n",
       "      <td>[0.186, 0.119, 0.171]</td>\n",
       "      <td>[0, 1, 1, 2, 1, 0, 3]</td>\n",
       "      <td>481</td>\n",
       "      <td>outputs/2022-11-01/TL_4</td>\n",
       "    </tr>\n",
       "  </tbody>\n",
       "</table>\n",
       "</div>"
      ],
      "text/plain": [
       "   Kleinsitver  Listgarten  Listgarten_Indel     Valid  step  n_models  \\\n",
       "0     0.188933    0.140707          0.208201  0.437008     0         1   \n",
       "1     0.324715    0.195480          0.278344  0.439494     1         2   \n",
       "2     0.316479    0.228706          0.352824  0.442244     2         3   \n",
       "3     0.325627    0.222703          0.301412  0.442706     3         4   \n",
       "4     0.364205    0.261566          0.324285  0.445176     4         5   \n",
       "\n",
       "            indv_perform                    arc  trial  \\\n",
       "0  [0.189, 0.141, 0.208]  [0, 1, 5, 0, 0, 0, 1]    480   \n",
       "1  [0.287, 0.188, 0.304]  [0, 2, 5, 0, 0, 0, 5]    494   \n",
       "2  [0.242, 0.122, 0.247]  [1, 1, 5, 1, 1, 0, 5]    484   \n",
       "3  [0.225, 0.127, 0.146]  [1, 2, 5, 0, 1, 0, 1]    494   \n",
       "4  [0.186, 0.119, 0.171]  [0, 1, 1, 2, 1, 0, 3]    481   \n",
       "\n",
       "                        wd  \n",
       "0  outputs/2022-11-01/TL_5  \n",
       "1  outputs/2022-11-01/TL_3  \n",
       "2  outputs/2022-11-01/TL_2  \n",
       "3  outputs/2022-11-01/TL_1  \n",
       "4  outputs/2022-11-01/TL_4  "
      ]
     },
     "execution_count": 4,
     "metadata": {},
     "output_type": "execute_result"
    }
   ],
   "source": [
    "# I'll make this hard-coded for now for faster reproducibility\n",
    "# for how this table is generated, see `11-TL_model_analysis-Valid_v_Test.ipynb`\n",
    "benchmark_df = pd.read_table(\"./outputs/analysis/transfer_learn.incremental_benchmark.tsv\")\n",
    "benchmark_df"
   ]
  },
  {
   "cell_type": "code",
   "execution_count": 5,
   "id": "45536a0b",
   "metadata": {},
   "outputs": [
    {
     "data": {
      "application/vnd.jupyter.widget-view+json": {
       "model_id": "330070f526684605a14184092029044e",
       "version_major": 2,
       "version_minor": 0
      },
      "text/plain": [
       "  0%|          | 0/5 [00:00<?, ?it/s]"
      ]
     },
     "metadata": {},
     "output_type": "display_data"
    }
   ],
   "source": [
    "# load models\n",
    "model_ensemble = []\n",
    "for _, row in tqdm(benchmark_df.iterrows(), total=len(benchmark_df)):\n",
    "    arc_seq = eval(row['arc'])\n",
    "    target_wd = row['wd']\n",
    "    best_trial_id = row['trial'] \n",
    "    #print(type(arc_seq))\n",
    "    model = amb.model_fn(arc_seq)\n",
    "    model.load_weights(os.path.join(target_wd, \"weights\", \"trial_%i\"%best_trial_id, \"bestmodel.h5\"))\n",
    "    model_ensemble.append(model)"
   ]
  },
  {
   "cell_type": "code",
   "execution_count": 6,
   "id": "2e6b1724",
   "metadata": {},
   "outputs": [],
   "source": [
    "# load data\n",
    "with h5py.File(\"./data/inVivoData.newValidSplit.h5\", \"r\") as store:\n",
    "    t1 = store[\"test/Kleinsitver_mut/x\"][()], store[\"test/Kleinsitver_mut/y\"][()]\n",
    "    t2 = store[\"test/Listgarten_mut/x\"][()], store[\"test/Listgarten_mut/y\"][()]\n",
    "    t3 = store[\"test/Listgarten_indel/x\"][()], store[\"test/Listgarten_indel/y\"][()]\n",
    "    valid_data = store[\"valid/x\"][()], store[\"valid/y\"][()]\n",
    "    kin_data = store[\"kinetic/x\"][()], store[\"kinetic/y\"][()], store[\"kinetic/k\"][()]\n",
    "\n",
    "data_cache = {\n",
    "    'kleinsitver': t1,\n",
    "    'listgarten': t2,\n",
    "    'listgarten_indel': t3,\n",
    "    'valid': valid_data,\n",
    "    'kinetic': kin_data\n",
    "}"
   ]
  },
  {
   "cell_type": "code",
   "execution_count": 7,
   "id": "c5d0fcd6",
   "metadata": {},
   "outputs": [],
   "source": [
    "y_pred = model_ensemble[-1].predict(t1[0], batch_size=25000)"
   ]
  },
  {
   "cell_type": "code",
   "execution_count": 8,
   "id": "60f0326b",
   "metadata": {},
   "outputs": [],
   "source": [
    "y_pred2 = model_ensemble[0].predict(t1[0], batch_size=25000)"
   ]
  },
  {
   "cell_type": "code",
   "execution_count": 9,
   "id": "fb1fe795",
   "metadata": {},
   "outputs": [
    {
     "data": {
      "text/plain": [
       "SpearmanrResult(correlation=0.5627292367738634, pvalue=0.0)"
      ]
     },
     "execution_count": 9,
     "metadata": {},
     "output_type": "execute_result"
    }
   ],
   "source": [
    "ss.spearmanr(y_pred, y_pred2)"
   ]
  },
  {
   "cell_type": "code",
   "execution_count": 10,
   "id": "da4a3947",
   "metadata": {},
   "outputs": [],
   "source": [
    "model = model_ensemble[0]"
   ]
  },
  {
   "cell_type": "code",
   "execution_count": 11,
   "id": "1674f8ae",
   "metadata": {},
   "outputs": [],
   "source": [
    "# get each model's intermediate layer results\n",
    "def get_intermediate_kinetic_model(model, include_kinn=True):\n",
    "    layer_dict = {l.name:l for l in model.layers}\n",
    "    k_layer_name = [x for x in layer_dict if x.startswith(\"kinn_\")][0]\n",
    "    # kinetic model: get intermediate outputs, e.g. predicted cleavage rate, seq delta, etc.\n",
    "    kinetic_model = tf.keras.models.Model(\n",
    "        inputs = model.inputs,\n",
    "        outputs = [layer_dict[k_layer_name].output, layer_dict[k_layer_name].lin_transform.output] if include_kinn \\\n",
    "        else layer_dict[k_layer_name].lin_transform.output\n",
    "    )\n",
    "    return kinetic_model\n",
    "\n",
    "def get_model_intermediate_outs(model, data):\n",
    "    layer_dict = {l.name:l for l in model.layers}\n",
    "    k_layer_name = [x for x in layer_dict if x.startswith(\"kinn_\")][0]\n",
    "    kinetic_model = get_intermediate_kinetic_model(model)\n",
    "    # old_pred_ks: base KINN intermediate rates\n",
    "    old_pred_ks = layer_dict[k_layer_name].kinn_header.predict(layer_dict[k_layer_name].mb.blockify_seq_ohe(data[:, :, 4:]))\n",
    "    # pred_k: new cleavage rate\n",
    "    # delta_seq: sequence delta\n",
    "    pred_k, delta_seq = kinetic_model.predict(data)\n",
    "    sess = tf.keras.backend.get_session()\n",
    "    # old_pred_k: old cleavage_rate\n",
    "    old_pred_k = sess.run(layer_dict[k_layer_name].kinn_body(old_pred_ks)).flatten()\n",
    "    return {\n",
    "        \"old_ks\": old_pred_ks,\n",
    "        \"old_clv\": old_pred_k,\n",
    "        \"delta_seq\": delta_seq,\n",
    "        \"new_ks\": old_pred_ks + delta_seq,\n",
    "        \"new_clv\": pred_k.flatten(),\n",
    "    }\n"
   ]
  },
  {
   "cell_type": "code",
   "execution_count": 12,
   "id": "f0d206b8",
   "metadata": {},
   "outputs": [],
   "source": [
    "reload_res_from_disk = True\n",
    "if reload_res_from_disk and os.path.isfile(\"./outputs/analysis/transfer_learning.model_intermediate.pkl\"):\n",
    "    with open(\"./outputs/analysis/transfer_learning.model_intermediate.pkl\", \"rb\") as f:\n",
    "        res = pickle.load(f)\n",
    "else:\n",
    "    res = {}\n",
    "    for model_id in range(len(model_ensemble)):\n",
    "        for data_id in data_cache:\n",
    "            print(model_id, data_id)\n",
    "            tmp = get_model_intermediate_outs(model=model_ensemble[model_id], data=data_cache[data_id][0])\n",
    "            res[(model_id, data_id)] = tmp\n",
    "\n",
    "    with open(\"./outputs/analysis/transfer_learning.model_intermediate.pkl\", \"wb\") as f:\n",
    "        pickle.dump(res, f)"
   ]
  },
  {
   "cell_type": "code",
   "execution_count": 13,
   "id": "43d5a510",
   "metadata": {},
   "outputs": [
    {
     "name": "stderr",
     "output_type": "stream",
     "text": [
      "findfont: Font family ['serif'] not found. Falling back to DejaVu Sans.\n",
      "findfont: Generic family 'serif' not found because none of the following families were found: Times New Roman\n"
     ]
    },
    {
     "data": {
      "image/png": "[encoded data removed]",
      "text/plain": [
       "<Figure size 576x360 with 1 Axes>"
      ]
     },
     "metadata": {
      "needs_background": "light"
     },
     "output_type": "display_data"
    },
    {
     "data": {
      "image/png": "[encoded data removed]",
      "text/plain": [
       "<Figure size 576x360 with 1 Axes>"
      ]
     },
     "metadata": {
      "needs_background": "light"
     },
     "output_type": "display_data"
    },
    {
     "data": {
      "image/png": "[encoded data removed]",
      "text/plain": [
       "<Figure size 576x360 with 1 Axes>"
      ]
     },
     "metadata": {
      "needs_background": "light"
     },
     "output_type": "display_data"
    }
   ],
   "source": [
    "dfs = {}\n",
    "for data_id in ['kleinsitver', 'listgarten', 'listgarten_indel']:\n",
    "    in_vitro_clv = []\n",
    "    in_vivo_clv = []\n",
    "    for model_id in range(5):\n",
    "        tmp = res[(model_id, data_id)]\n",
    "        in_vitro_clv.append(tmp['old_clv'])\n",
    "        in_vivo_clv.append(tmp['new_clv'])\n",
    "    df = pd.DataFrame({\n",
    "        'in_vitro_clv': np.array(in_vitro_clv).mean(axis=0), \n",
    "        'in_vivo_clv': np.array(in_vivo_clv).mean(axis=0)})\n",
    "    df['in_vitro_clv_bin'] = pd.cut(df['in_vitro_clv'], [-7.1] + np.arange(-6.5, -1, 0.5).tolist())\n",
    "    dfs[data_id] = df\n",
    "    fig, ax = plt.subplots(1,1,figsize=(8,5))\n",
    "    sns.boxplot(x='in_vitro_clv_bin', y='in_vivo_clv', data=df, ax=ax)\n",
    "    _ = ax.set_xticklabels(np.arange(-6.5, -1, 0.5).tolist())\n",
    "    ax.set_title(data_id)\n",
    "    ax.set_xlabel('In Vitro predicted cleavage')\n",
    "    ax.set_ylabel('In Vivo predicted cleavage')    "
   ]
  },
  {
   "cell_type": "code",
   "execution_count": 14,
   "id": "83b0b519",
   "metadata": {},
   "outputs": [
    {
     "data": {
      "text/html": [
       "<div>\n",
       "<style scoped>\n",
       "    .dataframe tbody tr th:only-of-type {\n",
       "        vertical-align: middle;\n",
       "    }\n",
       "\n",
       "    .dataframe tbody tr th {\n",
       "        vertical-align: top;\n",
       "    }\n",
       "\n",
       "    .dataframe thead th {\n",
       "        text-align: right;\n",
       "    }\n",
       "</style>\n",
       "<table border=\"1\" class=\"dataframe\">\n",
       "  <thead>\n",
       "    <tr style=\"text-align: right;\">\n",
       "      <th></th>\n",
       "      <th>in_vitro_clv</th>\n",
       "      <th>in_vivo_clv</th>\n",
       "      <th>in_vitro_clv_bin</th>\n",
       "      <th>y_obs</th>\n",
       "    </tr>\n",
       "  </thead>\n",
       "  <tbody>\n",
       "    <tr>\n",
       "      <th>95789</th>\n",
       "      <td>-5.553682</td>\n",
       "      <td>-1.763735</td>\n",
       "      <td>(-6.0, -5.5]</td>\n",
       "      <td>1</td>\n",
       "    </tr>\n",
       "    <tr>\n",
       "      <th>95791</th>\n",
       "      <td>-5.753591</td>\n",
       "      <td>-1.636075</td>\n",
       "      <td>(-6.0, -5.5]</td>\n",
       "      <td>1</td>\n",
       "    </tr>\n",
       "    <tr>\n",
       "      <th>95794</th>\n",
       "      <td>-5.356524</td>\n",
       "      <td>-1.774548</td>\n",
       "      <td>(-5.5, -5.0]</td>\n",
       "      <td>1</td>\n",
       "    </tr>\n",
       "    <tr>\n",
       "      <th>95796</th>\n",
       "      <td>-5.196607</td>\n",
       "      <td>-1.906012</td>\n",
       "      <td>(-5.5, -5.0]</td>\n",
       "      <td>1</td>\n",
       "    </tr>\n",
       "    <tr>\n",
       "      <th>95797</th>\n",
       "      <td>-5.715512</td>\n",
       "      <td>-1.848067</td>\n",
       "      <td>(-6.0, -5.5]</td>\n",
       "      <td>1</td>\n",
       "    </tr>\n",
       "    <tr>\n",
       "      <th>95803</th>\n",
       "      <td>-6.625443</td>\n",
       "      <td>-1.551159</td>\n",
       "      <td>(-7.1, -6.5]</td>\n",
       "      <td>1</td>\n",
       "    </tr>\n",
       "    <tr>\n",
       "      <th>95810</th>\n",
       "      <td>-5.305200</td>\n",
       "      <td>-1.387211</td>\n",
       "      <td>(-5.5, -5.0]</td>\n",
       "      <td>1</td>\n",
       "    </tr>\n",
       "    <tr>\n",
       "      <th>95811</th>\n",
       "      <td>-5.172741</td>\n",
       "      <td>-1.750070</td>\n",
       "      <td>(-5.5, -5.0]</td>\n",
       "      <td>1</td>\n",
       "    </tr>\n",
       "    <tr>\n",
       "      <th>95815</th>\n",
       "      <td>-5.055985</td>\n",
       "      <td>-1.504634</td>\n",
       "      <td>(-5.5, -5.0]</td>\n",
       "      <td>1</td>\n",
       "    </tr>\n",
       "    <tr>\n",
       "      <th>95816</th>\n",
       "      <td>-6.894896</td>\n",
       "      <td>-1.888164</td>\n",
       "      <td>(-7.1, -6.5]</td>\n",
       "      <td>1</td>\n",
       "    </tr>\n",
       "    <tr>\n",
       "      <th>95817</th>\n",
       "      <td>-6.407876</td>\n",
       "      <td>-1.713319</td>\n",
       "      <td>(-6.5, -6.0]</td>\n",
       "      <td>1</td>\n",
       "    </tr>\n",
       "    <tr>\n",
       "      <th>95823</th>\n",
       "      <td>-5.598268</td>\n",
       "      <td>-1.702078</td>\n",
       "      <td>(-6.0, -5.5]</td>\n",
       "      <td>1</td>\n",
       "    </tr>\n",
       "  </tbody>\n",
       "</table>\n",
       "</div>"
      ],
      "text/plain": [
       "       in_vitro_clv  in_vivo_clv in_vitro_clv_bin  y_obs\n",
       "95789     -5.553682    -1.763735     (-6.0, -5.5]      1\n",
       "95791     -5.753591    -1.636075     (-6.0, -5.5]      1\n",
       "95794     -5.356524    -1.774548     (-5.5, -5.0]      1\n",
       "95796     -5.196607    -1.906012     (-5.5, -5.0]      1\n",
       "95797     -5.715512    -1.848067     (-6.0, -5.5]      1\n",
       "95803     -6.625443    -1.551159     (-7.1, -6.5]      1\n",
       "95810     -5.305200    -1.387211     (-5.5, -5.0]      1\n",
       "95811     -5.172741    -1.750070     (-5.5, -5.0]      1\n",
       "95815     -5.055985    -1.504634     (-5.5, -5.0]      1\n",
       "95816     -6.894896    -1.888164     (-7.1, -6.5]      1\n",
       "95817     -6.407876    -1.713319     (-6.5, -6.0]      1\n",
       "95823     -5.598268    -1.702078     (-6.0, -5.5]      1"
      ]
     },
     "execution_count": 14,
     "metadata": {},
     "output_type": "execute_result"
    }
   ],
   "source": [
    "data_id = 'kleinsitver'\n",
    "#data_id = 'listgarten'\n",
    "#data_id = 'listgarten_indel'\n",
    "dfs[data_id]['y_obs'] = data_cache[data_id][1]\n",
    "diff_df = dfs[data_id].query(\"in_vitro_clv< -5 and in_vivo_clv> -2 and y_obs==1\")\n",
    "diff_df"
   ]
  },
  {
   "cell_type": "code",
   "execution_count": 15,
   "id": "f2fb1cfe",
   "metadata": {},
   "outputs": [
    {
     "name": "stdout",
     "output_type": "stream",
     "text": [
      "0.3616882263629 0.22789077430342408\n"
     ]
    }
   ],
   "source": [
    "# sanity check\n",
    "from sklearn import metrics\n",
    "print(\n",
    "    metrics.average_precision_score(dfs[data_id]['y_obs'], dfs[data_id]['in_vivo_clv']),\n",
    "    metrics.average_precision_score(dfs[data_id]['y_obs'], dfs[data_id]['in_vitro_clv']),\n",
    ")"
   ]
  },
  {
   "cell_type": "code",
   "execution_count": 16,
   "id": "6e9cd544",
   "metadata": {},
   "outputs": [
    {
     "data": {
      "text/plain": [
       "\"\\nscore = permute_seq(model, data_cache['kleinsitver'][0][diff_df.index[0]])\\nfig, ax = plt.subplots(1,1, figsize=(12,5))\\nrdgn = sns.diverging_palette(h_neg=220, h_pos=0, s=99, l=70, sep=10, n=10, as_cmap=True)\\nsns.heatmap(score.T, center=0, cmap=rdgn, ax=ax)\\n\""
      ]
     },
     "execution_count": 16,
     "metadata": {},
     "output_type": "execute_result"
    }
   ],
   "source": [
    "def permute_seq(model, x):\n",
    "    score = np.zeros((25,4))\n",
    "    old = model.predict(x[np.newaxis, ...])\n",
    "    for i in range(25):\n",
    "        for j in range(4):\n",
    "            _x = x.copy()\n",
    "            _x[i, 0:4] = 0\n",
    "            _x[i,j] = 1\n",
    "            new = model.predict(_x[np.newaxis, ...])\n",
    "            score[i,j] = new - old\n",
    "    return score\n",
    "\n",
    "\"\"\"\n",
    "score = permute_seq(model, data_cache['kleinsitver'][0][diff_df.index[0]])\n",
    "fig, ax = plt.subplots(1,1, figsize=(12,5))\n",
    "rdgn = sns.diverging_palette(h_neg=220, h_pos=0, s=99, l=70, sep=10, n=10, as_cmap=True)\n",
    "sns.heatmap(score.T, center=0, cmap=rdgn, ax=ax)\n",
    "\"\"\""
   ]
  },
  {
   "cell_type": "code",
   "execution_count": 17,
   "id": "250f0a5a",
   "metadata": {},
   "outputs": [],
   "source": [
    "def get_base_kinn_model(model):\n",
    "    layer_dict = {l.name:l for l in model.layers}\n",
    "    k_layer_name = [x for x in layer_dict if x.startswith(\"kinn_\")][0]\n",
    "    seq_ohe = model.inputs[0]\n",
    "    seq_ohe = tf.gather(seq_ohe, layer_dict[k_layer_name].channels, axis=-1)\n",
    "    inp_list = layer_dict[k_layer_name].mb.blockify_seq_ohe(seq_ohe)\n",
    "    kinn_rates = layer_dict[k_layer_name].kinn_header(inp_list)\n",
    "    clv = layer_dict[k_layer_name].kinn_body(kinn_rates)\n",
    "    kinetic_model = tf.keras.models.Model(\n",
    "        inputs = model.inputs,\n",
    "        outputs = clv\n",
    "    )\n",
    "    return kinetic_model"
   ]
  },
  {
   "cell_type": "code",
   "execution_count": 18,
   "id": "8c69d453",
   "metadata": {},
   "outputs": [],
   "source": [
    "def get_shap(model, kinn, x):\n",
    "    bg_seq = np.zeros((1,25,13))\n",
    "    e=shap.GradientExplainer(model, bg_seq, batch_size=25000)\n",
    "    e2=shap.GradientExplainer(kinn, bg_seq, batch_size=25000)\n",
    "    res = e.shap_values(X=x)\n",
    "    res2 = e2.shap_values(X=x)\n",
    "    diff = (res[0]/np.abs(res[0]).max()-res2[0]/np.abs(res2[0]).max()).squeeze().T\n",
    "    diff = diff/np.abs(diff).max()\n",
    "    return res[0], res2[0], diff\n",
    "\n",
    "def get_diff_df(data_id):\n",
    "    dfs[data_id]['y_obs'] = data_cache[data_id][1]\n",
    "    diff_df = dfs[data_id].query(\"in_vitro_clv< -5 and in_vivo_clv> -2 and y_obs==1\")\n",
    "    diff_df['clv_diff'] = diff_df['in_vitro_clv'] - diff_df['in_vivo_clv']\n",
    "    return diff_df.sort_values('clv_diff', ascending=True)\n",
    "\n"
   ]
  },
  {
   "cell_type": "code",
   "execution_count": 19,
   "id": "a66c427d",
   "metadata": {},
   "outputs": [],
   "source": [
    "import numpy as np\n",
    "import matplotlib.pyplot as plt\n",
    "from matplotlib.collections import PatchCollection\n",
    "from matplotlib import colors\n",
    "\n",
    "\n",
    "def mat_to_seq(annot):\n",
    "    letters = list('ACGT')\n",
    "    seq_ohe = annot[:, 0:4]\n",
    "    s = [letters[np.where(x)[0][0]] if np.sum(x)==1 else 'N' for x in seq_ohe]\n",
    "    return s\n",
    "\n",
    "\n",
    "def heatmap_with_circle(s, c, annot, remove_indel=False):\n",
    "    N = 13 if remove_indel is False else 8\n",
    "    M = 25\n",
    "    letters = 'ACGT'\n",
    "    ylabels = list(letters) + ['s-%s'%x for x in letters]\n",
    "    if remove_indel: \n",
    "        s = s[0:8]\n",
    "        c = c[0:8]\n",
    "    else:\n",
    "        ylabel +=  ['i-%s'%x for x in letters] + ['d']\n",
    "    #xlabels = np.arange(1, M+1)\n",
    "    xlabels = mat_to_seq(annot)\n",
    "\n",
    "    x, y = np.meshgrid(np.arange(M), np.arange(N))\n",
    "    #s = np.random.randint(0, 180, size=(N,M))\n",
    "    #c = np.random.rand(N, M)-0.5\n",
    "\n",
    "    fig, ax = plt.subplots(1,1,figsize=(12,5))\n",
    "\n",
    "    R = s/s.max()/2\n",
    "    circles = [plt.Circle((j,i), radius=r, alpha=r) for r, j, i in zip(R.flat, x.flat, y.flat)]\n",
    "    rdgn = sns.diverging_palette(h_neg=220, h_pos=0, s=99, l=70, sep=10, n=10, as_cmap=True)\n",
    "    divnorm=colors.TwoSlopeNorm(vmin=-0.5, vcenter=0., vmax=0.5)\n",
    "    col = PatchCollection(circles, array=c.flatten(), cmap=rdgn, norm=divnorm)\n",
    "    ax.add_collection(col)\n",
    "\n",
    "    ax.set(xticks=np.arange(M), yticks=np.arange(N),\n",
    "           xticklabels=xlabels, yticklabels=ylabels)\n",
    "    ax.set_xticks(np.arange(M+1)-0.5, minor=True)\n",
    "    ax.set_yticks(np.arange(N+1)-0.5, minor=True)\n",
    "    ax.grid(which='minor')\n",
    "\n",
    "    fig.colorbar(col)\n",
    "    plt.gca().invert_yaxis()\n",
    "    return fig, ax"
   ]
  },
  {
   "cell_type": "code",
   "execution_count": 20,
   "id": "44aa866b",
   "metadata": {},
   "outputs": [
    {
     "name": "stdout",
     "output_type": "stream",
     "text": [
      "0\n"
     ]
    },
    {
     "name": "stderr",
     "output_type": "stream",
     "text": [
      "\n",
      "A value is trying to be set on a copy of a slice from a DataFrame.\n",
      "Try using .loc[row_indexer,col_indexer] = value instead\n",
      "\n",
      "See the caveats in the documentation: https://pandas.pydata.org/pandas-docs/stable/user_guide/indexing.html#returning-a-view-versus-a-copy\n"
     ]
    },
    {
     "data": {
      "application/vnd.jupyter.widget-view+json": {
       "model_id": "5de838a6ee0441999848fcd63be12779",
       "version_major": 2,
       "version_minor": 0
      },
      "text/plain": [
       "  0%|          | 0/12 [00:00<?, ?it/s]"
      ]
     },
     "metadata": {},
     "output_type": "display_data"
    },
    {
     "name": "stdout",
     "output_type": "stream",
     "text": [
      "1\n"
     ]
    },
    {
     "data": {
      "application/vnd.jupyter.widget-view+json": {
       "model_id": "a0bb7f3f5ae44109b1986cd193baaa8f",
       "version_major": 2,
       "version_minor": 0
      },
      "text/plain": [
       "  0%|          | 0/12 [00:00<?, ?it/s]"
      ]
     },
     "metadata": {},
     "output_type": "display_data"
    },
    {
     "name": "stdout",
     "output_type": "stream",
     "text": [
      "2\n"
     ]
    },
    {
     "data": {
      "application/vnd.jupyter.widget-view+json": {
       "model_id": "823c6002e8d646bb8f83e58d5840dc25",
       "version_major": 2,
       "version_minor": 0
      },
      "text/plain": [
       "  0%|          | 0/12 [00:00<?, ?it/s]"
      ]
     },
     "metadata": {},
     "output_type": "display_data"
    },
    {
     "name": "stdout",
     "output_type": "stream",
     "text": [
      "3\n"
     ]
    },
    {
     "data": {
      "application/vnd.jupyter.widget-view+json": {
       "model_id": "62a7b8b29d5d40c3bf091df22ac99762",
       "version_major": 2,
       "version_minor": 0
      },
      "text/plain": [
       "  0%|          | 0/12 [00:00<?, ?it/s]"
      ]
     },
     "metadata": {},
     "output_type": "display_data"
    },
    {
     "name": "stdout",
     "output_type": "stream",
     "text": [
      "4\n"
     ]
    },
    {
     "data": {
      "application/vnd.jupyter.widget-view+json": {
       "model_id": "a40f4083e0ec4b859aa1e073695d41f0",
       "version_major": 2,
       "version_minor": 0
      },
      "text/plain": [
       "  0%|          | 0/12 [00:00<?, ?it/s]"
      ]
     },
     "metadata": {},
     "output_type": "display_data"
    },
    {
     "name": "stderr",
     "output_type": "stream",
     "text": [
      "invalid value encountered in true_divide\n",
      "\n",
      "A value is trying to be set on a copy of a slice from a DataFrame.\n",
      "Try using .loc[row_indexer,col_indexer] = value instead\n",
      "\n",
      "See the caveats in the documentation: https://pandas.pydata.org/pandas-docs/stable/user_guide/indexing.html#returning-a-view-versus-a-copy\n"
     ]
    },
    {
     "name": "stdout",
     "output_type": "stream",
     "text": [
      "0\n"
     ]
    },
    {
     "data": {
      "application/vnd.jupyter.widget-view+json": {
       "model_id": "d6372b2e165548b1a9c7188c366cf9bc",
       "version_major": 2,
       "version_minor": 0
      },
      "text/plain": [
       "  0%|          | 0/9 [00:00<?, ?it/s]"
      ]
     },
     "metadata": {},
     "output_type": "display_data"
    },
    {
     "name": "stdout",
     "output_type": "stream",
     "text": [
      "1\n"
     ]
    },
    {
     "data": {
      "application/vnd.jupyter.widget-view+json": {
       "model_id": "9bab5495111944de849cdbb97046860c",
       "version_major": 2,
       "version_minor": 0
      },
      "text/plain": [
       "  0%|          | 0/9 [00:00<?, ?it/s]"
      ]
     },
     "metadata": {},
     "output_type": "display_data"
    },
    {
     "name": "stdout",
     "output_type": "stream",
     "text": [
      "2\n"
     ]
    },
    {
     "data": {
      "application/vnd.jupyter.widget-view+json": {
       "model_id": "ea8c8ff075a74a91822a99b54e2bfce5",
       "version_major": 2,
       "version_minor": 0
      },
      "text/plain": [
       "  0%|          | 0/9 [00:00<?, ?it/s]"
      ]
     },
     "metadata": {},
     "output_type": "display_data"
    },
    {
     "name": "stdout",
     "output_type": "stream",
     "text": [
      "3\n"
     ]
    },
    {
     "data": {
      "application/vnd.jupyter.widget-view+json": {
       "model_id": "64e0088b1caf4786a6e140344dcfa716",
       "version_major": 2,
       "version_minor": 0
      },
      "text/plain": [
       "  0%|          | 0/9 [00:00<?, ?it/s]"
      ]
     },
     "metadata": {},
     "output_type": "display_data"
    },
    {
     "name": "stdout",
     "output_type": "stream",
     "text": [
      "4\n"
     ]
    },
    {
     "data": {
      "application/vnd.jupyter.widget-view+json": {
       "model_id": "9a66a0fb114d48d49385116e099b3f91",
       "version_major": 2,
       "version_minor": 0
      },
      "text/plain": [
       "  0%|          | 0/9 [00:00<?, ?it/s]"
      ]
     },
     "metadata": {},
     "output_type": "display_data"
    },
    {
     "name": "stderr",
     "output_type": "stream",
     "text": [
      "invalid value encountered in true_divide\n",
      "\n",
      "A value is trying to be set on a copy of a slice from a DataFrame.\n",
      "Try using .loc[row_indexer,col_indexer] = value instead\n",
      "\n",
      "See the caveats in the documentation: https://pandas.pydata.org/pandas-docs/stable/user_guide/indexing.html#returning-a-view-versus-a-copy\n"
     ]
    },
    {
     "name": "stdout",
     "output_type": "stream",
     "text": [
      "0\n"
     ]
    },
    {
     "data": {
      "application/vnd.jupyter.widget-view+json": {
       "model_id": "5ef93a1436b2443a856cdeb268894a3f",
       "version_major": 2,
       "version_minor": 0
      },
      "text/plain": [
       "  0%|          | 0/8 [00:00<?, ?it/s]"
      ]
     },
     "metadata": {},
     "output_type": "display_data"
    },
    {
     "name": "stdout",
     "output_type": "stream",
     "text": [
      "1\n"
     ]
    },
    {
     "data": {
      "application/vnd.jupyter.widget-view+json": {
       "model_id": "40e9526db0534feab81cdd93f5f02b34",
       "version_major": 2,
       "version_minor": 0
      },
      "text/plain": [
       "  0%|          | 0/8 [00:00<?, ?it/s]"
      ]
     },
     "metadata": {},
     "output_type": "display_data"
    },
    {
     "name": "stdout",
     "output_type": "stream",
     "text": [
      "2\n"
     ]
    },
    {
     "data": {
      "application/vnd.jupyter.widget-view+json": {
       "model_id": "f9b6009d47054bc9959377791e85cfa6",
       "version_major": 2,
       "version_minor": 0
      },
      "text/plain": [
       "  0%|          | 0/8 [00:00<?, ?it/s]"
      ]
     },
     "metadata": {},
     "output_type": "display_data"
    },
    {
     "name": "stdout",
     "output_type": "stream",
     "text": [
      "3\n"
     ]
    },
    {
     "data": {
      "application/vnd.jupyter.widget-view+json": {
       "model_id": "1ec541c1b87648b08fd8fc5711330163",
       "version_major": 2,
       "version_minor": 0
      },
      "text/plain": [
       "  0%|          | 0/8 [00:00<?, ?it/s]"
      ]
     },
     "metadata": {},
     "output_type": "display_data"
    },
    {
     "name": "stdout",
     "output_type": "stream",
     "text": [
      "4\n"
     ]
    },
    {
     "data": {
      "application/vnd.jupyter.widget-view+json": {
       "model_id": "ddcc9b6b3f994deb9da3d89982c436fd",
       "version_major": 2,
       "version_minor": 0
      },
      "text/plain": [
       "  0%|          | 0/8 [00:00<?, ?it/s]"
      ]
     },
     "metadata": {},
     "output_type": "display_data"
    },
    {
     "name": "stderr",
     "output_type": "stream",
     "text": [
      "invalid value encountered in true_divide\n"
     ]
    }
   ],
   "source": [
    "reload_shaps_from_disk = False\n",
    "shaps = {}\n",
    "\n",
    "for data_id in ['kleinsitver', 'listgarten', 'listgarten_indel']:\n",
    "    diff_df = get_diff_df(data_id)\n",
    "    for model_id, model in enumerate(model_ensemble):\n",
    "        print(model_id)\n",
    "        model = model_ensemble[model_id]\n",
    "        kinn = get_base_kinn_model(model)\n",
    "        for idx in tqdm(diff_df.index):\n",
    "            x=data_cache[data_id][0][[idx]]\n",
    "            res, res2, diff = get_shap(model, kinn, x)\n",
    "            shaps[(model_id, data_id, idx)] = diff\n",
    "\n",
    "with open('./outputs/analysis/transfer_learning.shaps.pkl', 'wb') as f:\n",
    "    pickle.dump(shaps, f)"
   ]
  },
  {
   "cell_type": "code",
   "execution_count": 21,
   "id": "9ea60ed2",
   "metadata": {},
   "outputs": [],
   "source": [
    "# concat shaps by datapoints\n",
    "shaps_agg = {}\n",
    "_shaps_agg = defaultdict(list)\n",
    "for k, diff in shaps.items():\n",
    "    model_id, data_id, idx = k\n",
    "    if np.isnan(diff.sum()):\n",
    "        continue\n",
    "    _shaps_agg[(data_id, idx)].append(diff)\n",
    "\n",
    "for k,v in _shaps_agg.items():\n",
    "    tmp = np.array(_shaps_agg[k])\n",
    "    shaps_agg[k] = tmp.mean(axis=0), 1/(tmp.var(axis=0)+0.1)"
   ]
  },
  {
   "cell_type": "code",
   "execution_count": 26,
   "id": "bfd22d55",
   "metadata": {
    "scrolled": false
   },
   "outputs": [
    {
     "name": "stdout",
     "output_type": "stream",
     "text": [
      "('listgarten', 383451)\n"
     ]
    },
    {
     "data": {
      "text/plain": [
       "<AxesSubplot:>"
      ]
     },
     "execution_count": 26,
     "metadata": {},
     "output_type": "execute_result"
    },
    {
     "data": {
      "image/png": "[encoded data removed]",
      "text/plain": [
       "<Figure size 864x360 with 2 Axes>"
      ]
     },
     "metadata": {
      "needs_background": "light"
     },
     "output_type": "display_data"
    }
   ],
   "source": [
    "ks = [k for k in shaps_agg]\n",
    "k = ks[16]\n",
    "print(k)\n",
    "x = data_cache[k[0]][0][k[1]]\n",
    "fig, ax = plt.subplots(1,1, figsize=(12,5))\n",
    "rdgn = sns.diverging_palette(h_neg=220, h_pos=0, s=99, l=70, sep=10, n=10, as_cmap=True)\n",
    "sns.heatmap(shaps_agg[k][0], annot=x.squeeze().T, center=0, cmap=rdgn, ax=ax)"
   ]
  },
  {
   "cell_type": "code",
   "execution_count": 27,
   "id": "7d36792d",
   "metadata": {},
   "outputs": [
    {
     "data": {
      "text/plain": [
       "Text(0.5, 1.0, 'In Vivo=-1.26\\nIn Vitro=-5.44')"
      ]
     },
     "execution_count": 27,
     "metadata": {},
     "output_type": "execute_result"
    },
    {
     "data": {
      "image/png": "[encoded data removed]",
      "text/plain": [
       "<Figure size 864x360 with 2 Axes>"
      ]
     },
     "metadata": {
      "needs_background": "light"
     },
     "output_type": "display_data"
    }
   ],
   "source": [
    "c = shaps_agg[k][0].copy()\n",
    "c[c==0] = np.nan\n",
    "s = shaps_agg[k][1]\n",
    "annot = data_cache[k[0]][0][k[1]]\n",
    "fig, ax = heatmap_with_circle(c=c, s=s, annot=annot, remove_indel=True)\n",
    "ax.set_title(\"In Vivo=%.2f\\nIn Vitro=%.2f\" % (dfs[k[0]].loc[k[1], 'in_vivo_clv'], dfs[k[0]].loc[k[1], 'in_vitro_clv'], ))"
   ]
  },
  {
   "cell_type": "markdown",
   "id": "13f215eb",
   "metadata": {},
   "source": [
    "Not used: bokeh bubble heatmap:\n",
    "\n",
    "```python\n",
    "from bokeh.models import ColumnDataSource, Label, LabelSet, Range1d, LinearColorMapper\n",
    "from bokeh.plotting import figure, output_file, show\n",
    "from bokeh.palettes import RdBu\n",
    "\n",
    "\n",
    "def bubble_heatmap(mean, vals, var=None):\n",
    "    N = 25\n",
    "    M = 13\n",
    "    #output_file(\"label.html\", title=\"label.py example\")\n",
    "    coords = np.array([[i,j] for i in range(N) for j in range(M)]).T\n",
    "    var = np.ones_like(mean)*10 if var is None else var\n",
    "    source = ColumnDataSource(data=dict(x=coords[0],\n",
    "                                        y=coords[1],\n",
    "                                        var=var.flatten(),\n",
    "                                        mean=mean.flatten(),\n",
    "                                        vals=vals.flatten()))\n",
    "    colors = list(RdBu[9])\n",
    "    exp_cmap = LinearColorMapper(palette=colors, \n",
    "                                 low = -1, \n",
    "                                 high = 1)\n",
    "\n",
    "    p = figure(title='Dist. of 10th Grade Students at Lee High',\n",
    "               x_range=Range1d(-2,N+1),\n",
    "               y_range=Range1d(-2,M+1)\n",
    "              )\n",
    "    p.scatter(x='x', y='y', source=source, size=\"var\",\n",
    "             fill_color={\"field\":\"mean\", \"transform\":exp_cmap}\n",
    "             )\n",
    "    p.xaxis[0].axis_label = 'Basepair'\n",
    "    p.yaxis[0].axis_label = 'SHAP values'\n",
    "\n",
    "    labels = LabelSet(x='x', y='y', text='vals',\n",
    "                  x_offset=0, y_offset=0, source=source, render_mode='canvas')\n",
    "\n",
    "\n",
    "    p.add_layout(labels)\n",
    "    show(p)\n",
    "\n",
    "bubble_heatmap(mean=res.squeeze().T, vals=x.squeeze().T)\n",
    "```"
   ]
  },
  {
   "cell_type": "code",
   "execution_count": 28,
   "id": "1d3b780c",
   "metadata": {},
   "outputs": [
    {
     "name": "stdout",
     "output_type": "stream",
     "text": [
      "Last updated: Fri Nov 18 2022\n",
      "\n",
      "Python implementation: CPython\n",
      "Python version       : 3.7.9\n",
      "IPython version      : 7.22.0\n",
      "\n",
      "h5py      : 2.10.0\n",
      "scipy     : 1.7.3\n",
      "src       : 0.0.3\n",
      "seaborn   : 0.11.1\n",
      "shap      : 0.41.0\n",
      "tensorflow: 1.15.0\n",
      "matplotlib: 3.4.3\n",
      "pandas    : 1.0.3\n",
      "sklearn   : 0.0\n",
      "numpy     : 1.19.5\n",
      "\n",
      "Watermark: 2.3.1\n",
      "\n"
     ]
    }
   ],
   "source": [
    "%load_ext watermark\n",
    "%watermark -n -u -v -iv -w"
   ]
  },
  {
   "cell_type": "code",
   "execution_count": null,
   "id": "f5218c8e",
   "metadata": {},
   "outputs": [],
   "source": []
  }
 ],
 "metadata": {
  "kernelspec": {
   "display_name": "Python 3",
   "language": "python",
   "name": "python3"
  },
  "language_info": {
   "codemirror_mode": {
    "name": "ipython",
    "version": 3
   },
   "file_extension": ".py",
   "mimetype": "text/x-python",
   "name": "python",
   "nbconvert_exporter": "python",
   "pygments_lexer": "ipython3",
   "version": "3.7.9"
  }
 },
 "nbformat": 4,
 "nbformat_minor": 5
}
