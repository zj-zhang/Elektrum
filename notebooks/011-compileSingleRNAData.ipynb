{
 "cells": [
  {
   "cell_type": "code",
   "execution_count": 4,
   "metadata": {
    "ExecuteTime": {
     "end_time": "2022-01-24T22:09:13.780238Z",
     "start_time": "2022-01-24T22:09:13.769471Z"
    }
   },
   "outputs": [
    {
     "name": "stdout",
     "output_type": "stream",
     "text": [
      "/mnt/ceph/users/alamson/DATA/CRISPR/crispr_kinn\n"
     ]
    }
   ],
   "source": [
    "%cd /mnt/home/alamson/ceph/DATA/CRISPR/crispr_kinn"
   ]
  },
  {
   "cell_type": "code",
   "execution_count": 5,
   "metadata": {
    "ExecuteTime": {
     "end_time": "2022-01-24T22:09:14.369808Z",
     "start_time": "2022-01-24T22:09:14.364055Z"
    }
   },
   "outputs": [],
   "source": [
    "import numpy as np\n",
    "import pandas as pd\n",
    "from Bio import pairwise2\n",
    "from Bio.Seq import Seq\n",
    "from sklearn.preprocessing import scale\n",
    "import seaborn as sns\n",
    "import warnings\n",
    "warnings.filterwarnings('ignore')"
   ]
  },
  {
   "cell_type": "code",
   "execution_count": 6,
   "metadata": {
    "ExecuteTime": {
     "end_time": "2022-01-24T22:09:14.797939Z",
     "start_time": "2022-01-24T22:09:14.782919Z"
    }
   },
   "outputs": [
    {
     "data": {
      "text/plain": [
       "{('A', 'A'): 0,\n",
       " ('C', 'C'): 1,\n",
       " ('G', 'G'): 2,\n",
       " ('T', 'T'): 3,\n",
       " ('A', 'C'): (0, 5),\n",
       " ('A', 'G'): (0, 6),\n",
       " ('A', 'T'): (0, 7),\n",
       " ('C', 'A'): (1, 4),\n",
       " ('C', 'G'): (1, 6),\n",
       " ('C', 'T'): (1, 7),\n",
       " ('G', 'A'): (2, 4),\n",
       " ('G', 'C'): (2, 5),\n",
       " ('G', 'T'): (2, 7),\n",
       " ('T', 'A'): (3, 4),\n",
       " ('T', 'C'): (3, 5),\n",
       " ('T', 'G'): (3, 6)}"
      ]
     },
     "execution_count": 6,
     "metadata": {},
     "output_type": "execute_result"
    }
   ],
   "source": [
    "# pre-defined letter index\n",
    "build_indel = False\n",
    "# match : 4 letters, 0-3\n",
    "ltidx = {(x,x):i for i,x in enumerate('ACGT')}\n",
    "# substitution : x->y, 4-7\n",
    "ltidx.update({(x,y):(ltidx[(x,x)], i+4) for x in 'ACGT' for i, y in enumerate('ACGT') if y!=x })\n",
    "if build_indel:\n",
    "    # insertion : NA->y, 8-11\n",
    "    ltidx.update({('-', x):i+8 for i,x in enumerate('ACGT')})\n",
    "    # deletion : x->NA, 12\n",
    "    ltidx.update({(x,'-'):(ltidx[(x,x)], 12) for i,x in enumerate('ACGT')})\n",
    "ltidx"
   ]
  },
  {
   "cell_type": "code",
   "execution_count": 7,
   "metadata": {
    "ExecuteTime": {
     "end_time": "2022-01-24T22:09:15.434112Z",
     "start_time": "2022-01-24T22:09:15.413751Z"
    }
   },
   "outputs": [],
   "source": [
    "def make_alignment(df, maxlen=25):\n",
    "    ref = Seq(df.iloc[0]['sequence'])\n",
    "    ref = ref[::-1]\n",
    "    alignments = []\n",
    "    for seq in df['sequence']:\n",
    "        alt = Seq(seq)\n",
    "        alt = alt[::-1]\n",
    "        # m: A match score is the score of identical chars, otherwise mismatch score\n",
    "        # d: The sequences have different open and extend gap penalties.\n",
    "        aln = pairwise2.align.localxd(ref, alt, -1, -0.1, -1, 0)\n",
    "        if len(aln[0][0]) > maxlen: # increase gap open penalty to avoid too many gaps\n",
    "            aln = pairwise2.align.localxd(ref, alt, -5, -0.1, -5, 0)\n",
    "            if len(aln[0][0]) > maxlen:\n",
    "                aln = [(ref, alt)]\n",
    "        alignments.append(aln[0])\n",
    "    return alignments\n",
    "\n",
    "\n",
    "def featurize_alignment(alignments, maxlen=25, verbose=False):\n",
    "    mats = []\n",
    "    for j, aln in enumerate(alignments):\n",
    "        if build_indel:\n",
    "            fea = np.zeros((maxlen, 13))\n",
    "        else:\n",
    "            fea = np.zeros((maxlen, 8))\n",
    "            \n",
    "        assert len(aln[0]) <= maxlen, \"alignment {} larger than maxlen: {}\".format(j, aln)\n",
    "        if build_indel is False and ('-' in aln[0] or '-' in aln[1]):\n",
    "            mats.append(None)\n",
    "        else:\n",
    "            p = 0\n",
    "            for i in range(len(aln[0])):\n",
    "                k = (aln[0][i], aln[1][i])\n",
    "                fea[p, ltidx[k]] = 1\n",
    "                p += 1\n",
    "                #if k[0]==\"-\" or k[1]==\"-\": # is indel\n",
    "                #    if build_indel:\n",
    "                #        fea[p, ltidx[k]] = 1\n",
    "                #        p += 1\n",
    "                    #elif k[1]==\"-\": # target has gap - deletion\n",
    "                    #    fea[p, ltidx[k]] = 1\n",
    "                    #    p += 1\n",
    "                    #else:           # gRNA has gap - insertion\n",
    "                    #    fea[max(0,p-1), ltidx[k]] = 1\n",
    "                #else:\n",
    "                #    fea[p, ltidx[k]] = 1\n",
    "                #    p += 1\n",
    "                if verbose: print(k, p)\n",
    "            mats.append(fea)\n",
    "    return mats\n",
    "\n",
    "def get_cleavage_specificity(df, label_cols):\n",
    "    k_m = df.query('descriptor==\"Matched\"')[label_cols].to_numpy()\n",
    "    df[['%s_specificity'%x for x in label_cols]] = k_m - df[label_cols]\n",
    "    return df"
   ]
  },
  {
   "cell_type": "code",
   "execution_count": 8,
   "metadata": {
    "ExecuteTime": {
     "end_time": "2022-01-24T22:09:16.455167Z",
     "start_time": "2022-01-24T22:09:16.452148Z"
    }
   },
   "outputs": [],
   "source": [
    "#featurize_alignment([alns1[112]], verbose=True)\n",
    "#featurize_alignment([alns1[72]], verbose=True)"
   ]
  },
  {
   "cell_type": "code",
   "execution_count": 16,
   "metadata": {
    "ExecuteTime": {
     "end_time": "2022-01-24T22:11:48.316258Z",
     "start_time": "2022-01-24T22:11:46.507848Z"
    }
   },
   "outputs": [
    {
     "name": "stdout",
     "output_type": "stream",
     "text": [
      "df1 (6988, 18)\n",
      "df1\n",
      " wtCas9_cleave_rate_log       4.940656e-324\n",
      "Cas9_enh_cleave_rate_log      2.118523e-33\n",
      "Cas9_hypa_cleave_rate_log    4.940656e-324\n",
      "Cas9_HF1_cleave_rate_log     4.940656e-324\n",
      "dtype: float64\n",
      "df1, after log10\n",
      " wtCas9_cleave_rate_log      -323.306215\n",
      "Cas9_enh_cleave_rate_log     -32.673967\n",
      "Cas9_hypa_cleave_rate_log   -323.306215\n",
      "Cas9_HF1_cleave_rate_log    -323.306215\n",
      "dtype: float64\n",
      "(2488, 25, 8)\n",
      "(2488, 12)\n"
     ]
    }
   ],
   "source": [
    "# read\n",
    "df1 = pd.read_csv(\"./data/sgRNA_1.csv\")\n",
    "#df2 = pd.read_csv(\"./data/sgRNA_2.csv\")\n",
    "df1 = df1.dropna()\n",
    "#df2 = df2.dropna()\n",
    "\n",
    "print(\"df1\", df1.shape)\n",
    "#print(\"df2\", df2.shape)\n",
    "\n",
    "aba_cols = ['wtCas9_ndABA', \n",
    "    'Cas9_enh_ndABA',\n",
    "    'Cas9_hypa_ndABA', \n",
    "    'Cas9_HF1_ndABA', ]\n",
    "cl_cols = ['wtCas9_cleave_rate_log',\n",
    "    'Cas9_enh_cleave_rate_log',\n",
    "    'Cas9_hypa_cleave_rate_log',\n",
    "    'Cas9_HF1_cleave_rate_log',\n",
    "]\n",
    "\n",
    "# THIS IS IMPORTANT: df1 cleave rates seems to be non-negative, thus must be non-log\n",
    "print(\"df1\\n\", df1[cl_cols].min())\n",
    "#print(\"df2\\n\", df2[cl_cols].min())\n",
    "df1[cl_cols] = np.log10(df1[cl_cols])\n",
    "print(\"df1, after log10\\n\", df1[cl_cols].min())\n",
    "\n",
    "# clip at limit of detection\n",
    "LOD = 1e-5\n",
    "df1[cl_cols] = np.maximum(df1[cl_cols], np.log10(LOD))\n",
    "#df2[cl_cols] = np.maximum(df2[cl_cols], np.log10(LOD))\n",
    "LOD = 1e-1\n",
    "df1[cl_cols] = np.minimum(df1[cl_cols], np.log10(LOD))\n",
    "#df2[cl_cols] = np.minimum(df2[cl_cols], np.log10(LOD))\n",
    "\n",
    "\n",
    "df1 = get_cleavage_specificity(df1, cl_cols)\n",
    "#df2 = get_cleavage_specificity(df2, cl_cols)\n",
    "\n",
    "# convert\n",
    "alns1 = make_alignment(df1)\n",
    "#alns2 = make_alignment(df2)\n",
    "mats1 = featurize_alignment(alns1)\n",
    "#mats2 = featurize_alignment(alns2)\n",
    "\n",
    "val_idx1 = [i for i in range(len(mats1)) if mats1[i] is not None]\n",
    "#val_idx2 = [i for i in range(len(mats2)) if mats2[i] is not None]\n",
    "\n",
    "label_cols = cl_cols + ['%s_specificity'%x for x in cl_cols] + aba_cols\n",
    "label1 = df1[label_cols].to_numpy()[val_idx1]\n",
    "#label2 = df2[label_cols].to_numpy()[val_idx2]\n",
    "\n",
    "mats = np.array([mats1[i] for i in val_idx1])\n",
    "#mats = np.concatenate([np.array([mats1[i] for i in val_idx1]), np.array([mats2[i] for i in  val_idx2])])\n",
    "labels = label1\n",
    "#labels = np.concatenate([label1, label2])\n",
    "\n",
    "# sanity check\n",
    "if not build_indel:\n",
    "    for i in range(len(mats)):\n",
    "        assert sum(mats[i][-1]) == 0, i\n",
    "        assert sum(mats[i][-2]) == 0, i\n",
    "    #mats = mats[:, 0:23, :]\n",
    "\n",
    "print(mats.shape)\n",
    "print(labels.shape)\n",
    "\n",
    "# save\n",
    "np.save(\"data/compiled_sgRNA1_X.npy\", mats)\n",
    "np.save(\"data/compiled_sgRNA1_Y.npy\", labels)\n",
    "with open(\"data/x_col_annot.txt\", 'w') as f:\n",
    "    f.write(\"\\n\".join([str(x) for x in ltidx]))\n",
    "\n",
    "with open(\"data/y_col_annot.txt\", 'w') as f:\n",
    "    f.write(\"\\n\".join(label_cols))\n",
    "                                    "
   ]
  },
  {
   "cell_type": "code",
   "execution_count": 10,
   "metadata": {
    "ExecuteTime": {
     "end_time": "2022-01-24T22:09:24.678639Z",
     "start_time": "2022-01-24T22:09:24.668228Z"
    }
   },
   "outputs": [
    {
     "data": {
      "text/plain": [
       "sequence                                 AGACGCATAAAGATGAGACGCTGG\n",
       "descriptor                                                  21A20\n",
       "wtCas9_ndABA                                           -0.0123935\n",
       "wtCas9_ndABA_unc                                        0.0130876\n",
       "wtCas9_cleave_rate_log                                         -1\n",
       "wtCas9_cleave_rate_log_unc                              0.0700477\n",
       "Cas9_enh_ndABA                                         -0.0208602\n",
       "Cas9_enh_ndABA_unc                                      0.0119353\n",
       "Cas9_enh_cleave_rate_log                                 -1.02146\n",
       "Cas9_enh_cleave_rate_log_unc                            0.0724216\n",
       "Cas9_hypa_ndABA                                        -0.0116447\n",
       "Cas9_hypa_ndABA_unc                                     0.0250457\n",
       "Cas9_hypa_cleave_rate_log                                      -1\n",
       "Cas9_hypa_cleave_rate_log_unc                           0.0659332\n",
       "Cas9_HF1_ndABA                                         -0.0110754\n",
       "Cas9_HF1_ndABA_unc                                      0.0147784\n",
       "Cas9_HF1_cleave_rate_log                                       -1\n",
       "Cas9_HF1_cleave_rate_log_unc                            0.0459707\n",
       "wtCas9_cleave_rate_log_specificity                     -0.0324244\n",
       "Cas9_enh_cleave_rate_log_specificity                    -0.446437\n",
       "Cas9_hypa_cleave_rate_log_specificity                           0\n",
       "Cas9_HF1_cleave_rate_log_specificity                            0\n",
       "Name: 90, dtype: object"
      ]
     },
     "execution_count": 10,
     "metadata": {},
     "output_type": "execute_result"
    }
   ],
   "source": [
    "df1.iloc[90]"
   ]
  },
  {
   "cell_type": "code",
   "execution_count": 11,
   "metadata": {
    "ExecuteTime": {
     "end_time": "2022-01-24T22:09:27.664881Z",
     "start_time": "2022-01-24T22:09:27.655072Z"
    }
   },
   "outputs": [
    {
     "data": {
      "text/plain": [
       "array([[0., 0., 1., 0., 0., 0., 0., 0.],\n",
       "       [0., 0., 1., 0., 0., 0., 0., 0.],\n",
       "       [0., 0., 0., 1., 0., 0., 0., 0.],\n",
       "       [0., 1., 0., 0., 0., 0., 0., 0.],\n",
       "       [0., 0., 1., 0., 0., 0., 0., 0.],\n",
       "       [0., 1., 0., 0., 0., 0., 0., 0.],\n",
       "       [1., 0., 0., 0., 0., 0., 0., 0.],\n",
       "       [0., 0., 1., 0., 0., 0., 0., 0.],\n",
       "       [1., 0., 0., 0., 0., 0., 0., 0.],\n",
       "       [0., 0., 1., 0., 0., 0., 0., 0.],\n",
       "       [0., 0., 0., 1., 0., 0., 0., 0.],\n",
       "       [1., 0., 0., 0., 0., 0., 0., 0.],\n",
       "       [0., 0., 1., 0., 0., 0., 0., 0.],\n",
       "       [1., 0., 0., 0., 0., 0., 0., 0.],\n",
       "       [1., 0., 0., 0., 0., 0., 0., 0.],\n",
       "       [1., 0., 0., 0., 0., 0., 0., 0.],\n",
       "       [0., 0., 0., 1., 0., 0., 0., 0.],\n",
       "       [1., 0., 0., 0., 0., 0., 0., 0.],\n",
       "       [0., 1., 0., 0., 0., 0., 0., 0.],\n",
       "       [0., 0., 1., 0., 0., 0., 0., 0.],\n",
       "       [0., 1., 0., 0., 1., 0., 0., 0.],\n",
       "       [1., 0., 0., 0., 0., 0., 1., 0.],\n",
       "       [0., 0., 1., 0., 0., 0., 0., 0.],\n",
       "       [0., 0., 0., 0., 0., 0., 0., 0.],\n",
       "       [0., 0., 0., 0., 0., 0., 0., 0.]])"
      ]
     },
     "execution_count": 11,
     "metadata": {},
     "output_type": "execute_result"
    }
   ],
   "source": [
    "mats[90]"
   ]
  },
  {
   "cell_type": "code",
   "execution_count": 13,
   "metadata": {
    "ExecuteTime": {
     "end_time": "2022-01-24T22:09:53.547069Z",
     "start_time": "2022-01-24T22:09:53.543771Z"
    }
   },
   "outputs": [],
   "source": [
    "# feat = 'wtCas9_ndABA'\n",
    "# ax = sns.scatterplot(\n",
    "#     np.percentile(df1[feat], np.arange(5,95,1)),\n",
    "#     np.percentile(df2[feat], np.arange(5,95,1)),\n",
    "# )\n",
    "# ax.set_title(feat)\n",
    "# ax.set_xlabel('sgRNA 1')\n",
    "# ax.set_ylabel('sgRNA 2')"
   ]
  },
  {
   "cell_type": "code",
   "execution_count": 10,
   "metadata": {},
   "outputs": [
    {
     "data": {
      "text/plain": [
       "[<matplotlib.lines.Line2D at 0x7fffb55b7a50>]"
      ]
     },
     "execution_count": 10,
     "metadata": {},
     "output_type": "execute_result"
    },
    {
     "data": {
      "image/png": "[encoded data removed]",
      "text/plain": [
       "<Figure size 432x288 with 1 Axes>"
      ]
     },
     "metadata": {
      "needs_background": "light"
     },
     "output_type": "display_data"
    }
   ],
   "source": [
    "# feat = 'wtCas9_cleave_rate_log'\n",
    "# ax = sns.scatterplot(\n",
    "#     np.percentile(df1[feat], np.arange(1,99,1)),\n",
    "#     np.percentile(df2[feat], np.arange(1,99,1)),\n",
    "# )\n",
    "# ax.set_title(feat)\n",
    "# ax.set_xlabel('sgRNA 1')\n",
    "# ax.set_ylabel('sgRNA 2')\n",
    "# ax.set_xlim(np.log10(LOD)-5, 0)\n",
    "# ax.set_ylim(np.log10(LOD)-5, 0)\n",
    "# ax.plot([0,1],[0,1], transform=ax.transAxes, ls='--', color='black')"
   ]
  },
  {
   "cell_type": "code",
   "execution_count": 11,
   "metadata": {},
   "outputs": [
    {
     "data": {
      "text/plain": [
       "[<matplotlib.lines.Line2D at 0x7fffb54e0cd0>]"
      ]
     },
     "execution_count": 11,
     "metadata": {},
     "output_type": "execute_result"
    },
    {
     "data": {
      "image/png": "[encoded data removed]",
      "text/plain": [
       "<Figure size 432x288 with 1 Axes>"
      ]
     },
     "metadata": {
      "needs_background": "light"
     },
     "output_type": "display_data"
    }
   ],
   "source": [
    "# feat = 'wtCas9_cleave_rate_log_specificity'\n",
    "# ax = sns.scatterplot(\n",
    "#     np.percentile(df1[feat], np.arange(1,99,1)),\n",
    "#     np.percentile(df2[feat], np.arange(1,99,1)),\n",
    "# )\n",
    "# ax.set_title(feat)\n",
    "# ax.set_xlabel('sgRNA 1')\n",
    "# ax.set_ylabel('sgRNA 2')\n",
    "# ax.set_xlim(0, -np.log10(LOD)+5)\n",
    "# ax.set_ylim(0, -np.log10(LOD)+5)\n",
    "# ax.plot([0,1],[0,1], transform=ax.transAxes, ls='--', color='black')"
   ]
  },
  {
   "cell_type": "markdown",
   "metadata": {},
   "source": [
    "# Visualization alignments"
   ]
  },
  {
   "cell_type": "code",
   "execution_count": 12,
   "metadata": {},
   "outputs": [
    {
     "data": {
      "text/plain": [
       "Alignment(seqA='GGTCGCAGAGTAGAAA-TACGCAG', seqB='GGTCGCAGAGTAGAAAATACGCAG', score=22.0, start=0, end=24)"
      ]
     },
     "execution_count": 12,
     "metadata": {},
     "output_type": "execute_result"
    }
   ],
   "source": [
    "alns1[100]"
   ]
  },
  {
   "cell_type": "code",
   "execution_count": 13,
   "metadata": {},
   "outputs": [
    {
     "data": {
      "text/plain": [
       "Alignment(seqA='GGTGTACCGTAAG-GTGAATAGTG', seqB='GGTGTACCGTAAGAGTGAATAGTG', score=22.0, start=0, end=24)"
      ]
     },
     "execution_count": 13,
     "metadata": {},
     "output_type": "execute_result"
    }
   ],
   "source": [
    "# alns2[100]"
   ]
  },
  {
   "cell_type": "code",
   "execution_count": 14,
   "metadata": {
    "ExecuteTime": {
     "end_time": "2022-01-24T22:10:32.548617Z",
     "start_time": "2022-01-24T22:10:31.974946Z"
    }
   },
   "outputs": [
    {
     "ename": "ModuleNotFoundError",
     "evalue": "No module named 'panel'",
     "output_type": "error",
     "traceback": [
      "\u001b[0;31m---------------------------------------------------------------------------\u001b[0m",
      "\u001b[0;31mModuleNotFoundError\u001b[0m                       Traceback (most recent call last)",
      "\u001b[0;32m<ipython-input-14-3f0a5d817fd1>\u001b[0m in \u001b[0;36m<module>\u001b[0;34m\u001b[0m\n\u001b[1;32m     10\u001b[0m \u001b[0;32mfrom\u001b[0m \u001b[0mBio\u001b[0m \u001b[0;32mimport\u001b[0m \u001b[0mAlignIO\u001b[0m\u001b[0;34m,\u001b[0m \u001b[0mSeqIO\u001b[0m\u001b[0;34m\u001b[0m\u001b[0;34m\u001b[0m\u001b[0m\n\u001b[1;32m     11\u001b[0m \u001b[0;34m\u001b[0m\u001b[0m\n\u001b[0;32m---> 12\u001b[0;31m \u001b[0;32mimport\u001b[0m \u001b[0mpanel\u001b[0m \u001b[0;32mas\u001b[0m \u001b[0mpn\u001b[0m\u001b[0;34m\u001b[0m\u001b[0;34m\u001b[0m\u001b[0m\n\u001b[0m\u001b[1;32m     13\u001b[0m \u001b[0;32mimport\u001b[0m \u001b[0mpanel\u001b[0m\u001b[0;34m.\u001b[0m\u001b[0mwidgets\u001b[0m \u001b[0;32mas\u001b[0m \u001b[0mpnw\u001b[0m\u001b[0;34m\u001b[0m\u001b[0;34m\u001b[0m\u001b[0m\n\u001b[1;32m     14\u001b[0m \u001b[0mpn\u001b[0m\u001b[0;34m.\u001b[0m\u001b[0mextension\u001b[0m\u001b[0;34m(\u001b[0m\u001b[0;34m)\u001b[0m\u001b[0;34m\u001b[0m\u001b[0;34m\u001b[0m\u001b[0m\n",
      "\u001b[0;31mModuleNotFoundError\u001b[0m: No module named 'panel'"
     ]
    }
   ],
   "source": [
    "# modified from \n",
    "# https://dmnfarrell.github.io/bioinformatics/bokeh-sequence-aligner\n",
    "\n",
    "import os, io, random\n",
    "import string\n",
    "import numpy as np\n",
    "\n",
    "from Bio.Seq import Seq\n",
    "from Bio.Align import MultipleSeqAlignment\n",
    "from Bio import AlignIO, SeqIO\n",
    "\n",
    "import panel as pn\n",
    "import panel.widgets as pnw\n",
    "pn.extension()\n",
    "\n",
    "from bokeh.plotting import figure\n",
    "from bokeh.models import ColumnDataSource, Plot, Grid, Range1d\n",
    "from bokeh.models.glyphs import Text, Rect\n",
    "from bokeh.layouts import gridplot\n",
    "\n",
    "def get_colors(seqs):\n",
    "    \"\"\"make colors for bases in sequence\"\"\"\n",
    "    text = [i for s in list(seqs) for i in s]\n",
    "    clrs =  {'A':'red','T':'green','G':'orange','C':'blue','-':'white'}\n",
    "    colors = [clrs[i] for i in text]\n",
    "    return colors\n",
    "\n",
    "\n",
    "def view_alignment(aln, fontsize=\"9pt\", plot_width=800):\n",
    "    \"\"\"Bokeh sequence alignment view\"\"\"\n",
    "\n",
    "    #make sequence and id lists from the aln object\n",
    "    seqs = aln[0:2]\n",
    "    ids = [\"gRNA\", \"target\"]    \n",
    "    text = [i for s in list(seqs) for i in s]\n",
    "    colors = get_colors(seqs)    \n",
    "    N = len(seqs[0])\n",
    "    S = len(seqs)    \n",
    "    width = .4\n",
    "\n",
    "    x = np.arange(1,N+1)\n",
    "    y = np.arange(0,S,1)\n",
    "    #creates a 2D grid of coords from the 1D arrays\n",
    "    xx, yy = np.meshgrid(x, y)\n",
    "    #flattens the arrays\n",
    "    gx = xx.ravel()\n",
    "    gy = yy.flatten()\n",
    "    #use recty for rect coords with an offset\n",
    "    recty = gy+.5\n",
    "    h= 1/S\n",
    "    #now we can create the ColumnDataSource with all the arrays\n",
    "    source = ColumnDataSource(dict(x=gx, y=gy, recty=recty, text=text, colors=colors))\n",
    "    plot_height = len(seqs)*15+50\n",
    "    x_range = Range1d(0,N+1, bounds='auto')\n",
    "    if N>100:\n",
    "        viewlen=100\n",
    "    else:\n",
    "        viewlen=N\n",
    "    #view_range is for the close up view\n",
    "    view_range = (0,viewlen)\n",
    "    tools=\"xpan, xwheel_zoom, reset, save\"\n",
    "\n",
    "    #entire sequence view (no text, with zoom)\n",
    "    p = figure(title=None, plot_width= plot_width, plot_height=50,\n",
    "               x_range=x_range, y_range=(0,S), tools=tools,\n",
    "               min_border=0, toolbar_location='below')\n",
    "    rects = Rect(x=\"x\", y=\"recty\",  width=1, height=1, fill_color=\"colors\",\n",
    "                 line_color=None, fill_alpha=0.6)\n",
    "    p.add_glyph(source, rects)\n",
    "    p.yaxis.visible = False\n",
    "    p.grid.visible = False  \n",
    "\n",
    "    #sequence text view with ability to scroll along x axis\n",
    "    p1 = figure(title=None, plot_width=plot_width, plot_height=plot_height,\n",
    "                x_range=view_range, y_range=ids, tools=\"xpan,reset\",\n",
    "                min_border=0, toolbar_location='below')#, lod_factor=1)          \n",
    "    glyph = Text(x=\"x\", y=\"y\", text=\"text\", text_align='center',text_color=\"black\",\n",
    "                text_font=\"monospace\",text_font_size=fontsize)\n",
    "    rects = Rect(x=\"x\", y=\"recty\",  width=1, height=1, fill_color=\"colors\",\n",
    "                line_color=None, fill_alpha=0.4)\n",
    "    p1.add_glyph(source, glyph)\n",
    "    p1.add_glyph(source, rects)\n",
    "\n",
    "    p1.grid.visible = False\n",
    "    p1.xaxis.major_label_text_font_style = \"bold\"\n",
    "    p1.yaxis.minor_tick_line_width = 0\n",
    "    p1.yaxis.major_tick_line_width = 0\n",
    "\n",
    "    p = gridplot([[p],[p1]], toolbar_location='below')\n",
    "    return p"
   ]
  },
  {
   "cell_type": "code",
   "execution_count": 15,
   "metadata": {},
   "outputs": [
    {
     "name": "stdout",
     "output_type": "stream",
     "text": [
      "sequence                                 GTGATAAGTAGGAATGCCATGTGG\n",
      "descriptor                                                  12A11\n",
      "wtCas9_ndABA                                             0.409341\n",
      "wtCas9_ndABA_unc                                         0.030304\n",
      "wtCas9_cleave_rate_log                                  -2.334041\n",
      "wtCas9_cleave_rate_log_unc                               0.114384\n",
      "Cas9_enh_ndABA                                           0.295856\n",
      "Cas9_enh_ndABA_unc                                        0.04959\n",
      "Cas9_enh_cleave_rate_log                                     -5.0\n",
      "Cas9_enh_cleave_rate_log_unc                              7.40744\n",
      "Cas9_hypa_ndABA                                          0.133974\n",
      "Cas9_hypa_ndABA_unc                                       0.01357\n",
      "Cas9_hypa_cleave_rate_log                                    -5.0\n",
      "Cas9_hypa_cleave_rate_log_unc                            0.081112\n",
      "Cas9_HF1_ndABA                                           0.387882\n",
      "Cas9_HF1_ndABA_unc                                       0.060246\n",
      "Cas9_HF1_cleave_rate_log                                     -5.0\n",
      "Cas9_HF1_cleave_rate_log_unc                             2.334356\n",
      "wtCas9_cleave_rate_log_specificity                       1.334041\n",
      "Cas9_enh_cleave_rate_log_specificity                     3.810487\n",
      "Cas9_hypa_cleave_rate_log_specificity                     3.98842\n",
      "Cas9_HF1_cleave_rate_log_specificity                          4.0\n",
      "Name: 99, dtype: object\n"
     ]
    },
    {
     "data": {},
     "metadata": {},
     "output_type": "display_data"
    },
    {
     "data": {
      "application/vnd.holoviews_exec.v0+json": "",
      "text/html": [
       "<div id='1085'>\n",
       "\n",
       "\n",
       "\n",
       "\n",
       "\n",
       "  <div class=\"bk-root\" id=\"1d3e49d8-1fe8-4f08-b43b-d302504a892a\" data-root-id=\"1085\"></div>\n",
       "</div>\n",
       "<script type=\"application/javascript\">(function(root) {\n",
       "  function embed_document(root) {\n",
       "    var docs_json = {\"03fbdc4c-d33d-4a1b-a4dd-df4122ec01c3\":{\"defs\":[{\"extends\":null,\"module\":null,\"name\":\"ReactiveHTML1\",\"overrides\":[],\"properties\":[]},{\"extends\":null,\"module\":null,\"name\":\"FlexBox1\",\"overrides\":[],\"properties\":[{\"default\":\"flex-start\",\"kind\":null,\"name\":\"align_content\"},{\"default\":\"flex-start\",\"kind\":null,\"name\":\"align_items\"},{\"default\":\"row\",\"kind\":null,\"name\":\"flex_direction\"},{\"default\":\"wrap\",\"kind\":null,\"name\":\"flex_wrap\"},{\"default\":\"flex-start\",\"kind\":null,\"name\":\"justify_content\"}]},{\"extends\":null,\"module\":null,\"name\":\"TemplateActions1\",\"overrides\":[],\"properties\":[{\"default\":0,\"kind\":null,\"name\":\"open_modal\"},{\"default\":0,\"kind\":null,\"name\":\"close_modal\"}]},{\"extends\":null,\"module\":null,\"name\":\"MaterialTemplateActions1\",\"overrides\":[],\"properties\":[{\"default\":0,\"kind\":null,\"name\":\"open_modal\"},{\"default\":0,\"kind\":null,\"name\":\"close_modal\"}]}],\"roots\":{\"references\":[{\"attributes\":{\"coordinates\":null,\"formatter\":{\"id\":\"1073\"},\"group\":null,\"major_label_policy\":{\"id\":\"1074\"},\"major_tick_line_width\":0,\"minor_tick_line_width\":0,\"ticker\":{\"id\":\"1048\"}},\"id\":\"1047\",\"type\":\"CategoricalAxis\"},{\"attributes\":{\"below\":[{\"id\":\"1013\"}],\"center\":[{\"id\":\"1016\"},{\"id\":\"1020\"}],\"height\":50,\"left\":[{\"id\":\"1017\"}],\"min_border\":0,\"renderers\":[{\"id\":\"1031\"}],\"title\":null,\"toolbar\":{\"id\":\"1025\"},\"toolbar_location\":null,\"width\":300,\"x_range\":{\"id\":\"1003\"},\"x_scale\":{\"id\":\"1009\"},\"y_range\":{\"id\":\"1007\"},\"y_scale\":{\"id\":\"1011\"}},\"id\":\"1004\",\"subtype\":\"Figure\",\"type\":\"Plot\"},{\"attributes\":{\"children\":[[{\"id\":\"1004\"},0,0],[{\"id\":\"1033\"},1,0]]},\"id\":\"1081\",\"type\":\"GridBox\"},{\"attributes\":{\"fill_alpha\":{\"value\":0.4},\"fill_color\":{\"field\":\"colors\"},\"height\":{\"value\":1},\"line_color\":{\"value\":null},\"width\":{\"value\":1},\"x\":{\"field\":\"x\"},\"y\":{\"field\":\"recty\"}},\"id\":\"1056\",\"type\":\"Rect\"},{\"attributes\":{\"axis\":{\"id\":\"1013\"},\"coordinates\":null,\"group\":null,\"ticker\":null,\"visible\":false},\"id\":\"1016\",\"type\":\"Grid\"},{\"attributes\":{\"dimensions\":\"width\"},\"id\":\"1050\",\"type\":\"PanTool\"},{\"attributes\":{},\"id\":\"1076\",\"type\":\"BasicTickFormatter\"},{\"attributes\":{},\"id\":\"1023\",\"type\":\"ResetTool\"},{\"attributes\":{\"axis\":{\"id\":\"1047\"},\"coordinates\":null,\"dimension\":1,\"group\":null,\"ticker\":null,\"visible\":false},\"id\":\"1049\",\"type\":\"Grid\"},{\"attributes\":{},\"id\":\"1024\",\"type\":\"SaveTool\"},{\"attributes\":{},\"id\":\"1051\",\"type\":\"ResetTool\"},{\"attributes\":{\"fill_alpha\":{\"value\":0.6},\"fill_color\":{\"field\":\"colors\"},\"height\":{\"value\":1},\"line_color\":{\"value\":null},\"width\":{\"value\":1},\"x\":{\"field\":\"x\"},\"y\":{\"field\":\"recty\"}},\"id\":\"1030\",\"type\":\"Rect\"},{\"attributes\":{\"axis\":{\"id\":\"1017\"},\"coordinates\":null,\"dimension\":1,\"group\":null,\"ticker\":null,\"visible\":false},\"id\":\"1020\",\"type\":\"Grid\"},{\"attributes\":{\"end\":24},\"id\":\"1035\",\"type\":\"Range1d\"},{\"attributes\":{\"coordinates\":null,\"data_source\":{\"id\":\"1002\"},\"glyph\":{\"id\":\"1055\"},\"group\":null,\"hover_glyph\":null,\"view\":{\"id\":\"1058\"}},\"id\":\"1057\",\"type\":\"GlyphRenderer\"},{\"attributes\":{\"coordinates\":null,\"formatter\":{\"id\":\"1066\"},\"group\":null,\"major_label_policy\":{\"id\":\"1067\"},\"ticker\":{\"id\":\"1014\"}},\"id\":\"1013\",\"type\":\"LinearAxis\"},{\"attributes\":{},\"id\":\"1074\",\"type\":\"AllLabels\"},{\"attributes\":{\"coordinates\":null,\"data_source\":{\"id\":\"1002\"},\"glyph\":{\"id\":\"1056\"},\"group\":null,\"hover_glyph\":null,\"view\":{\"id\":\"1060\"}},\"id\":\"1059\",\"type\":\"GlyphRenderer\"},{\"attributes\":{},\"id\":\"1014\",\"type\":\"BasicTicker\"},{\"attributes\":{},\"id\":\"1009\",\"type\":\"LinearScale\"},{\"attributes\":{\"toolbar\":{\"id\":\"1082\"},\"toolbar_location\":\"below\"},\"id\":\"1083\",\"type\":\"ToolbarBox\"},{\"attributes\":{\"dimensions\":\"width\"},\"id\":\"1021\",\"type\":\"PanTool\"},{\"attributes\":{},\"id\":\"1073\",\"type\":\"CategoricalTickFormatter\"},{\"attributes\":{},\"id\":\"1011\",\"type\":\"LinearScale\"},{\"attributes\":{\"tools\":[{\"id\":\"1050\"},{\"id\":\"1051\"}]},\"id\":\"1052\",\"type\":\"Toolbar\"},{\"attributes\":{},\"id\":\"1018\",\"type\":\"BasicTicker\"},{\"attributes\":{\"text_align\":{\"value\":\"center\"},\"text_color\":{\"value\":\"black\"},\"text_font\":{\"field\":\"monospace\"},\"text_font_size\":{\"value\":\"9pt\"},\"x\":{\"field\":\"x\"},\"y\":{\"field\":\"y\"}},\"id\":\"1055\",\"type\":\"Text\"},{\"attributes\":{\"data\":{\"colors\":[\"orange\",\"orange\",\"green\",\"orange\",\"green\",\"red\",\"blue\",\"blue\",\"orange\",\"green\",\"red\",\"red\",\"orange\",\"orange\",\"white\",\"green\",\"orange\",\"red\",\"red\",\"green\",\"red\",\"orange\",\"green\",\"orange\",\"orange\",\"orange\",\"green\",\"orange\",\"green\",\"red\",\"blue\",\"blue\",\"orange\",\"green\",\"red\",\"red\",\"orange\",\"orange\",\"red\",\"green\",\"orange\",\"red\",\"red\",\"green\",\"red\",\"orange\",\"green\",\"orange\"],\"recty\":{\"__ndarray__\":\"AAAAAAAA4D8AAAAAAADgPwAAAAAAAOA/AAAAAAAA4D8AAAAAAADgPwAAAAAAAOA/AAAAAAAA4D8AAAAAAADgPwAAAAAAAOA/AAAAAAAA4D8AAAAAAADgPwAAAAAAAOA/AAAAAAAA4D8AAAAAAADgPwAAAAAAAOA/AAAAAAAA4D8AAAAAAADgPwAAAAAAAOA/AAAAAAAA4D8AAAAAAADgPwAAAAAAAOA/AAAAAAAA4D8AAAAAAADgPwAAAAAAAOA/AAAAAAAA+D8AAAAAAAD4PwAAAAAAAPg/AAAAAAAA+D8AAAAAAAD4PwAAAAAAAPg/AAAAAAAA+D8AAAAAAAD4PwAAAAAAAPg/AAAAAAAA+D8AAAAAAAD4PwAAAAAAAPg/AAAAAAAA+D8AAAAAAAD4PwAAAAAAAPg/AAAAAAAA+D8AAAAAAAD4PwAAAAAAAPg/AAAAAAAA+D8AAAAAAAD4PwAAAAAAAPg/AAAAAAAA+D8AAAAAAAD4PwAAAAAAAPg/\",\"dtype\":\"float64\",\"order\":\"little\",\"shape\":[48]},\"text\":[\"G\",\"G\",\"T\",\"G\",\"T\",\"A\",\"C\",\"C\",\"G\",\"T\",\"A\",\"A\",\"G\",\"G\",\"-\",\"T\",\"G\",\"A\",\"A\",\"T\",\"A\",\"G\",\"T\",\"G\",\"G\",\"G\",\"T\",\"G\",\"T\",\"A\",\"C\",\"C\",\"G\",\"T\",\"A\",\"A\",\"G\",\"G\",\"A\",\"T\",\"G\",\"A\",\"A\",\"T\",\"A\",\"G\",\"T\",\"G\"],\"x\":[1,2,3,4,5,6,7,8,9,10,11,12,13,14,15,16,17,18,19,20,21,22,23,24,1,2,3,4,5,6,7,8,9,10,11,12,13,14,15,16,17,18,19,20,21,22,23,24],\"y\":[0,0,0,0,0,0,0,0,0,0,0,0,0,0,0,0,0,0,0,0,0,0,0,0,1,1,1,1,1,1,1,1,1,1,1,1,1,1,1,1,1,1,1,1,1,1,1,1]},\"selected\":{\"id\":\"1069\"},\"selection_policy\":{\"id\":\"1068\"}},\"id\":\"1002\",\"type\":\"ColumnDataSource\"},{\"attributes\":{},\"id\":\"1069\",\"type\":\"Selection\"},{\"attributes\":{},\"id\":\"1039\",\"type\":\"LinearScale\"},{\"attributes\":{},\"id\":\"1066\",\"type\":\"BasicTickFormatter\"},{\"attributes\":{\"source\":{\"id\":\"1002\"}},\"id\":\"1060\",\"type\":\"CDSView\"},{\"attributes\":{},\"id\":\"1068\",\"type\":\"UnionRenderers\"},{\"attributes\":{},\"id\":\"1064\",\"type\":\"AllLabels\"},{\"attributes\":{\"below\":[{\"id\":\"1043\"}],\"center\":[{\"id\":\"1046\"},{\"id\":\"1049\"}],\"height\":80,\"left\":[{\"id\":\"1047\"}],\"min_border\":0,\"renderers\":[{\"id\":\"1057\"},{\"id\":\"1059\"}],\"title\":null,\"toolbar\":{\"id\":\"1052\"},\"toolbar_location\":null,\"width\":300,\"x_range\":{\"id\":\"1035\"},\"x_scale\":{\"id\":\"1039\"},\"y_range\":{\"id\":\"1037\"},\"y_scale\":{\"id\":\"1041\"}},\"id\":\"1033\",\"subtype\":\"Figure\",\"type\":\"Plot\"},{\"attributes\":{\"source\":{\"id\":\"1002\"}},\"id\":\"1032\",\"type\":\"CDSView\"},{\"attributes\":{\"tools\":[{\"id\":\"1021\"},{\"id\":\"1022\"},{\"id\":\"1023\"},{\"id\":\"1024\"}]},\"id\":\"1025\",\"type\":\"Toolbar\"},{\"attributes\":{\"children\":[{\"id\":\"1081\"},{\"id\":\"1083\"}]},\"id\":\"1084\",\"type\":\"Column\"},{\"attributes\":{},\"id\":\"1041\",\"type\":\"CategoricalScale\"},{\"attributes\":{\"children\":[{\"id\":\"1084\"}],\"margin\":[0,0,0,0],\"name\":\"Row00102\"},\"id\":\"1085\",\"type\":\"Row\"},{\"attributes\":{\"coordinates\":null,\"data_source\":{\"id\":\"1002\"},\"glyph\":{\"id\":\"1030\"},\"group\":null,\"hover_glyph\":null,\"view\":{\"id\":\"1032\"}},\"id\":\"1031\",\"type\":\"GlyphRenderer\"},{\"attributes\":{\"factors\":[\"gRNA\",\"target\"]},\"id\":\"1037\",\"type\":\"FactorRange\"},{\"attributes\":{\"reload\":false},\"id\":\"1215\",\"type\":\"panel.models.location.Location\"},{\"attributes\":{},\"id\":\"1067\",\"type\":\"AllLabels\"},{\"attributes\":{\"client_comm_id\":\"06ef38163aca438982e0c41a19c4797d\",\"comm_id\":\"4910c5347e10423dbe0e1044becb3b54\",\"plot_id\":\"1085\"},\"id\":\"1166\",\"type\":\"panel.models.comm_manager.CommManager\"},{\"attributes\":{\"end\":2},\"id\":\"1007\",\"type\":\"Range1d\"},{\"attributes\":{\"coordinates\":null,\"formatter\":{\"id\":\"1076\"},\"group\":null,\"major_label_policy\":{\"id\":\"1077\"},\"major_label_text_font_style\":\"bold\",\"ticker\":{\"id\":\"1044\"}},\"id\":\"1043\",\"type\":\"LinearAxis\"},{\"attributes\":{\"dimensions\":\"width\"},\"id\":\"1022\",\"type\":\"WheelZoomTool\"},{\"attributes\":{\"source\":{\"id\":\"1002\"}},\"id\":\"1058\",\"type\":\"CDSView\"},{\"attributes\":{},\"id\":\"1048\",\"type\":\"CategoricalTicker\"},{\"attributes\":{\"bounds\":\"auto\",\"end\":25},\"id\":\"1003\",\"type\":\"Range1d\"},{\"attributes\":{},\"id\":\"1044\",\"type\":\"BasicTicker\"},{\"attributes\":{},\"id\":\"1077\",\"type\":\"AllLabels\"},{\"attributes\":{\"axis\":{\"id\":\"1043\"},\"coordinates\":null,\"group\":null,\"ticker\":null,\"visible\":false},\"id\":\"1046\",\"type\":\"Grid\"},{\"attributes\":{},\"id\":\"1063\",\"type\":\"BasicTickFormatter\"},{\"attributes\":{\"coordinates\":null,\"formatter\":{\"id\":\"1063\"},\"group\":null,\"major_label_policy\":{\"id\":\"1064\"},\"ticker\":{\"id\":\"1018\"},\"visible\":false},\"id\":\"1017\",\"type\":\"LinearAxis\"},{\"attributes\":{\"toolbars\":[{\"id\":\"1025\"},{\"id\":\"1052\"}],\"tools\":[{\"id\":\"1021\"},{\"id\":\"1022\"},{\"id\":\"1023\"},{\"id\":\"1024\"},{\"id\":\"1050\"},{\"id\":\"1051\"}]},\"id\":\"1082\",\"type\":\"ProxyToolbar\"}],\"root_ids\":[\"1085\",\"1166\",\"1215\"]},\"title\":\"Bokeh Application\",\"version\":\"2.4.2\"}};\n",
       "    var render_items = [{\"docid\":\"03fbdc4c-d33d-4a1b-a4dd-df4122ec01c3\",\"root_ids\":[\"1085\"],\"roots\":{\"1085\":\"1d3e49d8-1fe8-4f08-b43b-d302504a892a\"}}];\n",
       "    root.Bokeh.embed.embed_items_notebook(docs_json, render_items);\n",
       "  }\n",
       "  if (root.Bokeh !== undefined && root.Bokeh.Panel !== undefined) {\n",
       "    embed_document(root);\n",
       "  } else {\n",
       "    var attempts = 0;\n",
       "    var timer = setInterval(function(root) {\n",
       "      if (root.Bokeh !== undefined && root.Bokeh.Panel !== undefined) {\n",
       "        clearInterval(timer);\n",
       "        embed_document(root);\n",
       "      } else if (document.readyState == \"complete\") {\n",
       "        attempts++;\n",
       "        if (attempts > 200) {\n",
       "          clearInterval(timer);\n",
       "          console.log(\"Bokeh: ERROR: Unable to run BokehJS code because BokehJS library is missing\");\n",
       "        }\n",
       "      }\n",
       "    }, 25, root)\n",
       "  }\n",
       "})(window);</script>"
      ],
      "text/plain": [
       "Bokeh(Column)"
      ]
     },
     "execution_count": 15,
     "metadata": {
      "application/vnd.holoviews_exec.v0+json": {
       "id": "1085"
      }
     },
     "output_type": "execute_result"
    }
   ],
   "source": [
    "print(df2.iloc[99])\n",
    "p = view_alignment(alns2[99], plot_width=300)\n",
    "pn.pane.Bokeh(p)"
   ]
  },
  {
   "cell_type": "code",
   "execution_count": 16,
   "metadata": {},
   "outputs": [
    {
     "data": {},
     "metadata": {},
     "output_type": "display_data"
    },
    {
     "data": {
      "application/vnd.holoviews_exec.v0+json": "",
      "text/html": [
       "<div id='1347'>\n",
       "\n",
       "\n",
       "\n",
       "\n",
       "\n",
       "  <div class=\"bk-root\" id=\"a7d9d056-fb9d-4f14-a7d4-86211f6bb4ad\" data-root-id=\"1347\"></div>\n",
       "</div>\n",
       "<script type=\"application/javascript\">(function(root) {\n",
       "  function embed_document(root) {\n",
       "    var docs_json = {\"a67864b9-9b46-4b01-82c9-94204f847678\":{\"defs\":[{\"extends\":null,\"module\":null,\"name\":\"ReactiveHTML1\",\"overrides\":[],\"properties\":[]},{\"extends\":null,\"module\":null,\"name\":\"FlexBox1\",\"overrides\":[],\"properties\":[{\"default\":\"flex-start\",\"kind\":null,\"name\":\"align_content\"},{\"default\":\"flex-start\",\"kind\":null,\"name\":\"align_items\"},{\"default\":\"row\",\"kind\":null,\"name\":\"flex_direction\"},{\"default\":\"wrap\",\"kind\":null,\"name\":\"flex_wrap\"},{\"default\":\"flex-start\",\"kind\":null,\"name\":\"justify_content\"}]},{\"extends\":null,\"module\":null,\"name\":\"TemplateActions1\",\"overrides\":[],\"properties\":[{\"default\":0,\"kind\":null,\"name\":\"open_modal\"},{\"default\":0,\"kind\":null,\"name\":\"close_modal\"}]},{\"extends\":null,\"module\":null,\"name\":\"MaterialTemplateActions1\",\"overrides\":[],\"properties\":[{\"default\":0,\"kind\":null,\"name\":\"open_modal\"},{\"default\":0,\"kind\":null,\"name\":\"close_modal\"}]}],\"roots\":{\"references\":[{\"attributes\":{\"end\":2},\"id\":\"1269\",\"type\":\"Range1d\"},{\"attributes\":{},\"id\":\"1301\",\"type\":\"LinearScale\"},{\"attributes\":{\"axis\":{\"id\":\"1279\"},\"coordinates\":null,\"dimension\":1,\"group\":null,\"ticker\":null,\"visible\":false},\"id\":\"1282\",\"type\":\"Grid\"},{\"attributes\":{\"fill_alpha\":{\"value\":0.6},\"fill_color\":{\"field\":\"colors\"},\"height\":{\"value\":1},\"line_color\":{\"value\":null},\"width\":{\"value\":1},\"x\":{\"field\":\"x\"},\"y\":{\"field\":\"recty\"}},\"id\":\"1292\",\"type\":\"Rect\"},{\"attributes\":{},\"id\":\"1328\",\"type\":\"BasicTickFormatter\"},{\"attributes\":{\"source\":{\"id\":\"1264\"}},\"id\":\"1322\",\"type\":\"CDSView\"},{\"attributes\":{\"bounds\":\"auto\",\"end\":25},\"id\":\"1265\",\"type\":\"Range1d\"},{\"attributes\":{},\"id\":\"1286\",\"type\":\"SaveTool\"},{\"attributes\":{},\"id\":\"1313\",\"type\":\"ResetTool\"},{\"attributes\":{},\"id\":\"1325\",\"type\":\"BasicTickFormatter\"},{\"attributes\":{\"toolbar\":{\"id\":\"1344\"},\"toolbar_location\":\"below\"},\"id\":\"1345\",\"type\":\"ToolbarBox\"},{\"attributes\":{},\"id\":\"1336\",\"type\":\"AllLabels\"},{\"attributes\":{},\"id\":\"1339\",\"type\":\"AllLabels\"},{\"attributes\":{\"dimensions\":\"width\"},\"id\":\"1283\",\"type\":\"PanTool\"},{\"attributes\":{},\"id\":\"1326\",\"type\":\"AllLabels\"},{\"attributes\":{\"axis\":{\"id\":\"1305\"},\"coordinates\":null,\"group\":null,\"ticker\":null,\"visible\":false},\"id\":\"1308\",\"type\":\"Grid\"},{\"attributes\":{\"children\":[{\"id\":\"1343\"},{\"id\":\"1345\"}]},\"id\":\"1346\",\"type\":\"Column\"},{\"attributes\":{\"axis\":{\"id\":\"1275\"},\"coordinates\":null,\"group\":null,\"ticker\":null,\"visible\":false},\"id\":\"1278\",\"type\":\"Grid\"},{\"attributes\":{\"end\":24},\"id\":\"1297\",\"type\":\"Range1d\"},{\"attributes\":{\"coordinates\":null,\"formatter\":{\"id\":\"1338\"},\"group\":null,\"major_label_policy\":{\"id\":\"1339\"},\"major_label_text_font_style\":\"bold\",\"ticker\":{\"id\":\"1306\"}},\"id\":\"1305\",\"type\":\"LinearAxis\"},{\"attributes\":{},\"id\":\"1285\",\"type\":\"ResetTool\"},{\"attributes\":{},\"id\":\"1303\",\"type\":\"CategoricalScale\"},{\"attributes\":{},\"id\":\"1280\",\"type\":\"BasicTicker\"},{\"attributes\":{},\"id\":\"1331\",\"type\":\"Selection\"},{\"attributes\":{\"coordinates\":null,\"data_source\":{\"id\":\"1264\"},\"glyph\":{\"id\":\"1292\"},\"group\":null,\"hover_glyph\":null,\"view\":{\"id\":\"1294\"}},\"id\":\"1293\",\"type\":\"GlyphRenderer\"},{\"attributes\":{\"dimensions\":\"width\"},\"id\":\"1284\",\"type\":\"WheelZoomTool\"},{\"attributes\":{\"coordinates\":null,\"formatter\":{\"id\":\"1328\"},\"group\":null,\"major_label_policy\":{\"id\":\"1329\"},\"ticker\":{\"id\":\"1276\"}},\"id\":\"1275\",\"type\":\"LinearAxis\"},{\"attributes\":{},\"id\":\"1306\",\"type\":\"BasicTicker\"},{\"attributes\":{\"coordinates\":null,\"formatter\":{\"id\":\"1335\"},\"group\":null,\"major_label_policy\":{\"id\":\"1336\"},\"major_tick_line_width\":0,\"minor_tick_line_width\":0,\"ticker\":{\"id\":\"1310\"}},\"id\":\"1309\",\"type\":\"CategoricalAxis\"},{\"attributes\":{\"below\":[{\"id\":\"1305\"}],\"center\":[{\"id\":\"1308\"},{\"id\":\"1311\"}],\"height\":80,\"left\":[{\"id\":\"1309\"}],\"min_border\":0,\"renderers\":[{\"id\":\"1319\"},{\"id\":\"1321\"}],\"title\":null,\"toolbar\":{\"id\":\"1314\"},\"toolbar_location\":null,\"width\":300,\"x_range\":{\"id\":\"1297\"},\"x_scale\":{\"id\":\"1301\"},\"y_range\":{\"id\":\"1299\"},\"y_scale\":{\"id\":\"1303\"}},\"id\":\"1295\",\"subtype\":\"Figure\",\"type\":\"Plot\"},{\"attributes\":{\"toolbars\":[{\"id\":\"1287\"},{\"id\":\"1314\"}],\"tools\":[{\"id\":\"1283\"},{\"id\":\"1284\"},{\"id\":\"1285\"},{\"id\":\"1286\"},{\"id\":\"1312\"},{\"id\":\"1313\"}]},\"id\":\"1344\",\"type\":\"ProxyToolbar\"},{\"attributes\":{\"axis\":{\"id\":\"1309\"},\"coordinates\":null,\"dimension\":1,\"group\":null,\"ticker\":null,\"visible\":false},\"id\":\"1311\",\"type\":\"Grid\"},{\"attributes\":{\"coordinates\":null,\"data_source\":{\"id\":\"1264\"},\"glyph\":{\"id\":\"1317\"},\"group\":null,\"hover_glyph\":null,\"view\":{\"id\":\"1320\"}},\"id\":\"1319\",\"type\":\"GlyphRenderer\"},{\"attributes\":{\"tools\":[{\"id\":\"1283\"},{\"id\":\"1284\"},{\"id\":\"1285\"},{\"id\":\"1286\"}]},\"id\":\"1287\",\"type\":\"Toolbar\"},{\"attributes\":{\"coordinates\":null,\"formatter\":{\"id\":\"1325\"},\"group\":null,\"major_label_policy\":{\"id\":\"1326\"},\"ticker\":{\"id\":\"1280\"},\"visible\":false},\"id\":\"1279\",\"type\":\"LinearAxis\"},{\"attributes\":{},\"id\":\"1330\",\"type\":\"UnionRenderers\"},{\"attributes\":{\"dimensions\":\"width\"},\"id\":\"1312\",\"type\":\"PanTool\"},{\"attributes\":{\"data\":{\"colors\":[\"orange\",\"orange\",\"green\",\"blue\",\"orange\",\"blue\",\"red\",\"orange\",\"red\",\"orange\",\"green\",\"red\",\"orange\",\"red\",\"red\",\"red\",\"white\",\"green\",\"red\",\"blue\",\"orange\",\"blue\",\"red\",\"orange\",\"orange\",\"orange\",\"green\",\"blue\",\"orange\",\"blue\",\"red\",\"orange\",\"red\",\"orange\",\"green\",\"red\",\"orange\",\"red\",\"red\",\"red\",\"red\",\"green\",\"red\",\"blue\",\"orange\",\"blue\",\"red\",\"orange\"],\"recty\":{\"__ndarray__\":\"AAAAAAAA4D8AAAAAAADgPwAAAAAAAOA/AAAAAAAA4D8AAAAAAADgPwAAAAAAAOA/AAAAAAAA4D8AAAAAAADgPwAAAAAAAOA/AAAAAAAA4D8AAAAAAADgPwAAAAAAAOA/AAAAAAAA4D8AAAAAAADgPwAAAAAAAOA/AAAAAAAA4D8AAAAAAADgPwAAAAAAAOA/AAAAAAAA4D8AAAAAAADgPwAAAAAAAOA/AAAAAAAA4D8AAAAAAADgPwAAAAAAAOA/AAAAAAAA+D8AAAAAAAD4PwAAAAAAAPg/AAAAAAAA+D8AAAAAAAD4PwAAAAAAAPg/AAAAAAAA+D8AAAAAAAD4PwAAAAAAAPg/AAAAAAAA+D8AAAAAAAD4PwAAAAAAAPg/AAAAAAAA+D8AAAAAAAD4PwAAAAAAAPg/AAAAAAAA+D8AAAAAAAD4PwAAAAAAAPg/AAAAAAAA+D8AAAAAAAD4PwAAAAAAAPg/AAAAAAAA+D8AAAAAAAD4PwAAAAAAAPg/\",\"dtype\":\"float64\",\"order\":\"little\",\"shape\":[48]},\"text\":[\"G\",\"G\",\"T\",\"C\",\"G\",\"C\",\"A\",\"G\",\"A\",\"G\",\"T\",\"A\",\"G\",\"A\",\"A\",\"A\",\"-\",\"T\",\"A\",\"C\",\"G\",\"C\",\"A\",\"G\",\"G\",\"G\",\"T\",\"C\",\"G\",\"C\",\"A\",\"G\",\"A\",\"G\",\"T\",\"A\",\"G\",\"A\",\"A\",\"A\",\"A\",\"T\",\"A\",\"C\",\"G\",\"C\",\"A\",\"G\"],\"x\":[1,2,3,4,5,6,7,8,9,10,11,12,13,14,15,16,17,18,19,20,21,22,23,24,1,2,3,4,5,6,7,8,9,10,11,12,13,14,15,16,17,18,19,20,21,22,23,24],\"y\":[0,0,0,0,0,0,0,0,0,0,0,0,0,0,0,0,0,0,0,0,0,0,0,0,1,1,1,1,1,1,1,1,1,1,1,1,1,1,1,1,1,1,1,1,1,1,1,1]},\"selected\":{\"id\":\"1331\"},\"selection_policy\":{\"id\":\"1330\"}},\"id\":\"1264\",\"type\":\"ColumnDataSource\"},{\"attributes\":{},\"id\":\"1329\",\"type\":\"AllLabels\"},{\"attributes\":{\"children\":[[{\"id\":\"1266\"},0,0],[{\"id\":\"1295\"},1,0]]},\"id\":\"1343\",\"type\":\"GridBox\"},{\"attributes\":{\"coordinates\":null,\"data_source\":{\"id\":\"1264\"},\"glyph\":{\"id\":\"1318\"},\"group\":null,\"hover_glyph\":null,\"view\":{\"id\":\"1322\"}},\"id\":\"1321\",\"type\":\"GlyphRenderer\"},{\"attributes\":{\"fill_alpha\":{\"value\":0.4},\"fill_color\":{\"field\":\"colors\"},\"height\":{\"value\":1},\"line_color\":{\"value\":null},\"width\":{\"value\":1},\"x\":{\"field\":\"x\"},\"y\":{\"field\":\"recty\"}},\"id\":\"1318\",\"type\":\"Rect\"},{\"attributes\":{\"below\":[{\"id\":\"1275\"}],\"center\":[{\"id\":\"1278\"},{\"id\":\"1282\"}],\"height\":50,\"left\":[{\"id\":\"1279\"}],\"min_border\":0,\"renderers\":[{\"id\":\"1293\"}],\"title\":null,\"toolbar\":{\"id\":\"1287\"},\"toolbar_location\":null,\"width\":300,\"x_range\":{\"id\":\"1265\"},\"x_scale\":{\"id\":\"1271\"},\"y_range\":{\"id\":\"1269\"},\"y_scale\":{\"id\":\"1273\"}},\"id\":\"1266\",\"subtype\":\"Figure\",\"type\":\"Plot\"},{\"attributes\":{\"factors\":[\"gRNA\",\"target\"]},\"id\":\"1299\",\"type\":\"FactorRange\"},{\"attributes\":{\"source\":{\"id\":\"1264\"}},\"id\":\"1294\",\"type\":\"CDSView\"},{\"attributes\":{},\"id\":\"1271\",\"type\":\"LinearScale\"},{\"attributes\":{},\"id\":\"1276\",\"type\":\"BasicTicker\"},{\"attributes\":{\"source\":{\"id\":\"1264\"}},\"id\":\"1320\",\"type\":\"CDSView\"},{\"attributes\":{},\"id\":\"1335\",\"type\":\"CategoricalTickFormatter\"},{\"attributes\":{\"children\":[{\"id\":\"1346\"}],\"margin\":[0,0,0,0],\"name\":\"Row00107\"},\"id\":\"1347\",\"type\":\"Row\"},{\"attributes\":{},\"id\":\"1310\",\"type\":\"CategoricalTicker\"},{\"attributes\":{},\"id\":\"1338\",\"type\":\"BasicTickFormatter\"},{\"attributes\":{\"tools\":[{\"id\":\"1312\"},{\"id\":\"1313\"}]},\"id\":\"1314\",\"type\":\"Toolbar\"},{\"attributes\":{\"text_align\":{\"value\":\"center\"},\"text_color\":{\"value\":\"black\"},\"text_font\":{\"field\":\"monospace\"},\"text_font_size\":{\"value\":\"9pt\"},\"x\":{\"field\":\"x\"},\"y\":{\"field\":\"y\"}},\"id\":\"1317\",\"type\":\"Text\"},{\"attributes\":{},\"id\":\"1273\",\"type\":\"LinearScale\"},{\"attributes\":{\"client_comm_id\":\"aff14d92464e4e00b3fa0480ed95fc22\",\"comm_id\":\"7a06a9a51f6243bf98ced53569f0baaa\",\"plot_id\":\"1347\"},\"id\":\"1428\",\"type\":\"panel.models.comm_manager.CommManager\"}],\"root_ids\":[\"1347\",\"1428\"]},\"title\":\"Bokeh Application\",\"version\":\"2.4.2\"}};\n",
       "    var render_items = [{\"docid\":\"a67864b9-9b46-4b01-82c9-94204f847678\",\"root_ids\":[\"1347\"],\"roots\":{\"1347\":\"a7d9d056-fb9d-4f14-a7d4-86211f6bb4ad\"}}];\n",
       "    root.Bokeh.embed.embed_items_notebook(docs_json, render_items);\n",
       "  }\n",
       "  if (root.Bokeh !== undefined && root.Bokeh.Panel !== undefined) {\n",
       "    embed_document(root);\n",
       "  } else {\n",
       "    var attempts = 0;\n",
       "    var timer = setInterval(function(root) {\n",
       "      if (root.Bokeh !== undefined && root.Bokeh.Panel !== undefined) {\n",
       "        clearInterval(timer);\n",
       "        embed_document(root);\n",
       "      } else if (document.readyState == \"complete\") {\n",
       "        attempts++;\n",
       "        if (attempts > 200) {\n",
       "          clearInterval(timer);\n",
       "          console.log(\"Bokeh: ERROR: Unable to run BokehJS code because BokehJS library is missing\");\n",
       "        }\n",
       "      }\n",
       "    }, 25, root)\n",
       "  }\n",
       "})(window);</script>"
      ],
      "text/plain": [
       "Bokeh(Column)"
      ]
     },
     "execution_count": 16,
     "metadata": {
      "application/vnd.holoviews_exec.v0+json": {
       "id": "1347"
      }
     },
     "output_type": "execute_result"
    }
   ],
   "source": [
    "p = view_alignment(alns1[100], plot_width=300)\n",
    "pn.pane.Bokeh(p)"
   ]
  },
  {
   "cell_type": "code",
   "execution_count": 15,
   "metadata": {
    "ExecuteTime": {
     "end_time": "2022-01-24T22:10:46.887687Z",
     "start_time": "2022-01-24T22:10:46.882426Z"
    }
   },
   "outputs": [],
   "source": [
    "try:\n",
    "    for i in range(len(mats1[100])):\n",
    "        print((i, mats1[100][i]))\n",
    "except:\n",
    "    pass"
   ]
  },
  {
   "cell_type": "code",
   "execution_count": null,
   "metadata": {},
   "outputs": [],
   "source": []
  }
 ],
 "metadata": {
  "kernelspec": {
   "display_name": "Python 3",
   "language": "python",
   "name": "python3"
  },
  "language_info": {
   "codemirror_mode": {
    "name": "ipython",
    "version": 3
   },
   "file_extension": ".py",
   "mimetype": "text/x-python",
   "name": "python",
   "nbconvert_exporter": "python",
   "pygments_lexer": "ipython3",
   "version": "3.7.7"
  }
 },
 "nbformat": 4,
 "nbformat_minor": 5
}
