{
 "cells": [
  {
   "cell_type": "code",
   "execution_count": 1,
   "id": "f756b219",
   "metadata": {},
   "outputs": [
    {
     "name": "stdout",
     "output_type": "stream",
     "text": [
      "/mnt/ceph/users/zzhang/CRISPR_pred/crispr_kinn\n"
     ]
    },
    {
     "name": "stderr",
     "output_type": "stream",
     "text": [
      "Matplotlib created a temporary config/cache directory at /tmp/matplotlib-wut9vcsf because the default path (/home/zzhang/.cache/matplotlib) is not a writable directory; it is highly recommended to set the MPLCONFIGDIR environment variable to a writable directory, in particular to speed up the import of Matplotlib and to better support multiprocessing.\n"
     ]
    },
    {
     "name": "stdout",
     "output_type": "stream",
     "text": [
      "0.1.1-ga\n"
     ]
    },
    {
     "name": "stderr",
     "output_type": "stream",
     "text": [
      "Using TensorFlow backend.\n"
     ]
    }
   ],
   "source": [
    "%cd /mnt/ceph/users/zzhang/CRISPR_pred/crispr_kinn\n",
    "# reload and re-train to full convergence\n",
    "%run notebooks/reload\n",
    "\n",
    "from src.kinetic_model import KineticModel, modelSpace_to_modelParams\n",
    "from src.neural_network_builder import KineticNeuralNetworkBuilder\n",
    "from notebooks.runAmber import get_uniform_ms, get_finkelstein_ms\n",
    "\n",
    "import warnings\n",
    "warnings.filterwarnings('ignore')\n",
    "import time\n",
    "from datetime import datetime\n",
    "\n",
    "import matplotlib as mpl\n",
    "import matplotlib.pyplot as plt\n",
    "import seaborn as sns\n",
    "\n",
    "import scipy.stats as ss\n",
    "import pandas as pd\n",
    "import numpy as np\n",
    "from tqdm import tqdm\n",
    "import tensorflow as tf\n",
    "tf.logging.set_verbosity(tf.logging.ERROR)\n",
    "from tensorflow.keras.optimizers import SGD, Adam\n",
    "from tensorflow.keras.callbacks import ModelCheckpoint, EarlyStopping\n",
    "\n",
    "import shutil\n",
    "import os\n",
    "import pickle\n",
    "import gc\n",
    "from sklearn.model_selection import train_test_split"
   ]
  },
  {
   "cell_type": "code",
   "execution_count": 2,
   "id": "259d4da6",
   "metadata": {},
   "outputs": [
    {
     "data": {
      "text/plain": [
       "{'wtCas9_cleave_rate_log': 0,\n",
       " 'Cas9_enh_cleave_rate_log': 1,\n",
       " 'Cas9_hypa_cleave_rate_log': 2,\n",
       " 'Cas9_HF1_cleave_rate_log': 3,\n",
       " 'wtCas9_cleave_rate_log_specificity': 4,\n",
       " 'Cas9_enh_cleave_rate_log_specificity': 5,\n",
       " 'Cas9_hypa_cleave_rate_log_specificity': 6,\n",
       " 'Cas9_HF1_cleave_rate_log_specificity': 7,\n",
       " 'wtCas9_ndABA': 8,\n",
       " 'Cas9_enh_ndABA': 9,\n",
       " 'Cas9_hypa_ndABA': 10,\n",
       " 'Cas9_HF1_ndABA': 11}"
      ]
     },
     "execution_count": 2,
     "metadata": {},
     "output_type": "execute_result"
    }
   ],
   "source": [
    "x = np.load('./data/compiled_X.npy')\n",
    "y = np.load('./data/compiled_Y.npy')\n",
    "with open('./data/y_col_annot.txt', 'r') as f:\n",
    "    label_annot = [x.strip() for x in f]\n",
    "    label_annot = {x:i for i,x in enumerate(label_annot)}\n",
    "x_train, x_test, y_train, y_test = train_test_split(x, y, test_size=0.2, random_state=777)\n",
    "target_idx = label_annot['wtCas9_cleave_rate_log']\n",
    "label_annot"
   ]
  },
  {
   "cell_type": "code",
   "execution_count": 3,
   "id": "24ddc0c0",
   "metadata": {},
   "outputs": [
    {
     "name": "stdout",
     "output_type": "stream",
     "text": [
      "StateSpace with 7 layers and 1 total combinations\n"
     ]
    }
   ],
   "source": [
    "kinn_model_space = get_finkelstein_ms()\n",
    "print(kinn_model_space)"
   ]
  },
  {
   "cell_type": "code",
   "execution_count": 30,
   "id": "ce21d617",
   "metadata": {},
   "outputs": [
    {
     "name": "stdout",
     "output_type": "stream",
     "text": [
      "Model: \"model_3\"\n",
      "__________________________________________________________________________________________________\n",
      "Layer (type)                    Output Shape         Param #     Connected to                     \n",
      "==================================================================================================\n",
      "input_0_3 (InputLayer)          [(None, 3, 8)]       0                                            \n",
      "__________________________________________________________________________________________________\n",
      "input_7_16 (InputLayer)         [(None, 9, 8)]       0                                            \n",
      "__________________________________________________________________________________________________\n",
      "input_3_11 (InputLayer)         [(None, 8, 8)]       0                                            \n",
      "__________________________________________________________________________________________________\n",
      "input_17_24 (InputLayer)        [(None, 7, 8)]       0                                            \n",
      "__________________________________________________________________________________________________\n",
      "input_15_22 (InputLayer)        [(None, 7, 8)]       0                                            \n",
      "__________________________________________________________________________________________________\n",
      "input_3_10 (InputLayer)         [(None, 7, 8)]       0                                            \n",
      "__________________________________________________________________________________________________\n",
      "conv_k0 (Conv1D)                (None, 1, 1)         25          input_0_3[0][0]                  \n",
      "__________________________________________________________________________________________________\n",
      "conv_k1 (Conv1D)                (None, 1, 1)         25          input_0_3[0][0]                  \n",
      "__________________________________________________________________________________________________\n",
      "conv_k2 (Conv1D)                (None, 9, 1)         57          input_7_16[0][0]                 \n",
      "__________________________________________________________________________________________________\n",
      "conv_k3 (Conv1D)                (None, 8, 1)         57          input_3_11[0][0]                 \n",
      "__________________________________________________________________________________________________\n",
      "conv_k4 (Conv1D)                (None, 7, 1)         57          input_17_24[0][0]                \n",
      "__________________________________________________________________________________________________\n",
      "conv_k5 (Conv1D)                (None, 7, 1)         41          input_15_22[0][0]                \n",
      "__________________________________________________________________________________________________\n",
      "conv_k6 (Conv1D)                (None, 7, 1)         57          input_3_10[0][0]                 \n",
      "__________________________________________________________________________________________________\n",
      "sum_k0 (Lambda)                 (None, 1)            0           conv_k0[0][0]                    \n",
      "__________________________________________________________________________________________________\n",
      "sum_k1 (Lambda)                 (None, 1)            0           conv_k1[0][0]                    \n",
      "__________________________________________________________________________________________________\n",
      "sum_k2 (Lambda)                 (None, 1)            0           conv_k2[0][0]                    \n",
      "__________________________________________________________________________________________________\n",
      "sum_k3 (Lambda)                 (None, 1)            0           conv_k3[0][0]                    \n",
      "__________________________________________________________________________________________________\n",
      "sum_k4 (Lambda)                 (None, 1)            0           conv_k4[0][0]                    \n",
      "__________________________________________________________________________________________________\n",
      "sum_k5 (Lambda)                 (None, 1)            0           conv_k5[0][0]                    \n",
      "__________________________________________________________________________________________________\n",
      "sum_k6 (Lambda)                 (None, 1)            0           conv_k6[0][0]                    \n",
      "__________________________________________________________________________________________________\n",
      "gather_rates (Concatenate)      (None, 7)            0           sum_k0[0][0]                     \n",
      "                                                                 sum_k1[0][0]                     \n",
      "                                                                 sum_k2[0][0]                     \n",
      "                                                                 sum_k3[0][0]                     \n",
      "                                                                 sum_k4[0][0]                     \n",
      "                                                                 sum_k5[0][0]                     \n",
      "                                                                 sum_k6[0][0]                     \n",
      "__________________________________________________________________________________________________\n",
      "KingAltman (Lambda)             (None, 10)           0           gather_rates[0][0]               \n",
      "__________________________________________________________________________________________________\n",
      "KA_slice_9 (Lambda)             (None, 1)            0           KingAltman[0][0]                 \n",
      "__________________________________________________________________________________________________\n",
      "exp_k6_9 (Lambda)               (None, 1)            0           sum_k6[0][0]                     \n",
      "__________________________________________________________________________________________________\n",
      "gather_act_9 (Concatenate)      (None, 2)            0           KA_slice_9[0][0]                 \n",
      "                                                                 exp_k6_9[0][0]                   \n",
      "__________________________________________________________________________________________________\n",
      "prod_act_9 (Lambda)             (None, 1)            0           gather_act_9[0][0]               \n",
      "__________________________________________________________________________________________________\n",
      "output_log10 (Lambda)           (None, 1)            0           prod_act_9[0][0]                 \n",
      "==================================================================================================\n",
      "Total params: 319\n",
      "Trainable params: 319\n",
      "Non-trainable params: 0\n",
      "__________________________________________________________________________________________________\n"
     ]
    }
   ],
   "source": [
    "mb = reload_from_dir(\"outputs/notebook\", replace_conv_by_fc=False, n_channels=8)\n",
    "model = mb.model"
   ]
  },
  {
   "cell_type": "code",
   "execution_count": 31,
   "id": "e37d8528",
   "metadata": {},
   "outputs": [],
   "source": [
    "x_train_b = mb.blockify_seq_ohe(x_train)\n",
    "x_test_b = mb.blockify_seq_ohe(x_test)\n",
    "wd = \"outputs/notebook\"\n",
    "y_hat = model.predict(x_test_b).flatten()\n",
    "test_pcc = ss.pearsonr(y_hat, y_test[:,target_idx])[0]"
   ]
  },
  {
   "cell_type": "code",
   "execution_count": 32,
   "id": "46537232",
   "metadata": {},
   "outputs": [
    {
     "data": {
      "image/png": "[encoded data removed]",
      "text/plain": [
       "<IPython.core.display.Image object>"
      ]
     },
     "execution_count": 32,
     "metadata": {},
     "output_type": "execute_result"
    }
   ],
   "source": [
    "tf.keras.utils.plot_model(model)"
   ]
  },
  {
   "cell_type": "code",
   "execution_count": 33,
   "id": "60beedb1",
   "metadata": {},
   "outputs": [
    {
     "data": {
      "text/plain": [
       "array([[0., 1., 0., 1., 0., 0., 1.],\n",
       "       [0., 1., 0., 0., 1., 0., 1.],\n",
       "       [0., 0., 1., 0., 1., 0., 1.],\n",
       "       [0., 1., 0., 1., 0., 1., 0.],\n",
       "       [1., 0., 1., 0., 0., 0., 1.],\n",
       "       [1., 0., 1., 0., 0., 1., 0.],\n",
       "       [1., 0., 0., 1., 0., 0., 1.],\n",
       "       [1., 0., 0., 0., 1., 0., 1.],\n",
       "       [1., 0., 0., 1., 0., 1., 0.],\n",
       "       [1., 0., 1., 0., 1., 0., 0.]])"
      ]
     },
     "execution_count": 33,
     "metadata": {},
     "output_type": "execute_result"
    }
   ],
   "source": [
    "mb.kinn.get_ka_pattern_mat()"
   ]
  },
  {
   "cell_type": "code",
   "execution_count": 34,
   "id": "2c81d4fd",
   "metadata": {},
   "outputs": [],
   "source": [
    "layer_dict = {l.name:l for l in model.layers}"
   ]
  },
  {
   "cell_type": "code",
   "execution_count": 35,
   "id": "51421cb6",
   "metadata": {},
   "outputs": [],
   "source": [
    "rate_mod = tf.keras.models.Model(inputs=model.inputs, outputs=\n",
    "                                 [layer_dict[\"sum_k%i\"%k].output for k in range(7)])"
   ]
  },
  {
   "cell_type": "code",
   "execution_count": 36,
   "id": "b0ed0578",
   "metadata": {},
   "outputs": [
    {
     "name": "stdout",
     "output_type": "stream",
     "text": [
      "sgRNA1\n",
      " [[0. 0. 1. 0.]\n",
      " [0. 0. 1. 0.]\n",
      " [0. 0. 0. 1.]\n",
      " [0. 1. 0. 0.]\n",
      " [0. 0. 1. 0.]\n",
      " [0. 1. 0. 0.]\n",
      " [1. 0. 0. 0.]\n",
      " [0. 0. 1. 0.]]\n",
      "sgRNA2\n",
      " [[0. 0. 1. 0.]\n",
      " [0. 0. 1. 0.]\n",
      " [0. 0. 0. 1.]\n",
      " [0. 0. 1. 0.]\n",
      " [0. 0. 0. 1.]\n",
      " [1. 0. 0. 0.]\n",
      " [0. 1. 0. 0.]\n",
      " [0. 1. 0. 0.]]\n"
     ]
    }
   ],
   "source": [
    "print('sgRNA1\\n', x_train[1,0:8, 0:4])\n",
    "print('sgRNA2\\n', x_train[0,0:8, 0:4])"
   ]
  },
  {
   "cell_type": "code",
   "execution_count": 37,
   "id": "08d29825",
   "metadata": {},
   "outputs": [
    {
     "data": {
      "text/plain": [
       "array([[[1., 0., 0., 0., 0., 0., 0., 0.],\n",
       "        [0., 0., 0., 1., 0., 0., 0., 0.],\n",
       "        [1., 0., 0., 0., 0., 0., 0., 0.],\n",
       "        [0., 1., 0., 0., 0., 0., 0., 0.],\n",
       "        [0., 0., 1., 0., 0., 0., 0., 0.],\n",
       "        [0., 1., 0., 0., 0., 0., 0., 0.],\n",
       "        [1., 0., 0., 0., 0., 0., 0., 0.]],\n",
       "\n",
       "       [[0., 0., 1., 0., 0., 0., 0., 0.],\n",
       "        [1., 0., 0., 0., 0., 0., 0., 0.],\n",
       "        [1., 0., 0., 0., 0., 0., 0., 0.],\n",
       "        [0., 0., 0., 1., 0., 0., 0., 0.],\n",
       "        [1., 0., 0., 0., 0., 0., 0., 0.],\n",
       "        [0., 0., 1., 0., 0., 0., 0., 0.],\n",
       "        [0., 0., 0., 1., 0., 0., 0., 0.]]])"
      ]
     },
     "execution_count": 37,
     "metadata": {},
     "output_type": "execute_result"
    }
   ],
   "source": [
    "matched = np.concatenate([x_train[[1,0], :, 0:4], np.zeros((2,25,4))], axis=-1)\n",
    "matched_b = mb.blockify_seq_ohe(matched)\n",
    "matched_b[0]"
   ]
  },
  {
   "cell_type": "code",
   "execution_count": 38,
   "id": "e44d6f6a",
   "metadata": {},
   "outputs": [
    {
     "data": {
      "text/plain": [
       "array([[-3.7709334],\n",
       "       [-4.0201197]], dtype=float32)"
      ]
     },
     "execution_count": 38,
     "metadata": {},
     "output_type": "execute_result"
    }
   ],
   "source": [
    "model.predict(matched_b)"
   ]
  },
  {
   "cell_type": "code",
   "execution_count": 39,
   "id": "a3c30591",
   "metadata": {},
   "outputs": [
    {
     "name": "stdout",
     "output_type": "stream",
     "text": [
      "   sgRNA_1   snRNA_2\n",
      "k_0 [-2.1473446 -2.1473446]\n",
      "k_1 [2.8620214 2.8620214]\n",
      "k_2 [3.5452936 2.752993 ]\n",
      "k_3 [5.693591  5.5691195]\n",
      "k_4 [-1.3985838 -1.359355 ]\n",
      "k_5 [-0.22807595 -0.63198125]\n",
      "k_6 [1.8583987 2.1006007]\n"
     ]
    }
   ],
   "source": [
    "a = rate_mod.predict(matched_b)\n",
    "print(\"   sgRNA_1   snRNA_2\")\n",
    "for i in range(7):\n",
    "    r = a[i]\n",
    "    print(\"k_%i\"%i, r.flatten())\n",
    "# activity\n",
    "#print(\"act\", a[7].flatten())"
   ]
  },
  {
   "cell_type": "code",
   "execution_count": 40,
   "id": "3a868420",
   "metadata": {},
   "outputs": [],
   "source": [
    "r = rate_mod.predict([x_test_b[i] for i in range(len(x_train_b))])"
   ]
  },
  {
   "cell_type": "code",
   "execution_count": 41,
   "id": "05615cb4",
   "metadata": {},
   "outputs": [
    {
     "data": {
      "text/plain": [
       "array([-5.        , -3.84858724, -5.        , -5.        , -5.        ,\n",
       "       -3.69597072, -2.31258181, -5.        , -3.28703816, -4.86598589,\n",
       "       -3.88005823, -4.07122425, -4.95645846, -5.        , -2.28959828,\n",
       "       -5.        , -2.293807  , -3.94799902, -5.        , -1.80381751])"
      ]
     },
     "execution_count": 41,
     "metadata": {},
     "output_type": "execute_result"
    }
   ],
   "source": [
    "y_test[0:20, target_idx]"
   ]
  },
  {
   "cell_type": "code",
   "execution_count": 45,
   "id": "36380cc1",
   "metadata": {},
   "outputs": [
    {
     "data": {
      "text/plain": [
       "{'k0': -4.0853305,\n",
       " 'k1': 4.8053265,\n",
       " 'k2': 2.752993,\n",
       " 'k3': 5.5691195,\n",
       " 'k4': -1.359355,\n",
       " 'k5': -0.63198125,\n",
       " 'k6': 2.1006007}"
      ]
     },
     "execution_count": 45,
     "metadata": {},
     "output_type": "execute_result"
    }
   ],
   "source": [
    "i = 0\n",
    "{\"k%i\"%_:r[_][i][0] for _ in range(len(r))}"
   ]
  },
  {
   "cell_type": "code",
   "execution_count": 46,
   "id": "d071f428",
   "metadata": {},
   "outputs": [
    {
     "name": "stdout",
     "output_type": "stream",
     "text": [
      "row 0\t G ->A\n",
      "row 1\t G ->C\n",
      "row 2\t T \n",
      "row 3\t G \n",
      "row 4\t T \n",
      "row 5\t A \n",
      "row 6\t C \n",
      "row 7\t C \n",
      "row 8\t G \n",
      "row 9\t T \n",
      "row 10\t A \n",
      "row 11\t A \n",
      "row 12\t G \n",
      "row 13\t G \n",
      "row 14\t T \n",
      "row 15\t G \n",
      "row 16\t A \n",
      "row 17\t A \n",
      "row 18\t T \n",
      "row 19\t A \n",
      "row 20\t G \n",
      "row 21\t T \n",
      "row 22\t G \n"
     ]
    }
   ],
   "source": [
    "def pretty_print(mat):\n",
    "    for i, r in enumerate(mat):\n",
    "        h, t = r[0:4], r[4:]\n",
    "        try:\n",
    "            ref = 'ACGT'[np.where(h==1)[0][0]]\n",
    "        except:\n",
    "            continue\n",
    "        if sum(t) == 0:\n",
    "            edit = ''\n",
    "        else:\n",
    "            edit = '->' + 'ACGT'[np.where(t==1)[0][0]]\n",
    "\n",
    "        print('row %i\\t'%i, ref, edit)\n",
    "        #print('row ', i, r)\n",
    "\n",
    "pretty_print(x_test[i])"
   ]
  },
  {
   "cell_type": "code",
   "execution_count": 47,
   "id": "bb87a839",
   "metadata": {},
   "outputs": [
    {
     "name": "stdout",
     "output_type": "stream",
     "text": [
      "obs  -5.0 ; pred  -5.7024355\n"
     ]
    }
   ],
   "source": [
    "print(\"obs \", y_test[i, target_idx], \"; pred \",y_hat[i])"
   ]
  },
  {
   "cell_type": "code",
   "execution_count": null,
   "id": "32a606f0",
   "metadata": {},
   "outputs": [],
   "source": []
  }
 ],
 "metadata": {
  "kernelspec": {
   "display_name": "Python 3",
   "language": "python",
   "name": "python3"
  },
  "language_info": {
   "codemirror_mode": {
    "name": "ipython",
    "version": 3
   },
   "file_extension": ".py",
   "mimetype": "text/x-python",
   "name": "python",
   "nbconvert_exporter": "python",
   "pygments_lexer": "ipython3",
   "version": "3.7.9"
  }
 },
 "nbformat": 4,
 "nbformat_minor": 5
}
