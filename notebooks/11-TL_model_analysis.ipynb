{
 "cells": [
  {
   "cell_type": "code",
   "execution_count": 1,
   "id": "5423b064",
   "metadata": {},
   "outputs": [
    {
     "name": "stdout",
     "output_type": "stream",
     "text": [
      "/mnt/ceph/users/zzhang/CRISPR_pred/crispr_kinn\n"
     ]
    }
   ],
   "source": [
    "%cd .."
   ]
  },
  {
   "cell_type": "code",
   "execution_count": 2,
   "id": "2ca88f84",
   "metadata": {},
   "outputs": [
    {
     "name": "stderr",
     "output_type": "stream",
     "text": [
      "Using TensorFlow backend.\n"
     ]
    }
   ],
   "source": [
    "import tensorflow as tf\n",
    "import h5py\n",
    "import numpy as np\n",
    "import pandas as pd\n",
    "import os\n",
    "import scipy.stats as ss\n",
    "from src.transfer_learn import KinnLayer, amber_app"
   ]
  },
  {
   "cell_type": "code",
   "execution_count": 3,
   "id": "80e011a7",
   "metadata": {},
   "outputs": [],
   "source": [
    "#target_wd = \"outputs/2022-10-18/TL_2\"\n",
    "target_wd = \"outputs/test_tl_amber\""
   ]
  },
  {
   "cell_type": "code",
   "execution_count": 4,
   "id": "4fd40476",
   "metadata": {
    "scrolled": false
   },
   "outputs": [
    {
     "data": {
      "text/html": [
       "<div>\n",
       "<style scoped>\n",
       "    .dataframe tbody tr th:only-of-type {\n",
       "        vertical-align: middle;\n",
       "    }\n",
       "\n",
       "    .dataframe tbody tr th {\n",
       "        vertical-align: top;\n",
       "    }\n",
       "\n",
       "    .dataframe thead th {\n",
       "        text-align: right;\n",
       "    }\n",
       "</style>\n",
       "<table border=\"1\" class=\"dataframe\">\n",
       "  <thead>\n",
       "    <tr style=\"text-align: right;\">\n",
       "      <th></th>\n",
       "      <th>0</th>\n",
       "      <th>1</th>\n",
       "      <th>2</th>\n",
       "      <th>3</th>\n",
       "      <th>4</th>\n",
       "      <th>5</th>\n",
       "      <th>6</th>\n",
       "      <th>7</th>\n",
       "      <th>8</th>\n",
       "      <th>9</th>\n",
       "      <th>10</th>\n",
       "    </tr>\n",
       "  </thead>\n",
       "  <tbody>\n",
       "    <tr>\n",
       "      <th>1</th>\n",
       "      <td>1</td>\n",
       "      <td>[0, 0.7210029793850556]</td>\n",
       "      <td>0.721003</td>\n",
       "      <td>0</td>\n",
       "      <td>1</td>\n",
       "      <td>2</td>\n",
       "      <td>2</td>\n",
       "      <td>3</td>\n",
       "      <td>1</td>\n",
       "      <td>0</td>\n",
       "      <td>4</td>\n",
       "    </tr>\n",
       "  </tbody>\n",
       "</table>\n",
       "</div>"
      ],
      "text/plain": [
       "   0                        1         2   3   4   5   6   7   8   9   10\n",
       "1   1  [0, 0.7210029793850556]  0.721003   0   1   2   2   3   1   0   4"
      ]
     },
     "execution_count": 4,
     "metadata": {},
     "output_type": "execute_result"
    }
   ],
   "source": [
    "train_hist = pd.read_table(os.path.join(target_wd, \"train_history.csv\"), sep=\",\", header=None)\n",
    "best_trial_id = train_hist.sort_values(2, ascending=False).head(1)[0]\n",
    "best_arc_seq = train_hist.loc[best_trial_id, 3:].iloc[0].tolist()\n",
    "# loading from h5 is not working yet\n",
    "#model = tf.keras.models.load_model(\n",
    "#    os.path.join(target_wd, \"weights\", \"trial_%i\"%best_trial_id, \"bestmodel.h5\"),\n",
    "#    custom_objects={\"KinnLayer\": KinnLayer})\n",
    "train_hist.loc[best_trial_id]"
   ]
  },
  {
   "cell_type": "code",
   "execution_count": 5,
   "id": "36c22cf7",
   "metadata": {},
   "outputs": [
    {
     "name": "stdout",
     "output_type": "stream",
     "text": [
      "BUILDING\n",
      "----------\n"
     ]
    },
    {
     "name": "stderr",
     "output_type": "stream",
     "text": [
      "2022-10-20 03:28:51,193 - AMBER - INFO -\n",
      " time budget set to: 72:00:00\n"
     ]
    },
    {
     "name": "stdout",
     "output_type": "stream",
     "text": [
      "controller = GeneralController\n",
      "modeler = <class 'src.transfer_learn.TransferKinnModelBuilder'>\n",
      "knowledge = zero\n",
      "reward = LossAucReward\n",
      "manager = GeneralManager\n",
      "env_type = ControllerTrainEnv\n"
     ]
    }
   ],
   "source": [
    "if os.path.isdir(\"weights\"):\n",
    "    os.rmdir(\"weights\")\n",
    "amb = amber_app(wd=\".\", run=False)\n",
    "# clean up folders created by trainEnv\n",
    "os.rmdir(\"weights\")"
   ]
  },
  {
   "cell_type": "code",
   "execution_count": 6,
   "id": "4b6c6411",
   "metadata": {},
   "outputs": [],
   "source": [
    "model = amb.model_fn(best_arc_seq)\n",
    "model.load_weights(os.path.join(target_wd, \"weights\", \"trial_%i\"%best_trial_id, \"bestmodel.h5\"))"
   ]
  },
  {
   "cell_type": "code",
   "execution_count": 7,
   "id": "81bc265d",
   "metadata": {},
   "outputs": [
    {
     "name": "stdout",
     "output_type": "stream",
     "text": [
      "Model: \"model_1\"\n",
      "__________________________________________________________________________________________________\n",
      "Layer (type)                    Output Shape         Param #     Connected to                     \n",
      "==================================================================================================\n",
      "input (InputLayer)              [(None, 25, 13)]     0                                            \n",
      "__________________________________________________________________________________________________\n",
      "conv11 (Conv1D)                 (None, 25, 16)       224         input[0][0]                      \n",
      "__________________________________________________________________________________________________\n",
      "dropout (Dropout)               (None, 25, 16)       0           conv11[0][0]                     \n",
      "__________________________________________________________________________________________________\n",
      "conv27 (Conv1D)                 (None, 19, 64)       7232        dropout[0][0]                    \n",
      "__________________________________________________________________________________________________\n",
      "dropout_1 (Dropout)             (None, 19, 64)       0           conv27[0][0]                     \n",
      "__________________________________________________________________________________________________\n",
      "lambda (Lambda)                 (None, 19, 64)       0           dropout_1[0][0]                  \n",
      "__________________________________________________________________________________________________\n",
      "BiDir8 (Bidirectional)          (None, 19, 16)       4672        lambda[0][0]                     \n",
      "__________________________________________________________________________________________________\n",
      "flatten (Flatten)               (None, 304)          0           BiDir8[0][0]                     \n",
      "__________________________________________________________________________________________________\n",
      "kinn_u61 (KinnLayer)            (None, 1)            3087        flatten[0][0]                    \n",
      "                                                                 input[0][0]                      \n",
      "__________________________________________________________________________________________________\n",
      "output_final (Dense)            (None, 1)            2           kinn_u61[0][0]                   \n",
      "==================================================================================================\n",
      "Total params: 15,217\n",
      "Trainable params: 14,875\n",
      "Non-trainable params: 342\n",
      "__________________________________________________________________________________________________\n"
     ]
    }
   ],
   "source": [
    "model.summary()"
   ]
  },
  {
   "cell_type": "code",
   "execution_count": 8,
   "id": "6159638c",
   "metadata": {},
   "outputs": [],
   "source": [
    "with h5py.File(\"./data/inVivoData.h5\", \"r\") as store:\n",
    "    t1 = store[\"test/Kleinsitver_mut/x\"][()], store[\"test/Kleinsitver_mut/y\"][()]\n",
    "    t2 = store[\"test/Listgarten_mut/x\"][()], store[\"test/Listgarten_mut/y\"][()]\n",
    "    t3 = store[\"test/Listgarten_indel/x\"][()], store[\"test/Listgarten_indel/y\"][()]\n",
    "    valid_data = store[\"valid/x\"][()], store[\"valid/y\"][()], store[\"valid/k\"][()]"
   ]
  },
  {
   "cell_type": "code",
   "execution_count": 9,
   "id": "9e922492",
   "metadata": {},
   "outputs": [],
   "source": [
    "benchmarks = {\n",
    "    \"Kleinsitver\": amb.reward_fn(model, t1)[0],\n",
    "    \"Listgarten\": amb.reward_fn(model, t2)[0],\n",
    "    \"Listgarten_Indel\": amb.reward_fn(model, t3)[0],\n",
    "    \"Finkelstein\": amb.reward_fn(model, valid_data)[0]\n",
    "}"
   ]
  },
  {
   "cell_type": "code",
   "execution_count": 10,
   "id": "063a7e90",
   "metadata": {},
   "outputs": [
    {
     "data": {
      "text/plain": [
       "{'Kleinsitver': 0.3837633863535264,\n",
       " 'Listgarten': 0.21783724478862876,\n",
       " 'Listgarten_Indel': 0.25203796554152513,\n",
       " 'Finkelstein': 0.7355633817909337}"
      ]
     },
     "execution_count": 10,
     "metadata": {},
     "output_type": "execute_result"
    }
   ],
   "source": [
    "benchmarks"
   ]
  },
  {
   "cell_type": "code",
   "execution_count": 11,
   "id": "a6d9a90a",
   "metadata": {},
   "outputs": [],
   "source": [
    "layer_dict = {l.name:l for l in model.layers}\n",
    "k_layer_name = [x for x in layer_dict if x.startswith(\"kinn_\")][0]\n",
    "kinetic_model = tf.keras.models.Model(\n",
    "    inputs = model.inputs,\n",
    "    outputs = layer_dict[k_layer_name].output\n",
    ")"
   ]
  },
  {
   "cell_type": "code",
   "execution_count": 12,
   "id": "83c21e80",
   "metadata": {},
   "outputs": [],
   "source": [
    "old_pred_ks = layer_dict[k_layer_name].kinn_header.predict(layer_dict[k_layer_name].mb.blockify_seq_ohe(valid_data[0][:, :, 4:]))"
   ]
  },
  {
   "cell_type": "code",
   "execution_count": 13,
   "id": "a86212f5",
   "metadata": {},
   "outputs": [],
   "source": [
    "pred_k = kinetic_model.predict(valid_data[0]).flatten()"
   ]
  },
  {
   "cell_type": "code",
   "execution_count": 14,
   "id": "603dcbf1",
   "metadata": {},
   "outputs": [],
   "source": [
    "sess = tf.keras.backend.get_session()\n",
    "old_pred_k = sess.run(layer_dict[k_layer_name].kinn_body(old_pred_ks)).flatten()"
   ]
  },
  {
   "cell_type": "code",
   "execution_count": 21,
   "id": "a4ba9c33",
   "metadata": {},
   "outputs": [
    {
     "name": "stdout",
     "output_type": "stream",
     "text": [
      "(0.3553310311673297, 0.0) (0.880788659557428, 0.0)\n"
     ]
    }
   ],
   "source": [
    "#ss.pearsonr(np.clip(pred_k.flatten(), -5, -1), valid_data[2])\n",
    "print(\n",
    "    ss.pearsonr(np.clip(pred_k, -5, -1), valid_data[2]),\n",
    "    #ss.pearsonr(pred_k, valid_data[2]), \n",
    "    ss.pearsonr(np.clip(old_pred_k, -5, -1), valid_data[2])\n",
    "    #ss.pearsonr(old_pred_k, valid_data[2])\n",
    ")"
   ]
  },
  {
   "cell_type": "code",
   "execution_count": 22,
   "id": "4ffe29e2",
   "metadata": {},
   "outputs": [
    {
     "data": {
      "text/plain": [
       "array([-1.7354873 , -1.0349562 , -1.2335881 , ..., -4.4195676 ,\n",
       "       -6.9999995 , -0.99999994], dtype=float32)"
      ]
     },
     "execution_count": 22,
     "metadata": {},
     "output_type": "execute_result"
    }
   ],
   "source": [
    "pred_k"
   ]
  },
  {
   "cell_type": "code",
   "execution_count": 17,
   "id": "cedf18b6",
   "metadata": {},
   "outputs": [
    {
     "data": {
      "text/plain": [
       "array([-1.03242438, -1.15347785, -0.93014961, ..., -5.        ,\n",
       "       -5.        , -5.        ])"
      ]
     },
     "execution_count": 17,
     "metadata": {},
     "output_type": "execute_result"
    }
   ],
   "source": [
    "valid_data[2]"
   ]
  },
  {
   "cell_type": "code",
   "execution_count": 18,
   "id": "220edc57",
   "metadata": {},
   "outputs": [
    {
     "data": {
      "image/png": "[encoded data removed]",
      "text/plain": [
       "<IPython.core.display.Image object>"
      ]
     },
     "execution_count": 18,
     "metadata": {},
     "output_type": "execute_result"
    }
   ],
   "source": [
    "tf.keras.utils.plot_model(layer_dict[k_layer_name].kinn_header)"
   ]
  },
  {
   "cell_type": "code",
   "execution_count": 19,
   "id": "3f4af88d",
   "metadata": {},
   "outputs": [
    {
     "data": {
      "text/plain": [
       "[array([[1.781268]], dtype=float32), array([3.9844246], dtype=float32)]"
      ]
     },
     "execution_count": 19,
     "metadata": {},
     "output_type": "execute_result"
    }
   ],
   "source": [
    "layer_dict[\"output_final\"].get_weights()"
   ]
  },
  {
   "cell_type": "code",
   "execution_count": null,
   "id": "f9d88e39",
   "metadata": {},
   "outputs": [],
   "source": []
  }
 ],
 "metadata": {
  "kernelspec": {
   "display_name": "Python 3",
   "language": "python",
   "name": "python3"
  },
  "language_info": {
   "codemirror_mode": {
    "name": "ipython",
    "version": 3
   },
   "file_extension": ".py",
   "mimetype": "text/x-python",
   "name": "python",
   "nbconvert_exporter": "python",
   "pygments_lexer": "ipython3",
   "version": "3.7.9"
  }
 },
 "nbformat": 4,
 "nbformat_minor": 5
}
