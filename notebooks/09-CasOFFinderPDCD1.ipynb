{
 "cells": [
  {
   "cell_type": "code",
   "execution_count": 3,
   "id": "312e5a9d",
   "metadata": {},
   "outputs": [
    {
     "name": "stdout",
     "output_type": "stream",
     "text": [
      "/mnt/ceph/users/alamson/DATA/CRISPR/crispr_kinn\n"
     ]
    }
   ],
   "source": [
    "cd ~/ceph/DATA/CRISPR/crispr_kinn/"
   ]
  },
  {
   "cell_type": "code",
   "execution_count": 4,
   "id": "4728e39c",
   "metadata": {},
   "outputs": [
    {
     "name": "stderr",
     "output_type": "stream",
     "text": [
      "2022-11-02 12:12:09.593405: I tensorflow/core/platform/cpu_feature_guard.cc:193] This TensorFlow binary is optimized with oneAPI Deep Neural Network Library (oneDNN) to use the following CPU instructions in performance-critical operations:  AVX2 AVX512F AVX512_VNNI FMA\n",
      "To enable them in other operations, rebuild TensorFlow with the appropriate compiler flags.\n",
      "2022-11-02 12:12:09.764400: I tensorflow/core/util/port.cc:104] oneDNN custom operations are on. You may see slightly different numerical results due to floating-point round-off errors from different computation orders. To turn them off, set the environment variable `TF_ENABLE_ONEDNN_OPTS=0`.\n",
      "2022-11-02 12:12:09.768177: W tensorflow/compiler/xla/stream_executor/platform/default/dso_loader.cc:64] Could not load dynamic library 'libcudart.so.11.0'; dlerror: libcudart.so.11.0: cannot open shared object file: No such file or directory; LD_LIBRARY_PATH: /mnt/sw/nix/store/f0ycdncw8dw4wlicnzm74lgv9c51rlg4-openblas-0.3.20/lib:/cm/shared/apps/slurm/current/lib64\n",
      "2022-11-02 12:12:09.768189: I tensorflow/compiler/xla/stream_executor/cuda/cudart_stub.cc:29] Ignore above cudart dlerror if you do not have a GPU set up on your machine.\n",
      "2022-11-02 12:12:11.850255: W tensorflow/compiler/xla/stream_executor/platform/default/dso_loader.cc:64] Could not load dynamic library 'libnvinfer.so.7'; dlerror: libnvinfer.so.7: cannot open shared object file: No such file or directory; LD_LIBRARY_PATH: /mnt/sw/nix/store/f0ycdncw8dw4wlicnzm74lgv9c51rlg4-openblas-0.3.20/lib:/cm/shared/apps/slurm/current/lib64\n",
      "2022-11-02 12:12:11.850335: W tensorflow/compiler/xla/stream_executor/platform/default/dso_loader.cc:64] Could not load dynamic library 'libnvinfer_plugin.so.7'; dlerror: libnvinfer_plugin.so.7: cannot open shared object file: No such file or directory; LD_LIBRARY_PATH: /mnt/sw/nix/store/f0ycdncw8dw4wlicnzm74lgv9c51rlg4-openblas-0.3.20/lib:/cm/shared/apps/slurm/current/lib64\n",
      "2022-11-02 12:12:11.850350: W tensorflow/compiler/tf2tensorrt/utils/py_utils.cc:38] TF-TRT Warning: Cannot dlopen some TensorRT libraries. If you would like to use Nvidia GPU with TensorRT, please make sure the missing libraries mentioned above are installed properly.\n"
     ]
    },
    {
     "name": "stdout",
     "output_type": "stream",
     "text": [
      "detected tf2 - using compatibility mode\n"
     ]
    }
   ],
   "source": [
    "import pandas as pd\n",
    "from tqdm import tqdm\n",
    "from Bio import pairwise2\n",
    "from Bio.Seq import Seq\n",
    "from src.crispr_kinn_predict import (reload_from_dir, \n",
    "                                     KineticNeuralNetworkBuilder, \n",
    "                                     featurize_alignment, get_letter_index)\n",
    "import tensorflow as tf\n",
    "import numpy as np"
   ]
  },
  {
   "cell_type": "code",
   "execution_count": 5,
   "id": "3fe0e06b",
   "metadata": {},
   "outputs": [],
   "source": [
    "from pyfaidx import Fasta\n",
    "genes = Fasta('/mnt/ceph/users/zzhang/genome_assembly/GRCh38.primary_assembly.genome.fa')\n",
    "def add_seq_to_bed(bed_file):\n",
    "    gene_bed = pd.read_table(bed_file)\n",
    "    gene_bed.head(10)\n",
    "    seq_list = []\n",
    "    for i in range(gene_bed.shape[0]):\n",
    "        gene_pam = gene_bed.iloc[i]\n",
    "        prev_num = gene_pam['num']\n",
    "        if gene_pam[\"strand\"] == '-':\n",
    "            fasta_gene = genes[gene_pam[\"chrom\"]][gene_pam['start']:gene_pam['end']].reverse.complement\n",
    "        else:\n",
    "            fasta_gene = genes[gene_pam[\"chrom\"]][gene_pam['start']-1:gene_pam['end']-1]\n",
    "            \n",
    "        seq_list += [str(fasta_gene)]\n",
    "\n",
    "    gene_bed['seq'] = seq_list\n",
    "    gene_bed['PamID'] = gene_bed['pamid']\n",
    "    return gene_bed[['chrom', 'start', 'end', 'strand', 'PamID', 'genename', 'num', 'seq']].drop_duplicates(subset=['num'], keep='first')"
   ]
  },
  {
   "cell_type": "code",
   "execution_count": 12,
   "id": "b86bffda",
   "metadata": {},
   "outputs": [],
   "source": [
    "gene = add_seq_to_bed('/mnt/ceph/users/alamson/DATA/CRISPR/genes/PDCD1.bed')"
   ]
  },
  {
   "cell_type": "code",
   "execution_count": 13,
   "id": "fa3b9ed3",
   "metadata": {},
   "outputs": [
    {
     "name": "stdout",
     "output_type": "stream",
     "text": [
      "['TGGCCAAGGAAGCCGGTCAGAGG', 'GGCCAAGGAAGCCGGTCAGAGGG', 'GCCAAGGAAGCCGGTCAGAGGGG', 'CTGAGGATGGACACTGCTCTTGG', 'CAGCCACTGAGGCCTGAGGATGG', 'CAAGAGCAGTGTCCATCCTCAGG', 'TGCCCAGCCACTGAGGCCTGAGG', 'TGTCCATCCTCAGGCCTCAGTGG', 'CTCGGAGTGCCCAGCCACTGAGG', 'CATCCTCAGGCCTCAGTGGCTGG', 'ATCCTCAGGCCTCAGTGGCTGGG', 'CTCAGTGGCTGGGCACTCCGAGG', 'TCAGTGGCTGGGCACTCCGAGGG', 'GGGGCTCAGCTGACGGCCCTCGG', 'GCCCGCAGGGGCTCAGCTGACGG', 'GGCCGTCAGCTGAGCCCCTGCGG', 'GCCGTCAGCTGAGCCCCTGCGGG', 'ACCTCATCCCCCGCCCGCAGGGG', 'CACCTCATCCCCCGCCCGCAGGG', 'GTCAGCTGAGCCCCTGCGGGCGG', 'GCACCTCATCCCCCGCCCGCAGG', 'TCAGCTGAGCCCCTGCGGGCGGG', 'CAGCTGAGCCCCTGCGGGCGGGG', 'AGCTGAGCCCCTGCGGGCGGGGG', 'GCCCCTGCGGGCGGGGGATGAGG', 'ATTGTCTTTCCTAGCGGAATGGG', 'CATTGTCTTTCCTAGCGGAATGG', 'GATGAGGTGCCCATTCCGCTAGG', 'GCCACCATTGTCTTTCCTAGCGG', 'CATTCCGCTAGGAAAGACAATGG', 'TCCGCTAGGAAAGACAATGGTGG', 'GCCCTGTGTCCCTGAGCAGACGG', 'GTGGCATACTCCGTCTGCTCAGG', 'TGGCATACTCCGTCTGCTCAGGG', 'CTCCGTCTGCTCAGGGACACAGG', 'TCCGTCTGCTCAGGGACACAGGG', 'CTGCTCAGGGACACAGGGCACGG', 'TGCTCAGGGACACAGGGCACGGG', 'GCTCAGGGACACAGGGCACGGGG', 'CTCAGGGACACAGGGCACGGGGG', 'TCAGGGACACAGGGCACGGGGGG', 'ACACAGGGCACGGGGGGCTCCGG', 'CACAGGGCACGGGGGGCTCCGGG', 'ACAGGGCACGGGGGGCTCCGGGG', 'CCAGTGGCGAGAGAAGACCCCGG', 'CCGGGGTCTTCTCTCGCCACTGG', 'ATGGGGAGCTGGATTTCCAGTGG', 'CTCTGTGGACTATGGGGAGCTGG', 'TGTGTTCTCTGTGGACTATGGGG', 'CTGTGTTCTCTGTGGACTATGGG', 'CCTGTGTTCTCTGTGGACTATGG', 'AGCCGTGCCTGTGTTCTCTGTGG', 'CCATAGTCCACAGAGAACACAGG', 'GTCCACAGAGAACACAGGCACGG', 'AGAGAACACAGGCACGGCTGAGG', 'GAGAACACAGGCACGGCTGAGGG', 'AGAACACAGGCACGGCTGAGGGG', 'CCCTTTCTCCTCAAAGAAGGAGG', 'TCTCCCTTTCTCCTCAAAGAAGG', 'GGAAAAGAGTGAGACTCACCAGG', 'GAAAAGAGTGAGACTCACCAGGG', 'AAAAGAGTGAGACTCACCAGGGG', 'GAGTGAGACTCACCAGGGGCTGG', 'GAGACTCACCAGGGGCTGGCCGG', 'ACAATAGGAGCCAGGCGCACCGG', 'CAGGGGCTGGCCGGTGCGCCTGG', 'CTGCAGGGACAATAGGAGCCAGG', 'TGTTTCTCTGCAGGGACAATAGG', 'TGGGATGACGTTACCTCGTGCGG', 'TGACGTTACCTCGTGCGGCCCGG', 'GACGTTACCTCGTGCGGCCCGGG', 'CCTGGCCGTCATCTGCTCCCGGG', 'TCCTGGCCGTCATCTGCTCCCGG', 'TGCGGCCCGGGAGCAGATGACGG', 'CCCGGGAGCAGATGACGGCCAGG', 'GGTGCTGCTAGTCTGGGTCCTGG', 'CAGCCTGGTGCTGCTAGTCTGGG', 'GCAGCCTGGTGCTGCTAGTCTGG', 'GGACCCAGACTAGCAGCACCAGG', 'GGGCGGCCTGCTGGGCAGCCTGG', 'GCAGCACCAGGCTGCCCAGCAGG', 'GGTGTCGTGGGCGGCCTGCTGGG', 'TGGTGTCGTGGGCGGCCTGCTGG', 'CTGGTGGTTGGTGTCGTGGGCGG', 'ACCCTGGTGGTTGGTGTCGTGGG', 'AACCCTGGTGGTTGGTGTCGTGG', 'CAGTTCCAAACCCTGGTGGTTGG', 'CGCCCACGACACCAACCACCAGG', 'GCCCACGACACCAACCACCAGGG', 'CGGCCAGTTCCAAACCCTGGTGG', 'AGCCGGCCAGTTCCAAACCCTGG', 'CGACACCAACCACCAGGGTTTGG', 'CAACCACCAGGGTTTGGAACTGG', 'CACCAGGGTTTGGAACTGGCCGG', 'AGGGTTTGGAACTGGCCGGCTGG', 'AGCCCCTCACCCAGGCCAGCCGG', 'TTGGAACTGGCCGGCTGGCCTGG', 'TGGAACTGGCCGGCTGGCCTGGG', 'CTGGCCGGCTGGCCTGGGTGAGG', 'CCCACCCCAGCCCCTCACCCAGG', 'TGGCCGGCTGGCCTGGGTGAGGG', 'GGCCGGCTGGCCTGGGTGAGGGG', 'GGCTGGCCTGGGTGAGGGGCTGG', 'GCTGGCCTGGGTGAGGGGCTGGG', 'CTGGCCTGGGTGAGGGGCTGGGG', 'GCCTGGGTGAGGGGCTGGGGTGG', 'CCTGGGTGAGGGGCTGGGGTGGG', 'TGAGGGGCTGGGGTGGGCTGTGG', 'GAGGGGCTGGGGTGGGCTGTGGG', 'TTGTGCCCTTCCAGAGAGAAGGG', 'TTTGTGCCCTTCCAGAGAGAAGG', 'GAGCCTGCGGGCAGAGCTCAGGG', 'AGAGCCTGCGGGCAGAGCTCAGG', 'TCACCCTGAGCTCTGCCCGCAGG', 'GCAGATCAAAGAGAGCCTGCGGG', 'CGCAGATCAAAGAGAGCCTGCGG', 'GCTCTCTTTGATCTGCGCCTTGG', 'CTCTCTTTGATCTGCGCCTTGGG', 'TCTCTTTGATCTGCGCCTTGGGG', 'CTCTTTGATCTGCGCCTTGGGGG', 'GGCCATCTCCCTGGCCCCCAAGG', 'TGATCTGCGCCTTGGGGGCCAGG', 'GATCTGCGCCTTGGGGGCCAGGG', 'CCTCTGTGGGGCCATCTCCCTGG', 'CGCCTTGGGGGCCAGGGAGATGG', 'CAGCGGCACCTACCTCTGTGGGG', 'CCAGGGAGATGGCCCCACAGAGG', 'ACAGCGGCACCTACCTCTGTGGG', 'GACAGCGGCACCTACCTCTGTGG', 'GGAGATGGCCCCACAGAGGTAGG', 'AGGGCCCGGCGCAATGACAGCGG', 'AGGTGCCGCTGTCATTGCGCCGG', 'GGTGCCGCTGTCATTGCGCCGGG', 'ACATGAGCGTGGTCAGGGCCCGG', 'CTTCCACATGAGCGTGGTCAGGG', 'ACTTCCACATGAGCGTGGTCAGG', 'GCGTGACTTCCACATGAGCGTGG', 'GGGCCCTGACCACGCTCATGTGG', 'CATGTGGAAGTCACGCCCGTTGG', 'ATGTGGAAGTCACGCCCGTTGGG', 'GTGTCACACAACTGCCCAACGGG', 'CGTGTCACACAACTGCCCAACGG', 'CGTTGGGCAGTTGTGTGACACGG', 'GCAGTTGTGTGACACGGAAGCGG', 'TGACACGGAAGCGGCAGTCCTGG', 'ACGGAAGCGGCAGTCCTGGCCGG', 'CGGAAGCGGCAGTCCTGGCCGGG', 'GGACCGCAGCCAGCCCGGCCAGG', 'AGCGGCAGTCCTGGCCGGGCTGG', 'CCCGAGGACCGCAGCCAGCCCGG', 'AGTCCTGGCCGGGCTGGCTGCGG', 'GCCGGGCTGGCTGCGGTCCTCGG', 'CCGGGCTGGCTGCGGTCCTCGGG', 'CGGGCTGGCTGCGGTCCTCGGGG', 'CAAGCTGGCCGCCTTCCCCGAGG', 'CTGGCTGCGGTCCTCGGGGAAGG', 'GCTGCGGTCCTCGGGGAAGGCGG', 'CAGCAACCAGACGGACAAGCTGG', 'AGGCGGCCAGCTTGTCCGTCTGG', 'CATGAGCCCCAGCAACCAGACGG', 'CAGCTTGTCCGTCTGGTTGCTGG', 'AGCTTGTCCGTCTGGTTGCTGGG', 'GCTTGTCCGTCTGGTTGCTGGGG', 'TCTGGTTGCTGGGGCTCATGCGG', 'CGGAGAGCTTCGTGCTAAACTGG', 'CTGCAGCTTCTCCAACACATCGG', 'CACGAAGCTCTCCGATGTGTTGG', 'CGATGTGTTGGAGAAGCTGCAGG', 'GTTGGAGAAGCTGCAGGTGAAGG', 'GGAGAAGCTGCAGGTGAAGGTGG', 'GAAGGTGGCGTTGTCCCCTTCGG', 'CCTGCTCGTGGTGACCGAAGGGG', 'CCCTGCTCGTGGTGACCGAAGGG', 'GCCCTGCTCGTGGTGACCGAAGG', 'CTTCTCCCCAGCCCTGCTCGTGG', 'CCCCTTCGGTCACCACGAGCAGG', 'CCCTTCGGTCACCACGAGCAGGG', 'TCGGTCACCACGAGCAGGGCTGG', 'CGGTCACCACGAGCAGGGCTGGG', 'GGTCACCACGAGCAGGGCTGGGG', 'CACGAGCAGGGCTGGGGAGAAGG', 'GAGCAGGGCTGGGGAGAAGGTGG', 'AGCAGGGCTGGGGAGAAGGTGGG', 'GCAGGGCTGGGGAGAAGGTGGGG', 'CAGGGCTGGGGAGAAGGTGGGGG', 'AGGGCTGGGGAGAAGGTGGGGGG', 'GGGCTGGGGAGAAGGTGGGGGGG', 'GGAGAAGGTGGGGGGGTTCCAGG', 'GAGAAGGTGGGGGGGTTCCAGGG', 'CAGACTCCCCAGACAGGCCCTGG', 'GGGGGGTTCCAGGGCCTGTCTGG', 'GGGGGTTCCAGGGCCTGTCTGGG', 'ATCTCTCAGACTCCCCAGACAGG', 'GGGGTTCCAGGGCCTGTCTGGGG', 'CACCTACCTAAGAACCATCCTGG', 'AACTGGGCTGGCGGCCAGGATGG', 'CTACAACTGGGCTGGCGGCCAGG', 'CGGTGCTACAACTGGGCTGGCGG', 'GGGCGGTGCTACAACTGGGCTGG', 'GTCTGGGCGGTGCTACAACTGGG', 'CGTCTGGGCGGTGCTACAACTGG', 'GCCCTGGCCAGTCGTCTGGGCGG', 'GGCGCCCTGGCCAGTCGTCTGGG', 'AGGCGCCCTGGCCAGTCGTCTGG', 'TGTAGCACCGCCCAGACGACTGG', 'CACCGCCCAGACGACTGGCCAGG', 'ACCGCCCAGACGACTGGCCAGGG', 'TGCAGATCCCACAGGCGCCCTGG', 'ACGACTGGCCAGGGCGCCTGTGG', 'CGACTGGCCAGGGCGCCTGTGGG', 'TCCAGGCATGCAGATCCCACAGG']\n"
     ]
    }
   ],
   "source": [
    "grna_seq = []\n",
    "for i in range(gene.shape[0]):\n",
    "    # 20 gRNA + 3 PAM\n",
    "    grna_seq.append(gene.iloc[i]['seq'][13:36])\n",
    "gene['grna_seq'] = grna_seq\n",
    "print(grna_seq)"
   ]
  },
  {
   "cell_type": "code",
   "execution_count": 14,
   "id": "c08af57b",
   "metadata": {},
   "outputs": [],
   "source": [
    "# sanity check\n",
    "for _ in grna_seq:\n",
    "    assert _.endswith('GG')"
   ]
  },
  {
   "cell_type": "code",
   "execution_count": 15,
   "id": "d79088ac",
   "metadata": {},
   "outputs": [
    {
     "data": {
      "text/plain": [
       "(211, 9)"
      ]
     },
     "execution_count": 15,
     "metadata": {},
     "output_type": "execute_result"
    }
   ],
   "source": [
    "gene.shape"
   ]
  },
  {
   "cell_type": "code",
   "execution_count": 17,
   "id": "14e7a8e4",
   "metadata": {},
   "outputs": [],
   "source": [
    "n_mismatch = 6\n",
    "n_bulges = 1\n",
    "with open(\"CasOffinderPDCD1_input.txt\", \"w\") as f:\n",
    "    # first line: FASTA filepath\n",
    "    f.write(\"/mnt/ceph/users/zzhang/genome_assembly/GRCh38.primary_assembly.genome.fa\\n\")\n",
    "    # second line: desired pattern including PAM site and optional DNA or RNA bulge sizes, separated by spaces\n",
    "    f.write(f\"{'N'*20}NGG {n_bulges} {n_bulges}\\n\")\n",
    "    # remaining lines: the query sequences and maximum mismatch numbers, separated by spaces\n",
    "    for i in range(gene.shape[0]):\n",
    "        f.write(f\"{gene.iloc[i]['grna_seq']} {n_mismatch}\\n\")"
   ]
  },
  {
   "cell_type": "code",
   "execution_count": 19,
   "id": "d2d96cef",
   "metadata": {},
   "outputs": [
    {
     "name": "stderr",
     "output_type": "stream",
     "text": [
      "Total 1 device(s) found.\n",
      "Loading input file...\n",
      "Reading /mnt/ceph/users/zzhang/genome_assembly/GRCh38.primary_assembly.genome.fa...\n",
      "Sending data to devices...\n",
      "Chunk load started.\n",
      "1 devices selected to analyze...\n",
      "Finding pattern in chunk #1...\n",
      "Comparing patterns in chunk #1...\n",
      "530.957 seconds elapsed.\n"
     ]
    },
    {
     "name": "stdout",
     "output_type": "stream",
     "text": [
      "CPU times: user 5.71 ms, sys: 16.4 ms, total: 22.1 ms\n",
      "Wall time: 8min 51s\n"
     ]
    }
   ],
   "source": [
    "%%time\n",
    "%%bash\n",
    "cas-offinder CasOffinderPDCD1_input.txt C CasOffinderPDCD1_output.txt"
   ]
  },
  {
   "cell_type": "code",
   "execution_count": 22,
   "id": "2af889f3",
   "metadata": {},
   "outputs": [],
   "source": [
    "cas_off_ver = '2.4'\n",
    "\n",
    "if cas_off_ver == '2.4':\n",
    "    ot = pd.read_table(\"CasOffinderPDCD1_output.txt\",\n",
    "                      names=['grna_seq', \"chrom\", \"pos\", \"ot_seq\", \"strand\", \"mm\"])\n",
    "    ot['chrom'] = [x.split()[0] for x in ot['chrom']]\n",
    "    ot = ot.query('mm>0').reset_index()\n",
    "else:\n",
    "    ot = pd.read_table(\"CasOffinderPDCD1_output.txt\", skiprows=1, low_memory=False)\n",
    "    ot = ot.query('Mismatches>0').reset_index() #for V3.0\n",
    "    # fix bulge\n",
    "    for i, row in tqdm(ot.iterrows(), total=ot.shape[0]):\n",
    "        if row['crRNA'].startswith('-'):\n",
    "            ot.iloc[i]['crRNA'] = ot.iloc[i]['crRNA'].lstrip('-')\n",
    "            ot.iloc[i]['DNA'] = ot.iloc[i]['DNA'][1:]\n",
    "        if row['crRNA'].endswith('-'):\n",
    "            ot.iloc[i]['crRNA'] = ot.iloc[i]['crRNA'].lstrip('-')\n",
    "            ot.iloc[i]['DNA'] = ot.iloc[i]['DNA'][:-1]"
   ]
  },
  {
   "cell_type": "code",
   "execution_count": 23,
   "id": "837dd12c",
   "metadata": {},
   "outputs": [
    {
     "name": "stdout",
     "output_type": "stream",
     "text": [
      "(1395022, 7)\n"
     ]
    },
    {
     "data": {
      "text/html": [
       "<div>\n",
       "<style scoped>\n",
       "    .dataframe tbody tr th:only-of-type {\n",
       "        vertical-align: middle;\n",
       "    }\n",
       "\n",
       "    .dataframe tbody tr th {\n",
       "        vertical-align: top;\n",
       "    }\n",
       "\n",
       "    .dataframe thead th {\n",
       "        text-align: right;\n",
       "    }\n",
       "</style>\n",
       "<table border=\"1\" class=\"dataframe\">\n",
       "  <thead>\n",
       "    <tr style=\"text-align: right;\">\n",
       "      <th></th>\n",
       "      <th>index</th>\n",
       "      <th>grna_seq</th>\n",
       "      <th>chrom</th>\n",
       "      <th>pos</th>\n",
       "      <th>ot_seq</th>\n",
       "      <th>strand</th>\n",
       "      <th>mm</th>\n",
       "    </tr>\n",
       "  </thead>\n",
       "  <tbody>\n",
       "    <tr>\n",
       "      <th>0</th>\n",
       "      <td>0</td>\n",
       "      <td>TGGCCAAGGAAGCCGGTCAGAGG</td>\n",
       "      <td>chr4</td>\n",
       "      <td>98389191</td>\n",
       "      <td>TGtCCctGGAAcCCttTCAGAGGATCA</td>\n",
       "      <td>-</td>\n",
       "      <td>6</td>\n",
       "    </tr>\n",
       "    <tr>\n",
       "      <th>1</th>\n",
       "      <td>1</td>\n",
       "      <td>TGGCCAAGGAAGCCGGTCAGAGG</td>\n",
       "      <td>chr2</td>\n",
       "      <td>58670020</td>\n",
       "      <td>TGcCCAgaGtAGCaGcTCAGAGGCAGT</td>\n",
       "      <td>+</td>\n",
       "      <td>6</td>\n",
       "    </tr>\n",
       "    <tr>\n",
       "      <th>2</th>\n",
       "      <td>2</td>\n",
       "      <td>TGGCCAAGGAAGCCGGTCAGAGG</td>\n",
       "      <td>chr5</td>\n",
       "      <td>163383891</td>\n",
       "      <td>TGGaCAAGttAGCCaGTCAGAGGCTTT</td>\n",
       "      <td>-</td>\n",
       "      <td>4</td>\n",
       "    </tr>\n",
       "    <tr>\n",
       "      <th>3</th>\n",
       "      <td>3</td>\n",
       "      <td>TGGCCAAGGAAGCCGGTCAGAGG</td>\n",
       "      <td>chr2</td>\n",
       "      <td>20618941</td>\n",
       "      <td>TGGCCcAGcAgGCCtGTCtGtGGGGAC</td>\n",
       "      <td>-</td>\n",
       "      <td>6</td>\n",
       "    </tr>\n",
       "    <tr>\n",
       "      <th>4</th>\n",
       "      <td>4</td>\n",
       "      <td>TGGCCAAGGAAGCCGGTCAGAGG</td>\n",
       "      <td>chr4</td>\n",
       "      <td>9811091</td>\n",
       "      <td>TGaCCAAGctgGCCaaTCAGAGGAACT</td>\n",
       "      <td>+</td>\n",
       "      <td>6</td>\n",
       "    </tr>\n",
       "  </tbody>\n",
       "</table>\n",
       "</div>"
      ],
      "text/plain": [
       "   index                 grna_seq chrom        pos  \\\n",
       "0      0  TGGCCAAGGAAGCCGGTCAGAGG  chr4   98389191   \n",
       "1      1  TGGCCAAGGAAGCCGGTCAGAGG  chr2   58670020   \n",
       "2      2  TGGCCAAGGAAGCCGGTCAGAGG  chr5  163383891   \n",
       "3      3  TGGCCAAGGAAGCCGGTCAGAGG  chr2   20618941   \n",
       "4      4  TGGCCAAGGAAGCCGGTCAGAGG  chr4    9811091   \n",
       "\n",
       "                        ot_seq strand  mm  \n",
       "0  TGtCCctGGAAcCCttTCAGAGGATCA      -   6  \n",
       "1  TGcCCAgaGtAGCaGcTCAGAGGCAGT      +   6  \n",
       "2  TGGaCAAGttAGCCaGTCAGAGGCTTT      -   4  \n",
       "3  TGGCCcAGcAgGCCtGTCtGtGGGGAC      -   6  \n",
       "4  TGaCCAAGctgGCCaaTCAGAGGAACT      +   6  "
      ]
     },
     "execution_count": 23,
     "metadata": {},
     "output_type": "execute_result"
    }
   ],
   "source": [
    "print(ot.shape)\n",
    "ot.head()"
   ]
  },
  {
   "cell_type": "code",
   "execution_count": 24,
   "id": "7fced6f5",
   "metadata": {},
   "outputs": [
    {
     "name": "stderr",
     "output_type": "stream",
     "text": [
      "100%|██████████| 1395022/1395022 [09:00<00:00, 2581.67it/s]\n"
     ]
    }
   ],
   "source": [
    "if cas_off_ver == '2.4':\n",
    "    ### if using Cas-OFFinder v2.4\n",
    "    alignments = []\n",
    "    maxlen = 25\n",
    "    for _, row in tqdm(ot.iterrows(), total=ot.shape[0]):\n",
    "        ref = Seq(row['grna_seq'][::-1])\n",
    "        alt = Seq(row['ot_seq'].upper()[0:23][::-1])\n",
    "        # m: A match score is the score of identical chars, otherwise mismatch score\n",
    "        # d: The sequences have different open and extend gap penalties.\n",
    "        aln = pairwise2.align.localxd(ref, alt, -1, -0.1, -1, 0)\n",
    "        if len(aln[0][0]) > maxlen: # increase gap open penalty to avoid too many gaps\n",
    "            aln = pairwise2.align.localxd(ref, alt, -5, -0.1, -5, 0)\n",
    "            if len(aln[0][0]) > maxlen:\n",
    "                aln = [(ref, alt)]\n",
    "        alignments.append(aln[0])\n",
    "    alignment_df = pd.DataFrame({'ref':[x[0] for x in alignments], 'alt':[x[1] for x in alignments]})\n",
    "elif cas_off_ver == '3.0':\n",
    "    ### if using Cas-OFFinder v3.0\n",
    "    alignments = [x[1].str[::-1].str.upper().tolist() for x in tqdm(ot[['crRNA', 'DNA']].iterrows(), total=ot.shape[0])]\n",
    "    alignment_df = pd.DataFrame({'ref':[x[0] for x in alignments], 'alt':[x[1] for x in alignments]})\n"
   ]
  },
  {
   "cell_type": "code",
   "execution_count": 25,
   "id": "e83c1cdc",
   "metadata": {},
   "outputs": [],
   "source": [
    "# featurize alignment\n",
    "ltidx = get_letter_index(build_indel=True)\n",
    "fea = featurize_alignment(alignments, ltidx)"
   ]
  },
  {
   "cell_type": "code",
   "execution_count": 33,
   "id": "15ca3ae4",
   "metadata": {},
   "outputs": [
    {
     "name": "stderr",
     "output_type": "stream",
     "text": [
      "2022-11-02 14:16:26.918272: W tensorflow/c/c_api.cc:291] Operation '{name:'conv_k4_2/bias/Assign' id:625 op device:{requested: '', assigned: ''} def:{{{node conv_k4_2/bias/Assign}} = AssignVariableOp[_has_manual_control_dependencies=true, dtype=DT_FLOAT, validate_shape=false](conv_k4_2/bias, conv_k4_2/bias/Initializer/zeros)}}' was changed by setting attribute after it was run by a session. This mutation will have no effect, and will trigger an error in the future. Either don't modify nodes after running them or create a new session.\n",
      "2022-11-02 14:16:27.226157: W tensorflow/c/c_api.cc:291] Operation '{name:'conv_k3_3/bias/Assign' id:860 op device:{requested: '', assigned: ''} def:{{{node conv_k3_3/bias/Assign}} = AssignVariableOp[_has_manual_control_dependencies=true, dtype=DT_FLOAT, validate_shape=false](conv_k3_3/bias, conv_k3_3/bias/Initializer/zeros)}}' was changed by setting attribute after it was run by a session. This mutation will have no effect, and will trigger an error in the future. Either don't modify nodes after running them or create a new session.\n"
     ]
    }
   ],
   "source": [
    "# load kinn\n",
    "sess = tf.compat.v1.Session()\n",
    "manager_kwargs={\n",
    "    'output_op': \n",
    "        lambda: tf.keras.layers.Lambda(lambda x: tf.math.log(x)/np.log(10), name=\"output_log\"),\n",
    "    'n_feats': 25,  # remember to change this!!\n",
    "    'n_channels': 9,\n",
    "    'batch_size': 128,\n",
    "    'epochs': 30,\n",
    "    'earlystop': 10,\n",
    "    'verbose': 0\n",
    "}\n",
    "kinn_1 = reload_from_dir(wd=\"outputs/2022-05-21/KINN-wtCas9_cleave_rate_log-finkelstein-0-rep4-gRNA1/\",\n",
    "                         sess=sess,\n",
    "                         manager_kwargs=manager_kwargs,\n",
    "                         model_fn=KineticNeuralNetworkBuilder\n",
    "                         )\n",
    "kinn_2 = reload_from_dir(wd=\"outputs/2022-05-21/KINN-wtCas9_cleave_rate_log-finkelstein-0-rep5-gRNA2/\",\n",
    "                         sess=sess,\n",
    "                         manager_kwargs=manager_kwargs,\n",
    "                         model_fn=KineticNeuralNetworkBuilder\n",
    "                         )"
   ]
  },
  {
   "cell_type": "code",
   "execution_count": 34,
   "id": "646c3d77",
   "metadata": {},
   "outputs": [],
   "source": [
    "# build rate model\n",
    "l1 = {l.name:l for l in kinn_1.model.layers}\n",
    "kinn_1_rate_mod = tf.keras.Model(\n",
    "    inputs=kinn_1.model.inputs,\n",
    "    outputs=l1['gather_rates'].output\n",
    ")\n",
    "l2 = {l.name:l for l in kinn_2.model.layers}\n",
    "kinn_2_rate_mod = tf.keras.Model(\n",
    "    inputs=kinn_2.model.inputs,\n",
    "    outputs=l2['gather_rates'].output\n",
    ")"
   ]
  },
  {
   "cell_type": "code",
   "execution_count": 35,
   "id": "fbf88dd8",
   "metadata": {},
   "outputs": [
    {
     "name": "stderr",
     "output_type": "stream",
     "text": [
      "/mnt/home/alamson/local/envs/kinn/lib/python3.8/site-packages/keras-2.11.0rc2-py3.8.egg/keras/engine/training_v1.py:2357: UserWarning: `Model.state_updates` will be removed in a future version. This property should not be used in TensorFlow 2.0, as `updates` are applied automatically.\n",
      "  updates=self.state_updates,\n",
      "2022-11-02 14:16:32.092471: W tensorflow/c/c_api.cc:291] Operation '{name:'output_log_2/truediv' id:701 op device:{requested: '', assigned: ''} def:{{{node output_log_2/truediv}} = RealDiv[T=DT_FLOAT, _has_manual_control_dependencies=true](output_log_2/Log, output_log_2/truediv/y)}}' was changed by setting attribute after it was run by a session. This mutation will have no effect, and will trigger an error in the future. Either don't modify nodes after running them or create a new session.\n",
      "2022-11-02 14:17:33.741198: W tensorflow/c/c_api.cc:291] Operation '{name:'output_log_3/truediv' id:959 op device:{requested: '', assigned: ''} def:{{{node output_log_3/truediv}} = RealDiv[T=DT_FLOAT, _has_manual_control_dependencies=true](output_log_3/Log, output_log_3/truediv/y)}}' was changed by setting attribute after it was run by a session. This mutation will have no effect, and will trigger an error in the future. Either don't modify nodes after running them or create a new session.\n",
      "2022-11-02 14:18:34.344378: W tensorflow/c/c_api.cc:291] Operation '{name:'gather_rates_2/concat' id:687 op device:{requested: '', assigned: ''} def:{{{node gather_rates_2/concat}} = ConcatV2[N=7, T=DT_FLOAT, Tidx=DT_INT32, _has_manual_control_dependencies=true](sum_k0_2/Sum, sum_k1_2/Sum, sum_k2_2/Sum, sum_k3_2/Sum, sum_k4_2/Sum, sum_k5_2/Sum, sum_k6_2/Sum, gather_rates_2/concat/axis)}}' was changed by setting attribute after it was run by a session. This mutation will have no effect, and will trigger an error in the future. Either don't modify nodes after running them or create a new session.\n",
      "2022-11-02 14:19:27.121948: W tensorflow/c/c_api.cc:291] Operation '{name:'gather_rates_3/concat' id:945 op device:{requested: '', assigned: ''} def:{{{node gather_rates_3/concat}} = ConcatV2[N=7, T=DT_FLOAT, Tidx=DT_INT32, _has_manual_control_dependencies=true](sum_k0_3/Sum, sum_k1_3/Sum, sum_k2_3/Sum, sum_k3_3/Sum, sum_k4_3/Sum, sum_k5_3/Sum, sum_k6_3/Sum, gather_rates_3/concat/axis)}}' was changed by setting attribute after it was run by a session. This mutation will have no effect, and will trigger an error in the future. Either don't modify nodes after running them or create a new session.\n"
     ]
    }
   ],
   "source": [
    "k1_clv = kinn_1.predict(fea)\n",
    "k2_clv = kinn_2.predict(fea)\n",
    "k1_rates = np.array(kinn_1_rate_mod.predict(kinn_1.blockify_seq_ohe(fea)))\n",
    "k2_rates = np.array(kinn_2_rate_mod.predict(kinn_2.blockify_seq_ohe(fea)))"
   ]
  },
  {
   "cell_type": "code",
   "execution_count": 36,
   "id": "c5a03790",
   "metadata": {},
   "outputs": [],
   "source": [
    "k1_kinn = pd.DataFrame(np.hstack([k1_clv, k1_rates]), \n",
    "                       columns=['pred_cleavage_log10', 'k_on_log', 'k_off_log', 'k_OI_log', \n",
    "                                'k_IO_log', 'k_IC_log', 'k_CI_log', 'k_cat_log'])\n",
    "k2_kinn = pd.DataFrame(np.hstack([k2_clv, k2_rates]), \n",
    "                       columns=['pred_cleavage_log10', 'k_on_log', 'k_off_log', 'k_OI_log', \n",
    "                                'k_IO_log', 'k_IC_log', 'k_CI_log', 'k_cat_log'])\n",
    "kinn = k1_kinn.join(k2_kinn, lsuffix='.1', rsuffix='.2')"
   ]
  },
  {
   "cell_type": "code",
   "execution_count": 37,
   "id": "6a436a01",
   "metadata": {},
   "outputs": [],
   "source": [
    "ot_res = ot.join(alignment_df).join(kinn)"
   ]
  },
  {
   "cell_type": "code",
   "execution_count": 38,
   "id": "46ac3f71",
   "metadata": {},
   "outputs": [],
   "source": [
    "ot_res['pred_cleavage_log10'] = ot_res[['pred_cleavage_log10.1', 'pred_cleavage_log10.2']].mean(axis=1)"
   ]
  },
  {
   "cell_type": "code",
   "execution_count": 39,
   "id": "e1a71d51",
   "metadata": {},
   "outputs": [
    {
     "data": {
      "text/plain": [
       "(1395022, 26)"
      ]
     },
     "execution_count": 39,
     "metadata": {},
     "output_type": "execute_result"
    }
   ],
   "source": [
    "ot_res.shape"
   ]
  },
  {
   "cell_type": "code",
   "execution_count": 40,
   "id": "29d87ed2",
   "metadata": {},
   "outputs": [],
   "source": [
    "ot_res = ot_res.query('pred_cleavage_log10 > -8')"
   ]
  },
  {
   "cell_type": "code",
   "execution_count": 41,
   "id": "95287813",
   "metadata": {},
   "outputs": [],
   "source": [
    "ot_res_w_on = ot_res.set_index('grna_seq').join(gene.set_index('grna_seq'), lsuffix='.off', rsuffix='.on').reset_index()"
   ]
  },
  {
   "cell_type": "code",
   "execution_count": 42,
   "id": "4dc6856a",
   "metadata": {},
   "outputs": [],
   "source": [
    "ot_res_w_on = ot_res_w_on[[\n",
    "    'PamID', 'chrom.on', 'start', 'end', 'strand.on', 'genename', 'grna_seq', 'ot_seq', 'mm',\n",
    "    'chrom.off', 'pos', 'strand.off', 'ref', 'alt', 'pred_cleavage_log10', 'pred_cleavage_log10.1', 'pred_cleavage_log10.2',\n",
    "    'k_on_log.1', 'k_off_log.1', 'k_OI_log.1', 'k_IO_log.1', 'k_IC_log.1', 'k_CI_log.1', 'k_cat_log.1',\n",
    "    'k_on_log.2', 'k_off_log.2', 'k_OI_log.2', 'k_IO_log.2', 'k_IC_log.2', 'k_CI_log.2', 'k_cat_log.2',\n",
    "]]"
   ]
  },
  {
   "cell_type": "code",
   "execution_count": 45,
   "id": "c5a33cf5",
   "metadata": {},
   "outputs": [
    {
     "data": {
      "text/html": [
       "<div>\n",
       "<style scoped>\n",
       "    .dataframe tbody tr th:only-of-type {\n",
       "        vertical-align: middle;\n",
       "    }\n",
       "\n",
       "    .dataframe tbody tr th {\n",
       "        vertical-align: top;\n",
       "    }\n",
       "\n",
       "    .dataframe thead th {\n",
       "        text-align: right;\n",
       "    }\n",
       "</style>\n",
       "<table border=\"1\" class=\"dataframe\">\n",
       "  <thead>\n",
       "    <tr style=\"text-align: right;\">\n",
       "      <th></th>\n",
       "      <th>ref</th>\n",
       "      <th>alt</th>\n",
       "      <th>pred_cleavage_log10</th>\n",
       "    </tr>\n",
       "  </thead>\n",
       "  <tbody>\n",
       "    <tr>\n",
       "      <th>237973</th>\n",
       "      <td>GGAGACTGGCCGAAGGAACCGGT</td>\n",
       "      <td>GGAGACTGGACTAAGGAACCGGA</td>\n",
       "      <td>-4.082101</td>\n",
       "    </tr>\n",
       "    <tr>\n",
       "      <th>237858</th>\n",
       "      <td>GGAGACTGGCCGAAGGAACCGGT</td>\n",
       "      <td>GGTGACTGGTCGAAGGAAACGAA</td>\n",
       "      <td>-4.153573</td>\n",
       "    </tr>\n",
       "    <tr>\n",
       "      <th>238313</th>\n",
       "      <td>GGAGACTGGCCGAAGGAACCGGT</td>\n",
       "      <td>GGAGACAGGACGAAGGAACTAGT</td>\n",
       "      <td>-4.212838</td>\n",
       "    </tr>\n",
       "    <tr>\n",
       "      <th>238310</th>\n",
       "      <td>GGAGACTGGCCGAAGGAACCGGT</td>\n",
       "      <td>GGAGACAGGACGAAGGAACTAGT</td>\n",
       "      <td>-4.212838</td>\n",
       "    </tr>\n",
       "    <tr>\n",
       "      <th>237665</th>\n",
       "      <td>GGAGACTGGCCGAAGGAACCGGT</td>\n",
       "      <td>GGGGACTAGAAGAAGGAACCAGT</td>\n",
       "      <td>-4.247734</td>\n",
       "    </tr>\n",
       "  </tbody>\n",
       "</table>\n",
       "</div>"
      ],
      "text/plain": [
       "                            ref                      alt  pred_cleavage_log10\n",
       "237973  GGAGACTGGCCGAAGGAACCGGT  GGAGACTGGACTAAGGAACCGGA            -4.082101\n",
       "237858  GGAGACTGGCCGAAGGAACCGGT  GGTGACTGGTCGAAGGAAACGAA            -4.153573\n",
       "238313  GGAGACTGGCCGAAGGAACCGGT  GGAGACAGGACGAAGGAACTAGT            -4.212838\n",
       "238310  GGAGACTGGCCGAAGGAACCGGT  GGAGACAGGACGAAGGAACTAGT            -4.212838\n",
       "237665  GGAGACTGGCCGAAGGAACCGGT  GGGGACTAGAAGAAGGAACCAGT            -4.247734"
      ]
     },
     "execution_count": 45,
     "metadata": {},
     "output_type": "execute_result"
    }
   ],
   "source": [
    "ot_res_w_on.query(\"PamID=='PDCD1|1'\").sort_values('pred_cleavage_log10', ascending=False)[['ref', 'alt', 'pred_cleavage_log10']].head()"
   ]
  },
  {
   "cell_type": "code",
   "execution_count": 46,
   "id": "9a467612",
   "metadata": {},
   "outputs": [
    {
     "data": {
      "text/html": [
       "<div>\n",
       "<style scoped>\n",
       "    .dataframe tbody tr th:only-of-type {\n",
       "        vertical-align: middle;\n",
       "    }\n",
       "\n",
       "    .dataframe tbody tr th {\n",
       "        vertical-align: top;\n",
       "    }\n",
       "\n",
       "    .dataframe thead th {\n",
       "        text-align: right;\n",
       "    }\n",
       "</style>\n",
       "<table border=\"1\" class=\"dataframe\">\n",
       "  <thead>\n",
       "    <tr style=\"text-align: right;\">\n",
       "      <th></th>\n",
       "      <th>ref</th>\n",
       "      <th>alt</th>\n",
       "      <th>pred_cleavage_log10</th>\n",
       "    </tr>\n",
       "  </thead>\n",
       "  <tbody>\n",
       "    <tr>\n",
       "      <th>177861</th>\n",
       "      <td>GGGAGACTGGCCGAAGGAACCGG</td>\n",
       "      <td>GGAAGACTGACCGAAGGAAGAGA</td>\n",
       "      <td>-2.611826</td>\n",
       "    </tr>\n",
       "    <tr>\n",
       "      <th>177490</th>\n",
       "      <td>GGGAGACTGGCCGAAGGAACCGG</td>\n",
       "      <td>GGGAGACTGGACGAAGGAACTTC</td>\n",
       "      <td>-3.359443</td>\n",
       "    </tr>\n",
       "    <tr>\n",
       "      <th>177901</th>\n",
       "      <td>GGGAGACTGGCCGAAGGAACCGG</td>\n",
       "      <td>GGAAAACTGACCGAAGGAAATGA</td>\n",
       "      <td>-3.419958</td>\n",
       "    </tr>\n",
       "    <tr>\n",
       "      <th>177705</th>\n",
       "      <td>GGGAGACTGGCCGAAGGAACCGG</td>\n",
       "      <td>GGGAGACTGACCAAAGGAACGAG</td>\n",
       "      <td>-3.763196</td>\n",
       "    </tr>\n",
       "    <tr>\n",
       "      <th>177750</th>\n",
       "      <td>GGGAGACTGGCCGAAGGAACCGG</td>\n",
       "      <td>GGAAGACAGGACGAAGGAAGAGA</td>\n",
       "      <td>-3.812833</td>\n",
       "    </tr>\n",
       "  </tbody>\n",
       "</table>\n",
       "</div>"
      ],
      "text/plain": [
       "                            ref                      alt  pred_cleavage_log10\n",
       "177861  GGGAGACTGGCCGAAGGAACCGG  GGAAGACTGACCGAAGGAAGAGA            -2.611826\n",
       "177490  GGGAGACTGGCCGAAGGAACCGG  GGGAGACTGGACGAAGGAACTTC            -3.359443\n",
       "177901  GGGAGACTGGCCGAAGGAACCGG  GGAAAACTGACCGAAGGAAATGA            -3.419958\n",
       "177705  GGGAGACTGGCCGAAGGAACCGG  GGGAGACTGACCAAAGGAACGAG            -3.763196\n",
       "177750  GGGAGACTGGCCGAAGGAACCGG  GGAAGACAGGACGAAGGAAGAGA            -3.812833"
      ]
     },
     "execution_count": 46,
     "metadata": {},
     "output_type": "execute_result"
    }
   ],
   "source": [
    "ot_res_w_on.query(\"PamID=='PDCD1|2'\").sort_values('pred_cleavage_log10', ascending=False)[['ref', 'alt', 'pred_cleavage_log10']].head()"
   ]
  },
  {
   "cell_type": "code",
   "execution_count": 47,
   "id": "b6f729c3",
   "metadata": {},
   "outputs": [],
   "source": [
    "ot_res_w_on.sort_values('PamID').to_csv(\"PDCD1-KINN_pred.txt\", sep=\"\\t\", index=False)"
   ]
  },
  {
   "cell_type": "code",
   "execution_count": 50,
   "id": "2f747d67",
   "metadata": {},
   "outputs": [
    {
     "name": "stdout",
     "output_type": "stream",
     "text": [
      "Last updated: Wed Nov 02 2022\n",
      "\n",
      "Python implementation: CPython\n",
      "Python version       : 3.8.12\n",
      "IPython version      : 7.31.1\n",
      "\n",
      "numpy     : 1.21.2\n",
      "pandas    : 1.4.1\n",
      "sys       : 3.8.12 (default, Oct 12 2021, 13:49:34) \n",
      "[GCC 7.5.0]\n",
      "tensorflow: 2.11.0rc1\n",
      "Bio       : 1.78\n",
      "\n",
      "Watermark: 2.3.1\n",
      "\n"
     ]
    }
   ],
   "source": [
    "%load_ext watermark\n",
    "%watermark -n -u -v -iv -w"
   ]
  },
  {
   "cell_type": "code",
   "execution_count": 49,
   "id": "4c145d0a",
   "metadata": {},
   "outputs": [
    {
     "name": "stdout",
     "output_type": "stream",
     "text": [
      "Cas-OFFinder v2.4 (Mar  5 2018)\n",
      "\n",
      "Copyright (c) 2013 Jeongbin Park and Sangsu Bae\n",
      "Website: http://github.com/snugel/cas-offinder\n",
      "\n",
      "Usage: cas-offinder {input_file} {C|G|A}[device_id(s)] {output_file}\n",
      "(C: using CPUs, G: using GPUs, A: using accelerators)\n",
      "\n",
      "Example input file:\n",
      "/var/chromosomes/human_hg19\n",
      "NNNNNNNNNNNNNNNNNNNNNRG\n",
      "GGCCGACCTGTCGCTGACGCNNN 5\n",
      "CGCCAGCGTCAGCGACAGGTNNN 5\n",
      "ACGGCGCCAGCGTCAGCGACNNN 5\n",
      "GTCGCTGACGCTGGCGCCGTNNN 5\n",
      "\n",
      "Available device list:\n",
      "Type: CPU, ID: 0, <pthread-Intel(R) Xeon(R) Gold 6234 CPU @ 3.30GHz> on <Portable Computing Language>\n"
     ]
    }
   ],
   "source": [
    "%%bash\n",
    "cas-offinder"
   ]
  },
  {
   "cell_type": "code",
   "execution_count": null,
   "id": "f08a3862",
   "metadata": {},
   "outputs": [],
   "source": []
  }
 ],
 "metadata": {
  "kernelspec": {
   "display_name": "Python 3.8.12 ('kinn')",
   "language": "python",
   "name": "python3"
  },
  "language_info": {
   "codemirror_mode": {
    "name": "ipython",
    "version": 3
   },
   "file_extension": ".py",
   "mimetype": "text/x-python",
   "name": "python",
   "nbconvert_exporter": "python",
   "pygments_lexer": "ipython3",
   "version": "3.8.12"
  },
  "vscode": {
   "interpreter": {
    "hash": "618aeadf32dbc2d4f19005d46cb3bf0f6c4e9ec0fefe8d94ec122ea5318258a7"
   }
  }
 },
 "nbformat": 4,
 "nbformat_minor": 5
}
