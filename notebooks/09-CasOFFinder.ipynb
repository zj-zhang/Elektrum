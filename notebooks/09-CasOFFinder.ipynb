{
 "cells": [
  {
   "cell_type": "code",
   "execution_count": 1,
   "id": "312e5a9d",
   "metadata": {},
   "outputs": [
    {
     "name": "stdout",
     "output_type": "stream",
     "text": [
      "/mnt/ceph/users/zzhang/CRISPR_pred/crispr_kinn\n"
     ]
    }
   ],
   "source": [
    "cd .."
   ]
  },
  {
   "cell_type": "code",
   "execution_count": 2,
   "id": "4728e39c",
   "metadata": {},
   "outputs": [
    {
     "name": "stderr",
     "output_type": "stream",
     "text": [
      "Using TensorFlow backend.\n"
     ]
    }
   ],
   "source": [
    "import pandas as pd\n",
    "from tqdm import tqdm\n",
    "from Bio import pairwise2\n",
    "from Bio.Seq import Seq\n",
    "from src.crispr_kinn_predict import reload_from_dir, KineticNeuralNetworkBuilder, \\\n",
    "    featurize_alignment, get_letter_index\n",
    "import tensorflow as tf\n",
    "import numpy as np"
   ]
  },
  {
   "cell_type": "code",
   "execution_count": 3,
   "id": "4b30e30b",
   "metadata": {},
   "outputs": [],
   "source": [
    "gene = pd.read_table(\"/mnt/ceph/users/zzhang/CRISPR_pred/crispr_kinn/VEGFA.bed\",\n",
    "                    names=['chrom', 'start', 'end', 'strand', 'PamID', 'genename', 'num', 'seq'])"
   ]
  },
  {
   "cell_type": "code",
   "execution_count": 4,
   "id": "9536bdab",
   "metadata": {},
   "outputs": [
    {
     "data": {
      "text/html": [
       "<div>\n",
       "<style scoped>\n",
       "    .dataframe tbody tr th:only-of-type {\n",
       "        vertical-align: middle;\n",
       "    }\n",
       "\n",
       "    .dataframe tbody tr th {\n",
       "        vertical-align: top;\n",
       "    }\n",
       "\n",
       "    .dataframe thead th {\n",
       "        text-align: right;\n",
       "    }\n",
       "</style>\n",
       "<table border=\"1\" class=\"dataframe\">\n",
       "  <thead>\n",
       "    <tr style=\"text-align: right;\">\n",
       "      <th></th>\n",
       "      <th>chrom</th>\n",
       "      <th>start</th>\n",
       "      <th>end</th>\n",
       "      <th>strand</th>\n",
       "      <th>PamID</th>\n",
       "      <th>genename</th>\n",
       "      <th>num</th>\n",
       "      <th>seq</th>\n",
       "    </tr>\n",
       "  </thead>\n",
       "  <tbody>\n",
       "    <tr>\n",
       "      <th>0</th>\n",
       "      <td>6</td>\n",
       "      <td>43770677</td>\n",
       "      <td>43770737</td>\n",
       "      <td>+</td>\n",
       "      <td>VEGFA|1</td>\n",
       "      <td>VEGFA</td>\n",
       "      <td>1</td>\n",
       "      <td>CCTTGGGATCCCGCAGCTGACCAGTCGCGCTGACGGACAGACAGAC...</td>\n",
       "    </tr>\n",
       "    <tr>\n",
       "      <th>1</th>\n",
       "      <td>6</td>\n",
       "      <td>43770704</td>\n",
       "      <td>43770764</td>\n",
       "      <td>-</td>\n",
       "      <td>VEGFA|2</td>\n",
       "      <td>VEGFA</td>\n",
       "      <td>2</td>\n",
       "      <td>GGCCGGGGAGGAGGTGGTAGCTGGGGCTGGGGGCGGTGTCTGTCTG...</td>\n",
       "    </tr>\n",
       "    <tr>\n",
       "      <th>2</th>\n",
       "      <td>6</td>\n",
       "      <td>43770707</td>\n",
       "      <td>43770767</td>\n",
       "      <td>-</td>\n",
       "      <td>VEGFA|3</td>\n",
       "      <td>VEGFA</td>\n",
       "      <td>3</td>\n",
       "      <td>GCCGGCCGGGGAGGAGGTGGTAGCTGGGGCTGGGGGCGGTGTCTGT...</td>\n",
       "    </tr>\n",
       "  </tbody>\n",
       "</table>\n",
       "</div>"
      ],
      "text/plain": [
       "   chrom     start       end strand    PamID genename  num  \\\n",
       "0      6  43770677  43770737      +  VEGFA|1    VEGFA    1   \n",
       "1      6  43770704  43770764      -  VEGFA|2    VEGFA    2   \n",
       "2      6  43770707  43770767      -  VEGFA|3    VEGFA    3   \n",
       "\n",
       "                                                 seq  \n",
       "0  CCTTGGGATCCCGCAGCTGACCAGTCGCGCTGACGGACAGACAGAC...  \n",
       "1  GGCCGGGGAGGAGGTGGTAGCTGGGGCTGGGGGCGGTGTCTGTCTG...  \n",
       "2  GCCGGCCGGGGAGGAGGTGGTAGCTGGGGCTGGGGGCGGTGTCTGT...  "
      ]
     },
     "execution_count": 4,
     "metadata": {},
     "output_type": "execute_result"
    }
   ],
   "source": [
    "gene.head(3)"
   ]
  },
  {
   "cell_type": "code",
   "execution_count": 5,
   "id": "fa3b9ed3",
   "metadata": {},
   "outputs": [],
   "source": [
    "grna_seq = []\n",
    "for i in range(gene.shape[0]):\n",
    "    # 20 gRNA + 3 PAM\n",
    "    grna_seq.append(gene.iloc[i]['seq'][13:36])\n",
    "gene['grna_seq'] = grna_seq"
   ]
  },
  {
   "cell_type": "code",
   "execution_count": 6,
   "id": "c08af57b",
   "metadata": {},
   "outputs": [],
   "source": [
    "# sanity check\n",
    "for _ in grna_seq:\n",
    "    assert _.endswith('GG')"
   ]
  },
  {
   "cell_type": "code",
   "execution_count": 7,
   "id": "d79088ac",
   "metadata": {},
   "outputs": [
    {
     "data": {
      "text/plain": [
       "(261, 9)"
      ]
     },
     "execution_count": 7,
     "metadata": {},
     "output_type": "execute_result"
    }
   ],
   "source": [
    "gene.shape"
   ]
  },
  {
   "cell_type": "code",
   "execution_count": 8,
   "id": "14e7a8e4",
   "metadata": {},
   "outputs": [],
   "source": [
    "n_mismatch = 6\n",
    "n_bulges = 1\n",
    "with open(\"CasOffinder_input.txt\", \"w\") as f:\n",
    "    # first line: FASTA filepath\n",
    "    f.write(\"/mnt/ceph/users/zzhang/genome_assembly/GRCh38.primary_assembly.genome.fa\\n\")\n",
    "    # second line: desired pattern including PAM site and optional DNA or RNA bulge sizes, separated by spaces\n",
    "    f.write(f\"{'N'*20}NGG {n_bulges} {n_bulges}\\n\")\n",
    "    # remaining lines: the query sequences and maximum mismatch numbers, separated by spaces\n",
    "    for i in range(gene.shape[0]):\n",
    "        f.write(f\"{gene.iloc[i]['grna_seq']} {n_mismatch}\\n\")"
   ]
  },
  {
   "cell_type": "code",
   "execution_count": 9,
   "id": "d2d96cef",
   "metadata": {},
   "outputs": [
    {
     "name": "stderr",
     "output_type": "stream",
     "text": [
      "Total 1 device(s) found.\n",
      "Loading input file...\n",
      "Reading /mnt/ceph/users/zzhang/genome_assembly/GRCh38.primary_assembly.genome.fa...\n",
      "Sending data to devices...\n",
      "Chunk load started.\n",
      "1 devices selected to analyze...\n",
      "Finding pattern in chunk #1...\n",
      "Comparing patterns in chunk #1...\n",
      "549.912 seconds elapsed.\n"
     ]
    },
    {
     "name": "stdout",
     "output_type": "stream",
     "text": [
      "CPU times: user 11.2 ms, sys: 14.9 ms, total: 26.2 ms\n",
      "Wall time: 9min 9s\n"
     ]
    }
   ],
   "source": [
    "%%time\n",
    "%%bash\n",
    "cas-offinder CasOffinder_input.txt C CasOffinder_output.txt"
   ]
  },
  {
   "cell_type": "code",
   "execution_count": 10,
   "id": "2af889f3",
   "metadata": {},
   "outputs": [],
   "source": [
    "cas_off_ver = '2.4'\n",
    "\n",
    "if cas_off_ver == '2.4':\n",
    "    ot = pd.read_table(\"./notebooks/CasOffinder_output.txt\",\n",
    "                      names=['grna_seq', \"chrom\", \"pos\", \"ot_seq\", \"strand\", \"mm\"])\n",
    "    ot['chrom'] = [x.split()[0] for x in ot['chrom']]\n",
    "    ot = ot.query('mm>0').reset_index()\n",
    "else:\n",
    "    ot = pd.read_table(\"./notebooks/CasOffinder_output.head.txt\", skiprows=1, low_memory=False)\n",
    "    ot = ot.query('Mismatches>0').reset_index() #for V3.0\n",
    "    # fix bulge\n",
    "    for i, row in tqdm(ot.iterrows(), total=ot.shape[0]):\n",
    "        if row['crRNA'].startswith('-'):\n",
    "            ot.iloc[i]['crRNA'] = ot.iloc[i]['crRNA'].lstrip('-')\n",
    "            ot.iloc[i]['DNA'] = ot.iloc[i]['DNA'][1:]\n",
    "        if row['crRNA'].endswith('-'):\n",
    "            ot.iloc[i]['crRNA'] = ot.iloc[i]['crRNA'].lstrip('-')\n",
    "            ot.iloc[i]['DNA'] = ot.iloc[i]['DNA'][:-1]"
   ]
  },
  {
   "cell_type": "code",
   "execution_count": 11,
   "id": "837dd12c",
   "metadata": {},
   "outputs": [
    {
     "name": "stdout",
     "output_type": "stream",
     "text": [
      "(414893, 7)\n"
     ]
    },
    {
     "data": {
      "text/html": [
       "<div>\n",
       "<style scoped>\n",
       "    .dataframe tbody tr th:only-of-type {\n",
       "        vertical-align: middle;\n",
       "    }\n",
       "\n",
       "    .dataframe tbody tr th {\n",
       "        vertical-align: top;\n",
       "    }\n",
       "\n",
       "    .dataframe thead th {\n",
       "        text-align: right;\n",
       "    }\n",
       "</style>\n",
       "<table border=\"1\" class=\"dataframe\">\n",
       "  <thead>\n",
       "    <tr style=\"text-align: right;\">\n",
       "      <th></th>\n",
       "      <th>index</th>\n",
       "      <th>grna_seq</th>\n",
       "      <th>chrom</th>\n",
       "      <th>pos</th>\n",
       "      <th>ot_seq</th>\n",
       "      <th>strand</th>\n",
       "      <th>mm</th>\n",
       "    </tr>\n",
       "  </thead>\n",
       "  <tbody>\n",
       "    <tr>\n",
       "      <th>0</th>\n",
       "      <td>0</td>\n",
       "      <td>CAGCTGACCAGTCGCGCTGACGG</td>\n",
       "      <td>chr5</td>\n",
       "      <td>173177545</td>\n",
       "      <td>CAaaTGACCAGTCtgGCTGAgGGCCCT</td>\n",
       "      <td>-</td>\n",
       "      <td>5</td>\n",
       "    </tr>\n",
       "    <tr>\n",
       "      <th>1</th>\n",
       "      <td>1</td>\n",
       "      <td>CAGCTGACCAGTCGCGCTGACGG</td>\n",
       "      <td>chr3</td>\n",
       "      <td>194615410</td>\n",
       "      <td>CAGCTGtCCtGTCtCGCTGAgGGAATA</td>\n",
       "      <td>-</td>\n",
       "      <td>4</td>\n",
       "    </tr>\n",
       "    <tr>\n",
       "      <th>2</th>\n",
       "      <td>2</td>\n",
       "      <td>CAGCTGACCAGTCGCGCTGACGG</td>\n",
       "      <td>chr6</td>\n",
       "      <td>35404622</td>\n",
       "      <td>CAGCTGACCAGgaGCaCaGAgGGCTGC</td>\n",
       "      <td>+</td>\n",
       "      <td>5</td>\n",
       "    </tr>\n",
       "    <tr>\n",
       "      <th>3</th>\n",
       "      <td>3</td>\n",
       "      <td>CAGCTGACCAGTCGCGCTGACGG</td>\n",
       "      <td>chr7</td>\n",
       "      <td>571289</td>\n",
       "      <td>CAGCTGACCccaCcCGaTGACGGGGTG</td>\n",
       "      <td>+</td>\n",
       "      <td>5</td>\n",
       "    </tr>\n",
       "    <tr>\n",
       "      <th>4</th>\n",
       "      <td>4</td>\n",
       "      <td>CAGCTGACCAGTCGCGCTGACGG</td>\n",
       "      <td>chr4</td>\n",
       "      <td>601716</td>\n",
       "      <td>CtaCTcACCAGTgtCGCTGACGGGAGT</td>\n",
       "      <td>+</td>\n",
       "      <td>5</td>\n",
       "    </tr>\n",
       "  </tbody>\n",
       "</table>\n",
       "</div>"
      ],
      "text/plain": [
       "   index                 grna_seq chrom        pos  \\\n",
       "0      0  CAGCTGACCAGTCGCGCTGACGG  chr5  173177545   \n",
       "1      1  CAGCTGACCAGTCGCGCTGACGG  chr3  194615410   \n",
       "2      2  CAGCTGACCAGTCGCGCTGACGG  chr6   35404622   \n",
       "3      3  CAGCTGACCAGTCGCGCTGACGG  chr7     571289   \n",
       "4      4  CAGCTGACCAGTCGCGCTGACGG  chr4     601716   \n",
       "\n",
       "                        ot_seq strand  mm  \n",
       "0  CAaaTGACCAGTCtgGCTGAgGGCCCT      -   5  \n",
       "1  CAGCTGtCCtGTCtCGCTGAgGGAATA      -   4  \n",
       "2  CAGCTGACCAGgaGCaCaGAgGGCTGC      +   5  \n",
       "3  CAGCTGACCccaCcCGaTGACGGGGTG      +   5  \n",
       "4  CtaCTcACCAGTgtCGCTGACGGGAGT      +   5  "
      ]
     },
     "execution_count": 11,
     "metadata": {},
     "output_type": "execute_result"
    }
   ],
   "source": [
    "print(ot.shape)\n",
    "ot.head()"
   ]
  },
  {
   "cell_type": "code",
   "execution_count": 12,
   "id": "7fced6f5",
   "metadata": {},
   "outputs": [
    {
     "name": "stderr",
     "output_type": "stream",
     "text": [
      "100%|██████████| 414893/414893 [03:37<00:00, 1904.57it/s]\n"
     ]
    }
   ],
   "source": [
    "if cas_off_ver == '2.4':\n",
    "    ### if using Cas-OFFinder v2.4\n",
    "    alignments = []\n",
    "    maxlen = 25\n",
    "    for _, row in tqdm(ot.iterrows(), total=ot.shape[0]):\n",
    "        ref = Seq(row['grna_seq'][::-1])\n",
    "        alt = Seq(row['ot_seq'].upper()[0:23][::-1])\n",
    "        # m: A match score is the score of identical chars, otherwise mismatch score\n",
    "        # d: The sequences have different open and extend gap penalties.\n",
    "        aln = pairwise2.align.localxd(ref, alt, -1, -0.1, -1, 0)\n",
    "        if len(aln[0][0]) > maxlen: # increase gap open penalty to avoid too many gaps\n",
    "            aln = pairwise2.align.localxd(ref, alt, -5, -0.1, -5, 0)\n",
    "            if len(aln[0][0]) > maxlen:\n",
    "                aln = [(ref, alt)]\n",
    "        alignments.append(aln[0])\n",
    "    alignment_df = pd.DataFrame({'ref':[x[0] for x in alignments], 'alt':[x[1] for x in alignments]})\n",
    "elif cas_off_ver == '3.0':\n",
    "    ### if using Cas-OFFinder v3.0\n",
    "    alignments = [x[1].str[::-1].str.upper().tolist() for x in tqdm(ot[['crRNA', 'DNA']].iterrows(), total=ot.shape[0])]\n",
    "    alignment_df = pd.DataFrame({'ref':[x[0] for x in alignments], 'alt':[x[1] for x in alignments]})\n"
   ]
  },
  {
   "cell_type": "code",
   "execution_count": 13,
   "id": "e83c1cdc",
   "metadata": {},
   "outputs": [],
   "source": [
    "# featurize alignment\n",
    "ltidx = get_letter_index(build_indel=True)\n",
    "fea = featurize_alignment(alignments, ltidx)"
   ]
  },
  {
   "cell_type": "code",
   "execution_count": 14,
   "id": "15ca3ae4",
   "metadata": {},
   "outputs": [
    {
     "name": "stdout",
     "output_type": "stream",
     "text": [
      "loaded searched model\n",
      "loaded searched model\n"
     ]
    }
   ],
   "source": [
    "# load kinn\n",
    "sess = tf.Session()\n",
    "manager_kwargs={\n",
    "    'output_op': \n",
    "        lambda: tf.keras.layers.Lambda(lambda x: tf.math.log(x)/np.log(10), name=\"output_log\"),\n",
    "    'n_feats': 25,  # remember to change this!!\n",
    "    'n_channels': 9,\n",
    "    'batch_size': 128,\n",
    "    'epochs': 30,\n",
    "    'earlystop': 10,\n",
    "    'verbose': 0\n",
    "}\n",
    "kinn_1 = reload_from_dir(wd=\"outputs/2022-05-21/KINN-wtCas9_cleave_rate_log-finkelstein-0-rep4-gRNA1/\",\n",
    "                         sess=sess,\n",
    "                         manager_kwargs=manager_kwargs,\n",
    "                         model_fn=KineticNeuralNetworkBuilder\n",
    "                         )\n",
    "kinn_2 = reload_from_dir(wd=\"outputs/2022-05-21/KINN-wtCas9_cleave_rate_log-finkelstein-0-rep5-gRNA2/\",\n",
    "                         sess=sess,\n",
    "                         manager_kwargs=manager_kwargs,\n",
    "                         model_fn=KineticNeuralNetworkBuilder\n",
    "                         )"
   ]
  },
  {
   "cell_type": "code",
   "execution_count": 15,
   "id": "646c3d77",
   "metadata": {},
   "outputs": [],
   "source": [
    "# build rate model\n",
    "l1 = {l.name:l for l in kinn_1.model.layers}\n",
    "kinn_1_rate_mod = tf.keras.Model(\n",
    "    inputs=kinn_1.model.inputs,\n",
    "    outputs=l1['gather_rates'].output\n",
    ")\n",
    "l2 = {l.name:l for l in kinn_2.model.layers}\n",
    "kinn_2_rate_mod = tf.keras.Model(\n",
    "    inputs=kinn_2.model.inputs,\n",
    "    outputs=l2['gather_rates'].output\n",
    ")"
   ]
  },
  {
   "cell_type": "code",
   "execution_count": 16,
   "id": "fbf88dd8",
   "metadata": {},
   "outputs": [],
   "source": [
    "k1_clv = kinn_1.predict(fea)\n",
    "k2_clv = kinn_2.predict(fea)\n",
    "k1_rates = np.array(kinn_1_rate_mod.predict(kinn_1.blockify_seq_ohe(fea)))\n",
    "k2_rates = np.array(kinn_2_rate_mod.predict(kinn_2.blockify_seq_ohe(fea)))"
   ]
  },
  {
   "cell_type": "code",
   "execution_count": 17,
   "id": "c5a03790",
   "metadata": {},
   "outputs": [],
   "source": [
    "k1_kinn = pd.DataFrame(np.hstack([k1_clv, k1_rates]), \n",
    "                       columns=['pred_cleavage_log10', 'k_on_log', 'k_off_log', 'k_OI_log', \n",
    "                                'k_IO_log', 'k_IC_log', 'k_CI_log', 'k_cat_log'])\n",
    "k2_kinn = pd.DataFrame(np.hstack([k2_clv, k2_rates]), \n",
    "                       columns=['pred_cleavage_log10', 'k_on_log', 'k_off_log', 'k_OI_log', \n",
    "                                'k_IO_log', 'k_IC_log', 'k_CI_log', 'k_cat_log'])\n",
    "kinn = k1_kinn.join(k2_kinn, lsuffix='.1', rsuffix='.2')"
   ]
  },
  {
   "cell_type": "code",
   "execution_count": 18,
   "id": "6a436a01",
   "metadata": {},
   "outputs": [],
   "source": [
    "ot_res = ot.join(alignment_df).join(kinn)"
   ]
  },
  {
   "cell_type": "code",
   "execution_count": 19,
   "id": "46ac3f71",
   "metadata": {},
   "outputs": [],
   "source": [
    "ot_res['pred_cleavage_log10'] = ot_res[['pred_cleavage_log10.1', 'pred_cleavage_log10.2']].mean(axis=1)"
   ]
  },
  {
   "cell_type": "code",
   "execution_count": 20,
   "id": "e1a71d51",
   "metadata": {},
   "outputs": [
    {
     "data": {
      "text/plain": [
       "(414893, 26)"
      ]
     },
     "execution_count": 20,
     "metadata": {},
     "output_type": "execute_result"
    }
   ],
   "source": [
    "ot_res.shape"
   ]
  },
  {
   "cell_type": "code",
   "execution_count": 21,
   "id": "1743f4f3",
   "metadata": {},
   "outputs": [],
   "source": [
    "#row = ot_res.sort_values(\"pred_cleavage_log10\", ascending=False).iloc[0]\n",
    "#row"
   ]
  },
  {
   "cell_type": "code",
   "execution_count": 22,
   "id": "29d87ed2",
   "metadata": {},
   "outputs": [],
   "source": [
    "ot_res = ot_res.query('pred_cleavage_log10 > -8')"
   ]
  },
  {
   "cell_type": "code",
   "execution_count": 23,
   "id": "95287813",
   "metadata": {},
   "outputs": [],
   "source": [
    "ot_res_w_on = ot_res.set_index('grna_seq').join(gene.set_index('grna_seq'), lsuffix='.off', rsuffix='.on').reset_index()"
   ]
  },
  {
   "cell_type": "code",
   "execution_count": 24,
   "id": "4dc6856a",
   "metadata": {},
   "outputs": [],
   "source": [
    "ot_res_w_on = ot_res_w_on[[\n",
    "    'PamID', 'chrom.on', 'start', 'end', 'strand.on', 'genename', 'grna_seq', 'ot_seq', 'mm',\n",
    "    'chrom.off', 'pos', 'strand.off', 'ref', 'alt', 'pred_cleavage_log10', 'pred_cleavage_log10.1', 'pred_cleavage_log10.2',\n",
    "    'k_on_log.1', 'k_off_log.1', 'k_OI_log.1', 'k_IO_log.1', 'k_IC_log.1', 'k_CI_log.1', 'k_cat_log.1',\n",
    "    'k_on_log.2', 'k_off_log.2', 'k_OI_log.2', 'k_IO_log.2', 'k_IC_log.2', 'k_CI_log.2', 'k_cat_log.2',\n",
    "]]"
   ]
  },
  {
   "cell_type": "code",
   "execution_count": 25,
   "id": "c5a33cf5",
   "metadata": {},
   "outputs": [
    {
     "data": {
      "text/html": [
       "<div>\n",
       "<style scoped>\n",
       "    .dataframe tbody tr th:only-of-type {\n",
       "        vertical-align: middle;\n",
       "    }\n",
       "\n",
       "    .dataframe tbody tr th {\n",
       "        vertical-align: top;\n",
       "    }\n",
       "\n",
       "    .dataframe thead th {\n",
       "        text-align: right;\n",
       "    }\n",
       "</style>\n",
       "<table border=\"1\" class=\"dataframe\">\n",
       "  <thead>\n",
       "    <tr style=\"text-align: right;\">\n",
       "      <th></th>\n",
       "      <th>ref</th>\n",
       "      <th>alt</th>\n",
       "      <th>pred_cleavage_log10</th>\n",
       "    </tr>\n",
       "  </thead>\n",
       "  <tbody>\n",
       "    <tr>\n",
       "      <th>43518</th>\n",
       "      <td>GGCAGTCGCGCTGACCAGTCGAC</td>\n",
       "      <td>GGGAGTCCCACTGACCAGTCGAA</td>\n",
       "      <td>-3.771010</td>\n",
       "    </tr>\n",
       "    <tr>\n",
       "      <th>43503</th>\n",
       "      <td>GGCAGTCGCGCTGACCAGTCGAC</td>\n",
       "      <td>GGGAGTCGGTCTGACCAGTAAAC</td>\n",
       "      <td>-4.689523</td>\n",
       "    </tr>\n",
       "    <tr>\n",
       "      <th>43520</th>\n",
       "      <td>GGCAGTCGCGCTGACCAGTCGAC</td>\n",
       "      <td>GGGAGTAGAGGTGACCAGTCGTC</td>\n",
       "      <td>-4.892593</td>\n",
       "    </tr>\n",
       "    <tr>\n",
       "      <th>43538</th>\n",
       "      <td>GGCAGTCGCGCTGACCAGTCGAC</td>\n",
       "      <td>GGTAGTCACGTAGACCAGTCAAC</td>\n",
       "      <td>-5.441313</td>\n",
       "    </tr>\n",
       "    <tr>\n",
       "      <th>43517</th>\n",
       "      <td>GGCAGTCGCGCTGACCAGTCGAC</td>\n",
       "      <td>GGGAGTCGCACTGACCTGCCGAG</td>\n",
       "      <td>-5.602283</td>\n",
       "    </tr>\n",
       "  </tbody>\n",
       "</table>\n",
       "</div>"
      ],
      "text/plain": [
       "                           ref                      alt  pred_cleavage_log10\n",
       "43518  GGCAGTCGCGCTGACCAGTCGAC  GGGAGTCCCACTGACCAGTCGAA            -3.771010\n",
       "43503  GGCAGTCGCGCTGACCAGTCGAC  GGGAGTCGGTCTGACCAGTAAAC            -4.689523\n",
       "43520  GGCAGTCGCGCTGACCAGTCGAC  GGGAGTAGAGGTGACCAGTCGTC            -4.892593\n",
       "43538  GGCAGTCGCGCTGACCAGTCGAC  GGTAGTCACGTAGACCAGTCAAC            -5.441313\n",
       "43517  GGCAGTCGCGCTGACCAGTCGAC  GGGAGTCGCACTGACCTGCCGAG            -5.602283"
      ]
     },
     "execution_count": 25,
     "metadata": {},
     "output_type": "execute_result"
    }
   ],
   "source": [
    "ot_res_w_on.query(\"PamID=='VEGFA|1'\").sort_values('pred_cleavage_log10', ascending=False)[['ref', 'alt', 'pred_cleavage_log10']].head()"
   ]
  },
  {
   "cell_type": "code",
   "execution_count": 26,
   "id": "9a467612",
   "metadata": {},
   "outputs": [
    {
     "data": {
      "text/html": [
       "<div>\n",
       "<style scoped>\n",
       "    .dataframe tbody tr th:only-of-type {\n",
       "        vertical-align: middle;\n",
       "    }\n",
       "\n",
       "    .dataframe tbody tr th {\n",
       "        vertical-align: top;\n",
       "    }\n",
       "\n",
       "    .dataframe thead th {\n",
       "        text-align: right;\n",
       "    }\n",
       "</style>\n",
       "<table border=\"1\" class=\"dataframe\">\n",
       "  <thead>\n",
       "    <tr style=\"text-align: right;\">\n",
       "      <th></th>\n",
       "      <th>ref</th>\n",
       "      <th>alt</th>\n",
       "      <th>pred_cleavage_log10</th>\n",
       "    </tr>\n",
       "  </thead>\n",
       "  <tbody>\n",
       "    <tr>\n",
       "      <th>178711</th>\n",
       "      <td>GGCGGGGGTCGGGGTCGATGGTG</td>\n",
       "      <td>GGAGGGGGTCGGGGTCGATGGGG</td>\n",
       "      <td>-1.287670</td>\n",
       "    </tr>\n",
       "    <tr>\n",
       "      <th>178989</th>\n",
       "      <td>GGCGGGGGTCGGGGTCGATGGTG</td>\n",
       "      <td>GGAGGGGGTCGGGGTCGTTGGTG</td>\n",
       "      <td>-1.983200</td>\n",
       "    </tr>\n",
       "    <tr>\n",
       "      <th>179838</th>\n",
       "      <td>GGCGGGGGTCGGGGTCGATGGTG</td>\n",
       "      <td>GGTGGGGGTAGGGGTCGATGGTG</td>\n",
       "      <td>-2.136131</td>\n",
       "    </tr>\n",
       "    <tr>\n",
       "      <th>179755</th>\n",
       "      <td>GGCGGGGGTCGGGGTCGATGGTG</td>\n",
       "      <td>GGAGGGGGTCGGAGTCGATAGAG</td>\n",
       "      <td>-2.214801</td>\n",
       "    </tr>\n",
       "    <tr>\n",
       "      <th>179502</th>\n",
       "      <td>GGCGGGGGTCGGGGTCGATGGTG</td>\n",
       "      <td>GGGGGTGGTCGGGGTCGATGGTT</td>\n",
       "      <td>-2.261375</td>\n",
       "    </tr>\n",
       "  </tbody>\n",
       "</table>\n",
       "</div>"
      ],
      "text/plain": [
       "                            ref                      alt  pred_cleavage_log10\n",
       "178711  GGCGGGGGTCGGGGTCGATGGTG  GGAGGGGGTCGGGGTCGATGGGG            -1.287670\n",
       "178989  GGCGGGGGTCGGGGTCGATGGTG  GGAGGGGGTCGGGGTCGTTGGTG            -1.983200\n",
       "179838  GGCGGGGGTCGGGGTCGATGGTG  GGTGGGGGTAGGGGTCGATGGTG            -2.136131\n",
       "179755  GGCGGGGGTCGGGGTCGATGGTG  GGAGGGGGTCGGAGTCGATAGAG            -2.214801\n",
       "179502  GGCGGGGGTCGGGGTCGATGGTG  GGGGGTGGTCGGGGTCGATGGTT            -2.261375"
      ]
     },
     "execution_count": 26,
     "metadata": {},
     "output_type": "execute_result"
    }
   ],
   "source": [
    "ot_res_w_on.query(\"PamID=='VEGFA|2'\").sort_values('pred_cleavage_log10', ascending=False)[['ref', 'alt', 'pred_cleavage_log10']].head()"
   ]
  },
  {
   "cell_type": "code",
   "execution_count": 27,
   "id": "b6f729c3",
   "metadata": {},
   "outputs": [],
   "source": [
    "ot_res.to_csv(\"VEGFA-KINN_pred.txt\", sep=\"\\t\", index=False)"
   ]
  },
  {
   "cell_type": "code",
   "execution_count": 28,
   "id": "2f747d67",
   "metadata": {},
   "outputs": [
    {
     "name": "stdout",
     "output_type": "stream",
     "text": [
      "Last updated: Mon Aug 29 2022\n",
      "\n",
      "Python implementation: CPython\n",
      "Python version       : 3.7.9\n",
      "IPython version      : 7.22.0\n",
      "\n",
      "numpy     : 1.21.6\n",
      "pandas    : 1.3.5\n",
      "tensorflow: 1.15.0\n",
      "Bio       : 1.79\n",
      "\n",
      "Watermark: 2.3.1\n",
      "\n"
     ]
    }
   ],
   "source": [
    "%load_ext watermark\n",
    "%watermark -n -u -v -iv -w"
   ]
  },
  {
   "cell_type": "code",
   "execution_count": 29,
   "id": "4c145d0a",
   "metadata": {},
   "outputs": [
    {
     "name": "stdout",
     "output_type": "stream",
     "text": [
      "Cas-OFFinder v2.4 (Mar  5 2018)\n",
      "\n",
      "Copyright (c) 2013 Jeongbin Park and Sangsu Bae\n",
      "Website: http://github.com/snugel/cas-offinder\n",
      "\n",
      "Usage: cas-offinder {input_file} {C|G|A}[device_id(s)] {output_file}\n",
      "(C: using CPUs, G: using GPUs, A: using accelerators)\n",
      "\n",
      "Example input file:\n",
      "/var/chromosomes/human_hg19\n",
      "NNNNNNNNNNNNNNNNNNNNNRG\n",
      "GGCCGACCTGTCGCTGACGCNNN 5\n",
      "CGCCAGCGTCAGCGACAGGTNNN 5\n",
      "ACGGCGCCAGCGTCAGCGACNNN 5\n",
      "GTCGCTGACGCTGGCGCCGTNNN 5\n",
      "\n",
      "Available device list:\n",
      "Type: CPU, ID: 0, <pthread-Intel(R) Xeon(R) Gold 6148 CPU @ 2.40GHz> on <Portable Computing Language>\n"
     ]
    }
   ],
   "source": [
    "%%bash\n",
    "cas-offinder"
   ]
  },
  {
   "cell_type": "code",
   "execution_count": null,
   "id": "f08a3862",
   "metadata": {},
   "outputs": [],
   "source": []
  }
 ],
 "metadata": {
  "kernelspec": {
   "display_name": "Python 3",
   "language": "python",
   "name": "python3"
  },
  "language_info": {
   "codemirror_mode": {
    "name": "ipython",
    "version": 3
   },
   "file_extension": ".py",
   "mimetype": "text/x-python",
   "name": "python",
   "nbconvert_exporter": "python",
   "pygments_lexer": "ipython3",
   "version": "3.7.9"
  }
 },
 "nbformat": 4,
 "nbformat_minor": 5
}
