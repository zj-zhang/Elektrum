{
 "cells": [
  {
   "cell_type": "markdown",
   "id": "0cd865ff",
   "metadata": {},
   "source": [
    "## Bayesian Analysis of KINN Cas9 when Varying State numbers"
   ]
  },
  {
   "cell_type": "code",
   "execution_count": 1,
   "id": "262a56e3",
   "metadata": {},
   "outputs": [
    {
     "name": "stdout",
     "output_type": "stream",
     "text": [
      "/mnt/ceph/users/zzhang/CRISPR_pred/crispr_kinn\n"
     ]
    }
   ],
   "source": [
    "%cd /mnt/home/zzhang/ceph/CRISPR_pred/crispr_kinn"
   ]
  },
  {
   "cell_type": "code",
   "execution_count": 2,
   "id": "e3f8761e",
   "metadata": {},
   "outputs": [
    {
     "name": "stderr",
     "output_type": "stream",
     "text": [
      "WARNING (theano.tensor.blas): Using NumPy C-API based implementation for BLAS functions.\n"
     ]
    }
   ],
   "source": [
    "import pandas as pd\n",
    "import numpy as np\n",
    "import scipy.stats as ss\n",
    "import matplotlib.pyplot as plt\n",
    "import seaborn as sns\n",
    "from collections import defaultdict, Counter\n",
    "\n",
    "import arviz as az\n",
    "import pymc3 as pm"
   ]
  },
  {
   "cell_type": "code",
   "execution_count": 3,
   "id": "eae6cda3",
   "metadata": {},
   "outputs": [],
   "source": [
    "# utils functions\n",
    "\n",
    "def parse_arc_str(arc):\n",
    "    rates = {}\n",
    "    for i, a in enumerate(arc.split('|')):\n",
    "        ele = a.split('-')\n",
    "        #rates.append([int(ele[0]), int(ele[1]), int(ele[2].strip('k'))])\n",
    "        rates[('k%i'%i, 'start')] = int(ele[0])\n",
    "        rates[('k%i'%i, 'length')] = int(ele[1]) - int(ele[0])\n",
    "        rates[('k%i'%i, 'kernel')] = int(ele[2].strip('k'))\n",
    "    return rates\n",
    "\n",
    "def get_post_dist(df, top_cut=0.05):\n",
    "    if type(top_cut) is float:\n",
    "         top_cut = int(df.shape[0]*top_cut)\n",
    "    a = df.sort_values('test_reward', ascending=False).head(top_cut)\n",
    "    n_rates = len(df.iloc[0]['arc'].split('|'))\n",
    "    rates = pd.DataFrame(columns=[\n",
    "        ['k%i'%i for i in range(n_rates) for _ in range(3)], \n",
    "        ['start', 'length', 'kernel']*n_rates] )\n",
    "    for arc in a['arc']:\n",
    "        r = parse_arc_str(arc)\n",
    "        rates = rates.append(r, ignore_index=True)\n",
    "    return rates\n",
    "\n",
    "def fit_mvn(post):\n",
    "    a = post[[\"k%i\"%k for k in range(2, len(post.columns.levels[0]))]].to_numpy(dtype='float32')\n",
    "    #a = post.to_numpy(dtype='float32')\n",
    "    mu = np.mean(a, axis=0)\n",
    "    sigma = np.cov(a, rowvar=0)\n",
    "    return mu, sigma\n",
    "\n",
    "def bayes_heir_samp(ks):\n",
    "    posts = [get_post_dist(k, top_cut=100) for k in ks]\n",
    "    xs = [\n",
    "        x[[\"k%i\"%k for k in range(2, len(x.columns.levels[0]))]].to_numpy(dtype='float32')\n",
    "        for x in posts\n",
    "    ]\n",
    "    with pm.Model() as heir_model:\n",
    "        μ = pm.Normal(\"μ\", 0.0, 5, shape=xs[0].shape[1], testval=np.concatenate(xs, axis=0).mean(axis=0))\n",
    "        chol, corr, stds = pm.LKJCholeskyCov(\n",
    "                \"chol\", n=xs[0].shape[1], eta=1.0, sd_dist=pm.Exponential.dist(1.0), compute_corr=True\n",
    "            )\n",
    "        group_cov = pm.Deterministic(\"mvn_cov\", chol.dot(chol.T))\n",
    "        group_mvn = pm.MvNormal(\"mvn_mu\", μ, chol=chol, shape=(xs[0].shape[1],))\n",
    "\n",
    "        chol_i, _, _ = pm.LKJCholeskyCov(\n",
    "            \"chol_i\", n=xs[0].shape[1], eta=1.0, sd_dist=pm.Exponential.dist(1.0), compute_corr=True\n",
    "        )\n",
    "        cov = pm.Deterministic(\"cov_i\", chol_i.dot(chol_i.T))\n",
    "        for i, x in enumerate(xs):\n",
    "            cov = pm.Deterministic(\"cov_%i\"%i, chol.dot(chol.T))\n",
    "            obs_i = pm.MvNormal(\"obs_%i\"%i, group_mvn, chol=chol_i, observed=x)\n",
    "        \n",
    "        trace = pm.sample(draws=10000, tune=750, random_seed=1337, init=\"adapt_diag\", target_accept=0.9, return_inferencedata=True)\n",
    "    return trace\n",
    "\n",
    "def strip_mat_coord(s):\n",
    "    c = s.split('[')[1].strip(']').split(',')\n",
    "    c = [int(x) for x in c if len(x)]\n",
    "    return c\n",
    "\n",
    "def make_sigma_from_coo(sigma_coo):\n",
    "    last_dim = strip_mat_coord(sigma_coo.index[-1])\n",
    "    sigma_ = np.zeros((last_dim[0]+1, last_dim[1]+1))\n",
    "    for i, row in sigma_coo.iterrows():\n",
    "        coords = strip_mat_coord(i)\n",
    "        #print(coords, row['mean'])\n",
    "        sigma_[coords[0], coords[1]] = row['mean']\n",
    "        sigma_[coords[1], coords[0]] = row['mean']\n",
    "    return sigma_\n",
    "\n",
    "def bayes_trace_sum(trace):\n",
    "    mu = az.summary(trace, var_names=[\"μ\"], round_to=2)\n",
    "    mvn_sigma = az.summary(trace, var_names=[\"mvn_cov\"], round_to=2)\n",
    "    inter_sigma = az.summary(trace, var_names=[\"cov_i\"], round_to=2)\n",
    "    mu = mu['mean'].to_numpy()\n",
    "    return mu, make_sigma_from_coo(mvn_sigma), make_sigma_from_coo(inter_sigma)"
   ]
  },
  {
   "cell_type": "code",
   "execution_count": 4,
   "id": "c3cd2971",
   "metadata": {},
   "outputs": [],
   "source": [
    "# Plot functions\n",
    "def plot_sigma(sigma, ax=None):\n",
    "    ax = sns.heatmap(sigma, annot=True, ax=ax, center=0, cbar=False, fmt=\".1f\", \n",
    "                cmap=sns.color_palette(\"vlag\", as_cmap=True),\n",
    "                xticklabels=[f\"k{k}_{s}\" for k in range(2,2+sigma.shape[0]//3) for s in ('s', 'l', 'k')],\n",
    "                #yticklabels=[f\"k{k}_{s}\" for k in range(2,7) for s in ('s', 'l', 'k')],\n",
    "    )\n",
    "    return ax\n",
    "\n",
    "\n",
    "def plot_mean(mu, ax=None, verbose=False):\n",
    "    offset = 0.25\n",
    "    ax.text(1, 6+offset, \"k0\", fontsize=12)\n",
    "    ax.plot((0,3), (6,6), lw=2, color=\"black\")\n",
    "    ax.text(1, 3+offset, \"k1\", fontsize=12)\n",
    "    ax.plot((0,3), (3,3), lw=2, ls='--', color=\"red\")\n",
    "\n",
    "    k = 1\n",
    "    for i in range(0, len(mu), 3):\n",
    "        k += 1\n",
    "        start = mu[i]\n",
    "        end = mu[i] + mu[i+1]\n",
    "        ks = mu[i+2]\n",
    "        if verbose: print(start, end, ks)\n",
    "        #ax.text(start+1, -i+offset, \"k%i (%.2f)\"%(k, ks), fontsize=12)\n",
    "        ax.text(start+1, -i+offset, \"k%i\"%(k), fontsize=12)\n",
    "        if k%2:\n",
    "            ax.plot((start, end), (-i,-i), lw=2, color=\"red\", ls=\"--\")\n",
    "        else:\n",
    "            ax.plot((start, end), (-i,-i), lw=2, color=\"black\")\n",
    "\n",
    "    ax.set_xlim(0, 25)\n",
    "    ax.set_xlabel(\"gRNA\")\n",
    "    ax.set_yticklabels(\"\")\n",
    "   "
   ]
  },
  {
   "cell_type": "code",
   "execution_count": 5,
   "id": "6ef2767a",
   "metadata": {},
   "outputs": [],
   "source": [
    "train_hist_dict = {\n",
    "'finkelstein-gRNA1': [\n",
    "    pd.read_table(\"outputs/2022-05-21/KINN-wtCas9_cleave_rate_log-finkelstein-0-rep1-gRNA1/train_history.tsv\"),\n",
    "    pd.read_table(\"outputs/2022-05-21/KINN-wtCas9_cleave_rate_log-finkelstein-0-rep2-gRNA1/train_history.tsv\"),\n",
    "    pd.read_table(\"outputs/2022-05-21/KINN-wtCas9_cleave_rate_log-finkelstein-0-rep3-gRNA1/train_history.tsv\"),\n",
    "    pd.read_table(\"outputs/2022-05-21/KINN-wtCas9_cleave_rate_log-finkelstein-0-rep4-gRNA1/train_history.tsv\"),\n",
    "    pd.read_table(\"outputs/2022-05-21/KINN-wtCas9_cleave_rate_log-finkelstein-0-rep5-gRNA1/train_history.tsv\"),\n",
    "    ],\n",
    "'finkelstein-gRNA2': [\n",
    "    pd.read_table(\"outputs/2022-05-21/KINN-wtCas9_cleave_rate_log-finkelstein-0-rep1-gRNA2/train_history.tsv\"),\n",
    "    pd.read_table(\"outputs/2022-05-21/KINN-wtCas9_cleave_rate_log-finkelstein-0-rep2-gRNA2/train_history.tsv\"),\n",
    "    pd.read_table(\"outputs/2022-05-21/KINN-wtCas9_cleave_rate_log-finkelstein-0-rep3-gRNA2/train_history.tsv\"),\n",
    "    pd.read_table(\"outputs/2022-05-21/KINN-wtCas9_cleave_rate_log-finkelstein-0-rep4-gRNA2/train_history.tsv\"),\n",
    "    pd.read_table(\"outputs/2022-05-21/KINN-wtCas9_cleave_rate_log-finkelstein-0-rep5-gRNA2/train_history.tsv\"),\n",
    "    ],\n",
    "'uniform-4-gRNA1': [\n",
    "    pd.read_table(\"outputs/2022-05-30/KINN-wtCas9_cleave_rate_log-uniform-4-rep1-gRNA1/train_history.tsv\"),\n",
    "    pd.read_table(\"outputs/2022-05-30/KINN-wtCas9_cleave_rate_log-uniform-4-rep2-gRNA1/train_history.tsv\"),\n",
    "    pd.read_table(\"outputs/2022-05-30/KINN-wtCas9_cleave_rate_log-uniform-4-rep3-gRNA1/train_history.tsv\"),\n",
    "    ],\n",
    "'uniform-4-gRNA2': [\n",
    "    pd.read_table(\"outputs/2022-05-30/KINN-wtCas9_cleave_rate_log-uniform-4-rep1-gRNA2/train_history.tsv\"),\n",
    "    pd.read_table(\"outputs/2022-05-30/KINN-wtCas9_cleave_rate_log-uniform-4-rep2-gRNA2/train_history.tsv\"),\n",
    "    pd.read_table(\"outputs/2022-05-30/KINN-wtCas9_cleave_rate_log-uniform-4-rep3-gRNA2/train_history.tsv\"),\n",
    "    ],\n",
    "'uniform-5-gRNA1': [\n",
    "    pd.read_table(\"outputs/2022-05-30/KINN-wtCas9_cleave_rate_log-uniform-5-rep1-gRNA1/train_history.tsv\"),\n",
    "    pd.read_table(\"outputs/2022-05-30/KINN-wtCas9_cleave_rate_log-uniform-5-rep2-gRNA1/train_history.tsv\"),\n",
    "    pd.read_table(\"outputs/2022-05-30/KINN-wtCas9_cleave_rate_log-uniform-5-rep3-gRNA1/train_history.tsv\"),\n",
    "    ],\n",
    "'uniform-5-gRNA2': [\n",
    "    pd.read_table(\"outputs/2022-05-30/KINN-wtCas9_cleave_rate_log-uniform-5-rep1-gRNA2/train_history.tsv\"),\n",
    "    pd.read_table(\"outputs/2022-05-30/KINN-wtCas9_cleave_rate_log-uniform-5-rep2-gRNA2/train_history.tsv\"),\n",
    "    pd.read_table(\"outputs/2022-05-30/KINN-wtCas9_cleave_rate_log-uniform-5-rep3-gRNA2/train_history.tsv\"),\n",
    "    ],\n",
    "'uniform-6-gRNA1': [\n",
    "    pd.read_table(\"outputs/2022-05-30/KINN-wtCas9_cleave_rate_log-uniform-6-rep1-gRNA1/train_history.tsv\"),\n",
    "    pd.read_table(\"outputs/2022-05-30/KINN-wtCas9_cleave_rate_log-uniform-6-rep2-gRNA1/train_history.tsv\"),\n",
    "    pd.read_table(\"outputs/2022-05-30/KINN-wtCas9_cleave_rate_log-uniform-6-rep3-gRNA1/train_history.tsv\"),\n",
    "    ],\n",
    "'uniform-6-gRNA2': [\n",
    "    pd.read_table(\"outputs/2022-05-30/KINN-wtCas9_cleave_rate_log-uniform-6-rep1-gRNA2/train_history.tsv\"),\n",
    "    pd.read_table(\"outputs/2022-05-30/KINN-wtCas9_cleave_rate_log-uniform-6-rep2-gRNA2/train_history.tsv\"),\n",
    "    pd.read_table(\"outputs/2022-05-30/KINN-wtCas9_cleave_rate_log-uniform-6-rep3-gRNA2/train_history.tsv\"),\n",
    "    ],        \n",
    "}"
   ]
  },
  {
   "cell_type": "code",
   "execution_count": 6,
   "id": "1673144f",
   "metadata": {},
   "outputs": [
    {
     "name": "stdout",
     "output_type": "stream",
     "text": [
      "finkelstein-gRNA1\n",
      "finkelstein-gRNA2\n",
      "uniform-4-gRNA1\n",
      "uniform-4-gRNA2\n",
      "uniform-5-gRNA1\n",
      "uniform-5-gRNA2\n",
      "uniform-6-gRNA1\n",
      "uniform-6-gRNA2\n"
     ]
    }
   ],
   "source": [
    "res = {}\n",
    "for k in train_hist_dict:\n",
    "    print(k)\n",
    "    post_all = get_post_dist(pd.concat(train_hist_dict[k]), top_cut=200)\n",
    "    mu, sigma = fit_mvn(post_all)\n",
    "    res[k] = mu, sigma"
   ]
  },
  {
   "cell_type": "code",
   "execution_count": 7,
   "id": "57c2cdf5",
   "metadata": {},
   "outputs": [
    {
     "data": {
      "text/plain": [
       "<Figure size 432x288 with 0 Axes>"
      ]
     },
     "metadata": {},
     "output_type": "display_data"
    },
    {
     "data": {
      "image/png": "[encoded data removed]",
      "text/plain": [
       "<Figure size 576x1152 with 8 Axes>"
      ]
     },
     "metadata": {
      "needs_background": "light"
     },
     "output_type": "display_data"
    }
   ],
   "source": [
    "plt.clf()\n",
    "fig, axs = plt.subplots(len(res)//2, 2, figsize=(8, 4*len(res)//2))\n",
    "i = 0\n",
    "j = 0\n",
    "for config in res:\n",
    "    mu = res[config][0]\n",
    "    ax = axs[i,j]\n",
    "    plot_mean(mu, ax)\n",
    "    ax.spines['top'].set_visible(False)\n",
    "    ax.spines['right'].set_visible(False)\n",
    "    if i==0:\n",
    "        ax.set_title('gRNA %i' % (j+1))\n",
    "    if j==1:\n",
    "        j=0; i+=1\n",
    "    else:\n",
    "        ax.set_ylabel(' '.join(config.split('-')[:-1]))\n",
    "        j+=1"
   ]
  },
  {
   "cell_type": "markdown",
   "id": "24290022",
   "metadata": {},
   "source": [
    "### Bayesian Heirarchical Model Inference\n",
    "\n",
    "Helps to tease out within-group (within an AMBER search run) variances vs between-group (between AMBER run) variances.\n",
    "\n",
    "For the $j$-th searched KINN model on the $i$-th run, we spcecify the following model:\n",
    "\n",
    "$$y_{ij} = \\mu + b_i + \\epsilon_{ij}$$\n",
    "\n",
    "In other words, $\\mu_i=\\mu + b_i$, and $b_i \\sim MVN(0, \\Sigma_b)$\n",
    "\n",
    "and $y_{ij} \\sim MVN(\\mu_i, \\Sigma_y)$\n",
    "\n",
    "$\\Sigma_y$ captures the within-group variance, while $\\Sigma_b$ captures the between-group variance.\n",
    "\n",
    "We can put further priors to make a complete Bayesian model:\n",
    "\n",
    "$$\\mu \\sim MVN(\\theta, \\Sigma_b)$$\n",
    "$$\\theta \\sim N(0,10)$$\n",
    "$$\\Sigma_b \\sim LKJCholeskyCov(\\eta=1, sd\\sim Exp(1.))$$\n",
    "$$\\Sigma_y \\sim LKJCholeskyCov(\\eta=1, sd\\sim Exp(1.))$$\n",
    "\n",
    "Note: Smaller $Exp(\\lambda)$ are more flat / regularize less towards 0, because $E(Exp(\\lambda)) = \\frac{1}{\\lambda}$\n",
    "\n",
    "\n",
    "Based on https://idiom.ucsd.edu/~rlevy/pmsl_textbook/chapters/pmsl_8.pdf"
   ]
  },
  {
   "cell_type": "code",
   "execution_count": 8,
   "id": "b03db4d6",
   "metadata": {},
   "outputs": [],
   "source": [
    "# results placeholder\n",
    "bh_res = {}"
   ]
  },
  {
   "cell_type": "code",
   "execution_count": null,
   "id": "c44758b6",
   "metadata": {
    "scrolled": false
   },
   "outputs": [
    {
     "name": "stdout",
     "output_type": "stream",
     "text": [
      "finkelstein-gRNA1\n"
     ]
    },
    {
     "name": "stderr",
     "output_type": "stream",
     "text": [
      "Auto-assigning NUTS sampler...\n",
      "Initializing NUTS using adapt_diag...\n",
      "Multiprocess sampling (4 chains in 4 jobs)\n",
      "NUTS: [chol_i, mvn_mu, chol, μ]\n"
     ]
    },
    {
     "data": {
      "text/html": [
       "\n",
       "<style>\n",
       "    /* Turns off some styling */\n",
       "    progress {\n",
       "        /* gets rid of default border in Firefox and Opera. */\n",
       "        border: none;\n",
       "        /* Needs to be in here for Safari polyfill so background images work as expected. */\n",
       "        background-size: auto;\n",
       "    }\n",
       "    .progress-bar-interrupted, .progress-bar-interrupted::-webkit-progress-bar {\n",
       "        background: #F44336;\n",
       "    }\n",
       "</style>\n"
      ],
      "text/plain": [
       "<IPython.core.display.HTML object>"
      ]
     },
     "metadata": {},
     "output_type": "display_data"
    },
    {
     "data": {
      "text/html": [
       "\n",
       "    <div>\n",
       "      <progress value='9510' class='' max='43000' style='width:300px; height:20px; vertical-align: middle;'></progress>\n",
       "      22.12% [9510/43000 10:31<37:05 Sampling 4 chains, 5,194 divergences]\n",
       "    </div>\n",
       "    "
      ],
      "text/plain": [
       "<IPython.core.display.HTML object>"
      ]
     },
     "metadata": {},
     "output_type": "display_data"
    },
    {
     "name": "stderr",
     "output_type": "stream",
     "text": [
      "IOPub message rate exceeded.\n",
      "The notebook server will temporarily stop sending output\n",
      "to the client in order to avoid crashing it.\n",
      "To change this limit, set the config variable\n",
      "`--NotebookApp.iopub_msg_rate_limit`.\n",
      "\n",
      "Current values:\n",
      "NotebookApp.iopub_msg_rate_limit=1000.0 (msgs/sec)\n",
      "NotebookApp.rate_limit_window=3.0 (secs)\n",
      "\n"
     ]
    }
   ],
   "source": [
    "for config in train_hist_dict:\n",
    "    if config in bh_res:\n",
    "        continue\n",
    "    print(config)\n",
    "    ks = train_hist_dict[config]\n",
    "    trace = bayes_heir_samp(ks)\n",
    "    theta, sigma_b, sigma_y = bayes_trace_sum(trace)\n",
    "    bh_res[config] = theta, sigma_b, sigma_y\n",
    "    fig, ax = plt.subplots(1,2, figsize=(20,10))\n",
    "    plot_sigma(sigma_b, ax=ax[0])\n",
    "    ax[0].set_title(\"Between-group Covariance\")\n",
    "    plot_sigma(sigma_y, ax=ax[1])\n",
    "    ax[1].set_title(\"Within-group Covariance\")\n",
    "    fig.suptitle(config)\n",
    "    fig.savefig(f\"{config}-bayes-cov.pdf\")"
   ]
  },
  {
   "cell_type": "code",
   "execution_count": 11,
   "id": "b8700d78",
   "metadata": {},
   "outputs": [
    {
     "data": {
      "text/plain": [
       "<Figure size 432x288 with 0 Axes>"
      ]
     },
     "metadata": {},
     "output_type": "display_data"
    },
    {
     "data": {
      "image/png": "[encoded data removed]",
      "text/plain": [
       "<Figure size 576x1152 with 8 Axes>"
      ]
     },
     "metadata": {
      "needs_background": "light"
     },
     "output_type": "display_data"
    }
   ],
   "source": [
    "plt.clf()\n",
    "fig, axs = plt.subplots(len(res)//2, 2, figsize=(8, 4*len(res)//2))\n",
    "i = 0\n",
    "j = 0\n",
    "for config in res:\n",
    "    mu = bh_res[config][0]\n",
    "    ax = axs[i,j]\n",
    "    plot_mean(mu, ax)\n",
    "    ax.spines['top'].set_visible(False)\n",
    "    ax.spines['right'].set_visible(False)\n",
    "    if j==1:\n",
    "        j=0; i+=1\n",
    "    else:\n",
    "        ax.set_ylabel(' '.join(config.split('-')[:-1]))\n",
    "        j+=1"
   ]
  },
  {
   "cell_type": "code",
   "execution_count": null,
   "id": "1dba60c7",
   "metadata": {},
   "outputs": [],
   "source": []
  }
 ],
 "metadata": {
  "kernelspec": {
   "display_name": "Python 3",
   "language": "python",
   "name": "python3"
  },
  "language_info": {
   "codemirror_mode": {
    "name": "ipython",
    "version": 3
   },
   "file_extension": ".py",
   "mimetype": "text/x-python",
   "name": "python",
   "nbconvert_exporter": "python",
   "pygments_lexer": "ipython3",
   "version": "3.7.9"
  }
 },
 "nbformat": 4,
 "nbformat_minor": 5
}
