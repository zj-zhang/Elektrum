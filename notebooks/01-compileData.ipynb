{
 "cells": [
  {
   "cell_type": "code",
   "execution_count": 1,
   "id": "7039c060",
   "metadata": {},
   "outputs": [
    {
     "name": "stdout",
     "output_type": "stream",
     "text": [
      "/mnt/ceph/users/zzhang/CRISPR_pred/crispr_kinn\n"
     ]
    }
   ],
   "source": [
    "%cd /mnt/home/zzhang/ceph/CRISPR_pred/crispr_kinn"
   ]
  },
  {
   "cell_type": "code",
   "execution_count": 2,
   "id": "df7f78c8",
   "metadata": {},
   "outputs": [
    {
     "name": "stderr",
     "output_type": "stream",
     "text": [
      "/mnt/home/zzhang/anaconda3/envs/crispr/lib/python3.7/site-packages/pandas/compat/_optional.py:138: UserWarning: Pandas requires version '2.7.0' or newer of 'numexpr' (version '2.6.8' currently installed).\n",
      "  warnings.warn(msg, UserWarning)\n"
     ]
    }
   ],
   "source": [
    "import numpy as np\n",
    "import pandas as pd\n",
    "from Bio import pairwise2\n",
    "from Bio.Seq import Seq\n",
    "from sklearn.preprocessing import scale"
   ]
  },
  {
   "cell_type": "code",
   "execution_count": 3,
   "id": "0bc97063",
   "metadata": {},
   "outputs": [
    {
     "data": {
      "text/plain": [
       "{('A', 'A'): 0,\n",
       " ('C', 'C'): 1,\n",
       " ('G', 'G'): 2,\n",
       " ('T', 'T'): 3,\n",
       " ('A', 'C'): (0, 5),\n",
       " ('A', 'G'): (0, 6),\n",
       " ('A', 'T'): (0, 7),\n",
       " ('C', 'A'): (1, 4),\n",
       " ('C', 'G'): (1, 6),\n",
       " ('C', 'T'): (1, 7),\n",
       " ('G', 'A'): (2, 4),\n",
       " ('G', 'C'): (2, 5),\n",
       " ('G', 'T'): (2, 7),\n",
       " ('T', 'A'): (3, 4),\n",
       " ('T', 'C'): (3, 5),\n",
       " ('T', 'G'): (3, 6),\n",
       " ('-', 'A'): 8,\n",
       " ('-', 'C'): 9,\n",
       " ('-', 'G'): 10,\n",
       " ('-', 'T'): 11,\n",
       " ('A', '-'): (0, 12),\n",
       " ('C', '-'): (1, 12),\n",
       " ('G', '-'): (2, 12),\n",
       " ('T', '-'): (3, 12)}"
      ]
     },
     "execution_count": 3,
     "metadata": {},
     "output_type": "execute_result"
    }
   ],
   "source": [
    "# pre-defined letter index\n",
    "# match : 4 letters, 0-3\n",
    "ltidx = {(x,x):i for i,x in enumerate('ACGT')}\n",
    "# substitution : x->y, 4-7\n",
    "ltidx.update({(x,y):(ltidx[(x,x)], i+4) for x in 'ACGT' for i, y in enumerate('ACGT') if y!=x })\n",
    "# insertion : NA->y, 8-11\n",
    "ltidx.update({('-', x):i+8 for i,x in enumerate('ACGT')})\n",
    "# deletion : x->NA, 12\n",
    "ltidx.update({(x,'-'):(ltidx[(x,x)], 12) for i,x in enumerate('ACGT')})\n",
    "ltidx"
   ]
  },
  {
   "cell_type": "code",
   "execution_count": 4,
   "id": "fb69a1bf",
   "metadata": {},
   "outputs": [],
   "source": [
    "def make_alignment(df, maxlen=25):\n",
    "    ref = Seq(df.iloc[0]['sequence'])\n",
    "    ref = ref[::-1]\n",
    "    alignments = []\n",
    "    for seq in df['sequence']:\n",
    "        alt = Seq(seq)\n",
    "        alt = alt[::-1]\n",
    "        # m: A match score is the score of identical chars, otherwise mismatch score\n",
    "        # d: The sequences have different open and extend gap penalties.\n",
    "        aln = pairwise2.align.localxd(ref, alt, -1, -0.1, -1, 0)\n",
    "        if len(aln[0][0]) > maxlen: # increase gap open penalty to avoid too many gaps\n",
    "            aln = pairwise2.align.localxd(ref, alt, -5, -0.1, -5, 0)\n",
    "            if len(aln[0][0]) > maxlen:\n",
    "                aln = [(ref, alt)]\n",
    "        alignments.append(aln[0])\n",
    "    return alignments\n",
    "\n",
    "\n",
    "def featurize_alignment(alignments, maxlen=25):\n",
    "    mats = []\n",
    "    for j, aln in enumerate(alignments):\n",
    "        fea = np.zeros((maxlen, 13))\n",
    "        assert len(aln[0]) <= maxlen, \"alignment {} larger than maxlen: {}\".format(j, aln)\n",
    "        for i in range(len(aln[0])):\n",
    "            k = (aln[0][i], aln[1][i])\n",
    "            fea[i, ltidx[k]] = 1\n",
    "        mats.append(fea)\n",
    "    return mats\n"
   ]
  },
  {
   "cell_type": "code",
   "execution_count": 6,
   "id": "2a0b3a2a",
   "metadata": {},
   "outputs": [
    {
     "name": "stdout",
     "output_type": "stream",
     "text": [
      "df1 (6988, 18)\n",
      "df2 (6988, 18)\n"
     ]
    }
   ],
   "source": [
    "# read\n",
    "df1 = pd.read_csv(\"./data/sgRNA_1.csv\")\n",
    "df2 = pd.read_csv(\"./data/sgRNA_2.csv\")\n",
    "df1 = df1.dropna()\n",
    "df2 = df2.dropna()\n",
    "\n",
    "print(\"df1\", df1.shape)\n",
    "print(\"df2\", df1.shape)\n",
    "\n",
    "label_cols = ['wtCas9_ndABA', 'wtCas9_cleave_rate_log',\n",
    "        'Cas9_enh_ndABA', 'Cas9_enh_cleave_rate_log',\n",
    "        'Cas9_hypa_ndABA', 'Cas9_hypa_cleave_rate_log',\n",
    "        'Cas9_HF1_ndABA', 'Cas9_HF1_cleave_rate_log',\n",
    "        ]\n",
    "\n",
    "# convert\n",
    "mats1 = featurize_alignment(make_alignment(df1))\n",
    "mats2 = featurize_alignment(make_alignment(df2))\n",
    "label1 = df1[label_cols].to_numpy()\n",
    "label2 = df2[label_cols].to_numpy()\n",
    "\n",
    "mats = np.concatenate([np.array(mats1), np.array(mats2)])\n",
    "labels = np.concatenate([label1, label2])\n",
    "\n",
    "# save\n",
    "np.save(\"data/compiled_X.npy\", mats)\n",
    "np.save(\"data/compiled_Y.npy\", labels)\n",
    "with open(\"data/x_col_annot.txt\", 'w') as f:\n",
    "    f.write(\"\\n\".join([str(x) for x in ltidx]))\n",
    "\n",
    "with open(\"data/y_col_annot.txt\", 'w') as f:\n",
    "    f.write(\"\\n\".join(label_cols))\n",
    "                                    "
   ]
  },
  {
   "cell_type": "code",
   "execution_count": null,
   "id": "0367e875",
   "metadata": {},
   "outputs": [],
   "source": []
  }
 ],
 "metadata": {
  "kernelspec": {
   "display_name": "Python 3",
   "language": "python",
   "name": "python3"
  },
  "language_info": {
   "codemirror_mode": {
    "name": "ipython",
    "version": 3
   },
   "file_extension": ".py",
   "mimetype": "text/x-python",
   "name": "python",
   "nbconvert_exporter": "python",
   "pygments_lexer": "ipython3",
   "version": "3.7.7"
  }
 },
 "nbformat": 4,
 "nbformat_minor": 5
}
