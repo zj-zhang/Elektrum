{
 "cells": [
  {
   "cell_type": "code",
   "execution_count": 1,
   "id": "39f5a7b7",
   "metadata": {},
   "outputs": [
    {
     "name": "stdout",
     "output_type": "stream",
     "text": [
      "/common/zhangz2/workspace/Elektrum\n"
     ]
    }
   ],
   "source": [
    "%cd .."
   ]
  },
  {
   "cell_type": "code",
   "execution_count": 2,
   "id": "3bfadecd",
   "metadata": {},
   "outputs": [
    {
     "name": "stderr",
     "output_type": "stream",
     "text": [
      "Using TensorFlow backend.\n"
     ]
    }
   ],
   "source": [
    "import numpy as np\n",
    "import pandas as pd\n",
    "from tqdm import tqdm\n",
    "import seaborn as sns\n",
    "import matplotlib.pyplot as plt\n",
    "import src\n",
    "import amber"
   ]
  },
  {
   "cell_type": "code",
   "execution_count": 3,
   "id": "d6d6269d",
   "metadata": {},
   "outputs": [],
   "source": [
    "data_dir = \"outputs/2022-05-30/\"\n",
    "states = [4, 5, 6]\n",
    "res = []\n",
    "for s in states:\n",
    "    for rep in range(1, 4):\n",
    "        for i in [1,2]:\n",
    "            fp = f\"{data_dir}/KINN-wtCas9_cleave_rate_log-uniform-{s}-rep{rep}-gRNA{i}/train_history.tsv\"\n",
    "            df = pd.read_table(fp)\n",
    "            res.append({'state':s, 'gRNA':i, 'rep':rep, 'best_reward': df['test_reward'].max()})"
   ]
  },
  {
   "cell_type": "code",
   "execution_count": 4,
   "id": "e5a0dd86",
   "metadata": {},
   "outputs": [],
   "source": [
    "df = pd.DataFrame(res)"
   ]
  },
  {
   "cell_type": "code",
   "execution_count": 5,
   "id": "6aa5bfcf",
   "metadata": {},
   "outputs": [
    {
     "data": {
      "text/html": [
       "<div>\n",
       "<style scoped>\n",
       "    .dataframe tbody tr th:only-of-type {\n",
       "        vertical-align: middle;\n",
       "    }\n",
       "\n",
       "    .dataframe tbody tr th {\n",
       "        vertical-align: top;\n",
       "    }\n",
       "\n",
       "    .dataframe thead th {\n",
       "        text-align: right;\n",
       "    }\n",
       "</style>\n",
       "<table border=\"1\" class=\"dataframe\">\n",
       "  <thead>\n",
       "    <tr style=\"text-align: right;\">\n",
       "      <th></th>\n",
       "      <th>state</th>\n",
       "      <th>gRNA1_mean</th>\n",
       "      <th>gRNA1_std</th>\n",
       "      <th>gRNA2_mean</th>\n",
       "      <th>gRNA2_std</th>\n",
       "    </tr>\n",
       "  </thead>\n",
       "  <tbody>\n",
       "    <tr>\n",
       "      <th>0</th>\n",
       "      <td>4</td>\n",
       "      <td>0.848</td>\n",
       "      <td>0.007</td>\n",
       "      <td>0.840</td>\n",
       "      <td>0.007</td>\n",
       "    </tr>\n",
       "    <tr>\n",
       "      <th>1</th>\n",
       "      <td>5</td>\n",
       "      <td>0.855</td>\n",
       "      <td>0.004</td>\n",
       "      <td>0.849</td>\n",
       "      <td>0.006</td>\n",
       "    </tr>\n",
       "    <tr>\n",
       "      <th>2</th>\n",
       "      <td>6</td>\n",
       "      <td>0.861</td>\n",
       "      <td>0.002</td>\n",
       "      <td>0.850</td>\n",
       "      <td>0.001</td>\n",
       "    </tr>\n",
       "  </tbody>\n",
       "</table>\n",
       "</div>"
      ],
      "text/plain": [
       "   state  gRNA1_mean  gRNA1_std  gRNA2_mean  gRNA2_std\n",
       "0      4       0.848      0.007       0.840      0.007\n",
       "1      5       0.855      0.004       0.849      0.006\n",
       "2      6       0.861      0.002       0.850      0.001"
      ]
     },
     "execution_count": 5,
     "metadata": {},
     "output_type": "execute_result"
    }
   ],
   "source": [
    "pd.DataFrame([\n",
    "    {'state':state, \n",
    "     'gRNA1_mean': dff.query('gRNA==1')['best_reward'].mean(),\n",
    "     'gRNA1_std': dff.query('gRNA==1')['best_reward'].std(),\n",
    "     'gRNA2_mean': dff.query('gRNA==2')['best_reward'].mean(),\n",
    "     'gRNA2_std': dff.query('gRNA==2')['best_reward'].std(),\n",
    "    } \n",
    "    for state, dff in df.groupby('state')]).round(3)"
   ]
  },
  {
   "cell_type": "code",
   "execution_count": 6,
   "id": "ed8dc532",
   "metadata": {},
   "outputs": [
    {
     "name": "stdout",
     "output_type": "stream",
     "text": [
      "Last updated: Tue May 16 2023\n",
      "\n",
      "Python implementation: CPython\n",
      "Python version       : 3.7.13\n",
      "IPython version      : 7.33.0\n",
      "\n",
      "pandas    : 1.2.4\n",
      "seaborn   : 0.11.2\n",
      "numpy     : 1.18.5\n",
      "amber     : 0.1.3\n",
      "src       : 0.0.3\n",
      "matplotlib: 3.5.1\n",
      "\n",
      "Watermark: 2.3.1\n",
      "\n"
     ]
    }
   ],
   "source": [
    "%load_ext watermark\n",
    "%watermark -n -u -v -iv -w"
   ]
  },
  {
   "cell_type": "code",
   "execution_count": null,
   "id": "a9c547e0",
   "metadata": {},
   "outputs": [],
   "source": []
  }
 ],
 "metadata": {
  "kernelspec": {
   "display_name": "Python 3 (ipykernel)",
   "language": "python",
   "name": "python3"
  },
  "language_info": {
   "codemirror_mode": {
    "name": "ipython",
    "version": 3
   },
   "file_extension": ".py",
   "mimetype": "text/x-python",
   "name": "python",
   "nbconvert_exporter": "python",
   "pygments_lexer": "ipython3",
   "version": "3.7.13"
  }
 },
 "nbformat": 4,
 "nbformat_minor": 5
}
