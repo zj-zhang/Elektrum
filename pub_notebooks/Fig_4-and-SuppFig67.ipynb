{
 "cells": [
  {
   "cell_type": "markdown",
   "id": "cbb90fff",
   "metadata": {},
   "source": [
    "# Analysis figures for Transfer Learning model\n",
    "\n",
    "\n"
   ]
  },
  {
   "cell_type": "markdown",
   "id": "0d7f4e22",
   "metadata": {},
   "source": [
    "The transfer learning model is a black-box CNN with inception, bidirectional, attention operators. \n",
    "\n",
    "Outputs from the CNN backbone is a vector, which is then linear-transformed to the same length of KINN intermediate rates, then added to the base rates as modifiers from sequence contexts.\n",
    "\n",
    "$\\delta_s =  f_{CNN}(seq) \\cdot W +b$\n",
    "\n",
    "$k = f_{KINN}(diff)$\n",
    "\n",
    "$\\hat{k} = k + \\delta_s$\n",
    "\n",
    "\n",
    "$\\hat{k}_{eff} = KingAltman(\\hat{k})$\n",
    "\n",
    "$k_{eff} = KingAltman(k)$\n",
    "\n",
    "Its effect, $\\delta_s$, to the final model output $\\hat{k}_{eff}$ is conditional on the base KINN intermediate kinetic rates $k$.\n",
    "\n",
    "Therefore, it makes more sense to analyze the intermediate rate modifiers $\\delta_s$, as outputed by CNN backbone, instead of the final KINN outputs $\\hat{k}_{eff}$, and when $\\delta_s$ is big enough such that $|\\hat{k}_{eff} - k_{eff}| > \\epsilon$.\n"
   ]
  },
  {
   "cell_type": "code",
   "execution_count": 1,
   "id": "06c0d407",
   "metadata": {},
   "outputs": [
    {
     "name": "stdout",
     "output_type": "stream",
     "text": [
      "/mnt/ceph/users/zzhang/CRISPR_pred/crispr_kinn\n"
     ]
    }
   ],
   "source": [
    "%cd .."
   ]
  },
  {
   "cell_type": "code",
   "execution_count": 2,
   "id": "c9b5b97b",
   "metadata": {},
   "outputs": [
    {
     "name": "stderr",
     "output_type": "stream",
     "text": [
      "Using TensorFlow backend.\n"
     ]
    }
   ],
   "source": [
    "import tensorflow as tf\n",
    "import shap\n",
    "import h5py\n",
    "import numpy as np\n",
    "import pandas as pd\n",
    "import os\n",
    "import scipy.stats as ss\n",
    "import src\n",
    "from src.transfer_learn import KinnLayer, amber_app\n",
    "from src.reload import reload_from_dir\n",
    "import matplotlib.pyplot as plt\n",
    "import seaborn as sns\n",
    "import pickle\n",
    "from collections import defaultdict\n",
    "from tqdm.notebook import tqdm\n",
    "%matplotlib inline"
   ]
  },
  {
   "cell_type": "code",
   "execution_count": 3,
   "id": "0ee1800d",
   "metadata": {},
   "outputs": [
    {
     "name": "stdout",
     "output_type": "stream",
     "text": [
      "BUILDING\n",
      "----------\n"
     ]
    },
    {
     "name": "stderr",
     "output_type": "stream",
     "text": [
      "2023-10-18 02:02:34,376 - AMBER - INFO -\n",
      " time budget set to: 72:00:00\n"
     ]
    },
    {
     "name": "stdout",
     "output_type": "stream",
     "text": [
      "controller = GeneralController\n",
      "modeler = <class 'src.transfer_learn.TransferKinnModelBuilder'>\n",
      "knowledge = zero\n",
      "reward = LossAucReward\n",
      "manager = GeneralManager\n",
      "env_type = ControllerTrainEnv\n"
     ]
    }
   ],
   "source": [
    "if os.path.isdir(\"weights\"):\n",
    "    os.rmdir(\"weights\")\n",
    "amb = amber_app(wd=\".\", run=False)\n",
    "# clean up folders created by trainEnv\n",
    "os.rmdir(\"weights\")"
   ]
  },
  {
   "cell_type": "code",
   "execution_count": 4,
   "id": "000b38af",
   "metadata": {},
   "outputs": [
    {
     "data": {
      "text/html": [
       "<div>\n",
       "<style scoped>\n",
       "    .dataframe tbody tr th:only-of-type {\n",
       "        vertical-align: middle;\n",
       "    }\n",
       "\n",
       "    .dataframe tbody tr th {\n",
       "        vertical-align: top;\n",
       "    }\n",
       "\n",
       "    .dataframe thead th {\n",
       "        text-align: right;\n",
       "    }\n",
       "</style>\n",
       "<table border=\"1\" class=\"dataframe\">\n",
       "  <thead>\n",
       "    <tr style=\"text-align: right;\">\n",
       "      <th></th>\n",
       "      <th>Kleinsitver</th>\n",
       "      <th>Listgarten</th>\n",
       "      <th>Listgarten_Indel</th>\n",
       "      <th>Valid</th>\n",
       "      <th>step</th>\n",
       "      <th>n_models</th>\n",
       "      <th>indv_perform</th>\n",
       "      <th>arc</th>\n",
       "      <th>trial</th>\n",
       "      <th>wd</th>\n",
       "    </tr>\n",
       "  </thead>\n",
       "  <tbody>\n",
       "    <tr>\n",
       "      <th>0</th>\n",
       "      <td>0.188933</td>\n",
       "      <td>0.140707</td>\n",
       "      <td>0.208201</td>\n",
       "      <td>0.437008</td>\n",
       "      <td>0</td>\n",
       "      <td>1</td>\n",
       "      <td>[0.189, 0.141, 0.208]</td>\n",
       "      <td>[0, 1, 5, 0, 0, 0, 1]</td>\n",
       "      <td>480</td>\n",
       "      <td>outputs/2022-11-01/TL_5</td>\n",
       "    </tr>\n",
       "    <tr>\n",
       "      <th>1</th>\n",
       "      <td>0.324715</td>\n",
       "      <td>0.195480</td>\n",
       "      <td>0.278344</td>\n",
       "      <td>0.439494</td>\n",
       "      <td>1</td>\n",
       "      <td>2</td>\n",
       "      <td>[0.287, 0.188, 0.304]</td>\n",
       "      <td>[0, 2, 5, 0, 0, 0, 5]</td>\n",
       "      <td>494</td>\n",
       "      <td>outputs/2022-11-01/TL_3</td>\n",
       "    </tr>\n",
       "    <tr>\n",
       "      <th>2</th>\n",
       "      <td>0.316479</td>\n",
       "      <td>0.228706</td>\n",
       "      <td>0.352824</td>\n",
       "      <td>0.442244</td>\n",
       "      <td>2</td>\n",
       "      <td>3</td>\n",
       "      <td>[0.242, 0.122, 0.247]</td>\n",
       "      <td>[1, 1, 5, 1, 1, 0, 5]</td>\n",
       "      <td>484</td>\n",
       "      <td>outputs/2022-11-01/TL_2</td>\n",
       "    </tr>\n",
       "    <tr>\n",
       "      <th>3</th>\n",
       "      <td>0.325627</td>\n",
       "      <td>0.222703</td>\n",
       "      <td>0.301412</td>\n",
       "      <td>0.442706</td>\n",
       "      <td>3</td>\n",
       "      <td>4</td>\n",
       "      <td>[0.225, 0.127, 0.146]</td>\n",
       "      <td>[1, 2, 5, 0, 1, 0, 1]</td>\n",
       "      <td>494</td>\n",
       "      <td>outputs/2022-11-01/TL_1</td>\n",
       "    </tr>\n",
       "    <tr>\n",
       "      <th>4</th>\n",
       "      <td>0.364205</td>\n",
       "      <td>0.261566</td>\n",
       "      <td>0.324285</td>\n",
       "      <td>0.445176</td>\n",
       "      <td>4</td>\n",
       "      <td>5</td>\n",
       "      <td>[0.186, 0.119, 0.171]</td>\n",
       "      <td>[0, 1, 1, 2, 1, 0, 3]</td>\n",
       "      <td>481</td>\n",
       "      <td>outputs/2022-11-01/TL_4</td>\n",
       "    </tr>\n",
       "  </tbody>\n",
       "</table>\n",
       "</div>"
      ],
      "text/plain": [
       "   Kleinsitver  Listgarten  Listgarten_Indel     Valid  step  n_models  \\\n",
       "0     0.188933    0.140707          0.208201  0.437008     0         1   \n",
       "1     0.324715    0.195480          0.278344  0.439494     1         2   \n",
       "2     0.316479    0.228706          0.352824  0.442244     2         3   \n",
       "3     0.325627    0.222703          0.301412  0.442706     3         4   \n",
       "4     0.364205    0.261566          0.324285  0.445176     4         5   \n",
       "\n",
       "            indv_perform                    arc  trial  \\\n",
       "0  [0.189, 0.141, 0.208]  [0, 1, 5, 0, 0, 0, 1]    480   \n",
       "1  [0.287, 0.188, 0.304]  [0, 2, 5, 0, 0, 0, 5]    494   \n",
       "2  [0.242, 0.122, 0.247]  [1, 1, 5, 1, 1, 0, 5]    484   \n",
       "3  [0.225, 0.127, 0.146]  [1, 2, 5, 0, 1, 0, 1]    494   \n",
       "4  [0.186, 0.119, 0.171]  [0, 1, 1, 2, 1, 0, 3]    481   \n",
       "\n",
       "                        wd  \n",
       "0  outputs/2022-11-01/TL_5  \n",
       "1  outputs/2022-11-01/TL_3  \n",
       "2  outputs/2022-11-01/TL_2  \n",
       "3  outputs/2022-11-01/TL_1  \n",
       "4  outputs/2022-11-01/TL_4  "
      ]
     },
     "execution_count": 4,
     "metadata": {},
     "output_type": "execute_result"
    }
   ],
   "source": [
    "# I'll make this hard-coded for now for faster reproducibility\n",
    "# for how this table is generated, see `11-TL_model_analysis-Valid_v_Test.ipynb`\n",
    "benchmark_df = pd.read_table(\"./outputs/analysis/transfer_learn.incremental_benchmark.tsv\")\n",
    "benchmark_df"
   ]
  },
  {
   "cell_type": "code",
   "execution_count": 5,
   "id": "45536a0b",
   "metadata": {},
   "outputs": [
    {
     "data": {
      "application/vnd.jupyter.widget-view+json": {
       "model_id": "35b47efa79804133b82d97ad3ad3ac49",
       "version_major": 2,
       "version_minor": 0
      },
      "text/plain": [
       "  0%|          | 0/5 [00:00<?, ?it/s]"
      ]
     },
     "metadata": {},
     "output_type": "display_data"
    }
   ],
   "source": [
    "# load models\n",
    "model_ensemble = []\n",
    "for _, row in tqdm(benchmark_df.iterrows(), total=len(benchmark_df)):\n",
    "    arc_seq = eval(row['arc'])\n",
    "    target_wd = row['wd']\n",
    "    best_trial_id = row['trial'] \n",
    "    #print(type(arc_seq))\n",
    "    model = amb.model_fn(arc_seq)\n",
    "    model.load_weights(os.path.join(target_wd, \"weights\", \"trial_%i\"%best_trial_id, \"bestmodel.h5\"))\n",
    "    model_ensemble.append(model)"
   ]
  },
  {
   "cell_type": "code",
   "execution_count": 6,
   "id": "2e6b1724",
   "metadata": {},
   "outputs": [],
   "source": [
    "# load data\n",
    "with h5py.File(\"./data/inVivoData.newValidSplit.h5\", \"r\") as store:\n",
    "    t1 = store[\"test/Kleinsitver_mut/x\"][()], store[\"test/Kleinsitver_mut/y\"][()]\n",
    "    t2 = store[\"test/Listgarten_mut/x\"][()], store[\"test/Listgarten_mut/y\"][()]\n",
    "    t3 = store[\"test/Listgarten_indel/x\"][()], store[\"test/Listgarten_indel/y\"][()]\n",
    "    valid_data = store[\"valid/x\"][()], store[\"valid/y\"][()]\n",
    "    kin_data = store[\"kinetic/x\"][()], store[\"kinetic/y\"][()], store[\"kinetic/k\"][()]\n",
    "\n",
    "data_cache = {\n",
    "    'kleinsitver': t1,\n",
    "    'listgarten': t2,\n",
    "    'listgarten_indel': t3,\n",
    "    'valid': valid_data,\n",
    "    'kinetic': kin_data\n",
    "}"
   ]
  },
  {
   "cell_type": "code",
   "execution_count": 7,
   "id": "696143a4",
   "metadata": {},
   "outputs": [
    {
     "name": "stdout",
     "output_type": "stream",
     "text": [
      "trainable_count=154148.6+-76159.71739863534\n"
     ]
    }
   ],
   "source": [
    "# reproduce revised MS number\n",
    "from keras import backend as K\n",
    "trainable_count = [int(\n",
    "    np.sum([K.count_params(p) for p in set(model_ensemble[i].trainable_weights)])) for i in range(5)]\n",
    "print(f\"trainable_count={np.mean(trainable_count)}+-{np.std(trainable_count)}\")"
   ]
  },
  {
   "cell_type": "code",
   "execution_count": 8,
   "id": "c5d0fcd6",
   "metadata": {},
   "outputs": [],
   "source": [
    "y_pred = model_ensemble[-1].predict(t1[0], batch_size=25000)"
   ]
  },
  {
   "cell_type": "code",
   "execution_count": 9,
   "id": "60f0326b",
   "metadata": {},
   "outputs": [],
   "source": [
    "y_pred2 = model_ensemble[0].predict(t1[0], batch_size=25000)"
   ]
  },
  {
   "cell_type": "code",
   "execution_count": 10,
   "id": "fb1fe795",
   "metadata": {},
   "outputs": [
    {
     "data": {
      "text/plain": [
       "SpearmanrResult(correlation=0.5627547085164157, pvalue=0.0)"
      ]
     },
     "execution_count": 10,
     "metadata": {},
     "output_type": "execute_result"
    }
   ],
   "source": [
    "ss.spearmanr(y_pred, y_pred2)"
   ]
  },
  {
   "cell_type": "code",
   "execution_count": 11,
   "id": "da4a3947",
   "metadata": {},
   "outputs": [],
   "source": [
    "model = model_ensemble[0]"
   ]
  },
  {
   "cell_type": "code",
   "execution_count": 12,
   "id": "1674f8ae",
   "metadata": {},
   "outputs": [],
   "source": [
    "# get each model's intermediate layer results\n",
    "def get_intermediate_kinetic_model(model, include_kinn=True):\n",
    "    layer_dict = {l.name:l for l in model.layers}\n",
    "    k_layer_name = [x for x in layer_dict if x.startswith(\"kinn_\")][0]\n",
    "    # kinetic model: get intermediate outputs, e.g. predicted cleavage rate, seq delta, etc.\n",
    "    kinetic_model = tf.keras.models.Model(\n",
    "        inputs = model.inputs,\n",
    "        outputs = [layer_dict[k_layer_name].output, layer_dict[k_layer_name].lin_transform.output] if include_kinn \\\n",
    "        else layer_dict[k_layer_name].lin_transform.output\n",
    "    )\n",
    "    return kinetic_model\n",
    "\n",
    "def get_model_intermediate_outs(model, data):\n",
    "    layer_dict = {l.name:l for l in model.layers}\n",
    "    k_layer_name = [x for x in layer_dict if x.startswith(\"kinn_\")][0]\n",
    "    kinetic_model = get_intermediate_kinetic_model(model)\n",
    "    # old_pred_ks: base KINN intermediate rates\n",
    "    old_pred_ks = layer_dict[k_layer_name].kinn_header.predict(layer_dict[k_layer_name].mb.blockify_seq_ohe(data[:, :, 4:]))\n",
    "    # pred_k: new cleavage rate\n",
    "    # delta_seq: sequence delta\n",
    "    pred_k, delta_seq = kinetic_model.predict(data)\n",
    "    sess = tf.keras.backend.get_session()\n",
    "    # old_pred_k: old cleavage_rate\n",
    "    old_pred_k = sess.run(layer_dict[k_layer_name].kinn_body(old_pred_ks)).flatten()\n",
    "    return {\n",
    "        \"old_ks\": old_pred_ks,\n",
    "        \"old_clv\": old_pred_k,\n",
    "        \"delta_seq\": delta_seq,\n",
    "        \"new_ks\": old_pred_ks + delta_seq,\n",
    "        \"new_clv\": pred_k.flatten(),\n",
    "    }\n"
   ]
  },
  {
   "cell_type": "code",
   "execution_count": 13,
   "id": "f0d206b8",
   "metadata": {},
   "outputs": [],
   "source": [
    "reload_res_from_disk = True\n",
    "if reload_res_from_disk and os.path.isfile(\"./outputs/analysis/transfer_learning.model_intermediate.pkl\"):\n",
    "    with open(\"./outputs/analysis/transfer_learning.model_intermediate.pkl\", \"rb\") as f:\n",
    "        res = pickle.load(f)\n",
    "else:\n",
    "    res = {}\n",
    "    for model_id in range(len(model_ensemble)):\n",
    "        for data_id in data_cache:\n",
    "            print(model_id, data_id)\n",
    "            tmp = get_model_intermediate_outs(model=model_ensemble[model_id], data=data_cache[data_id][0])\n",
    "            res[(model_id, data_id)] = tmp\n",
    "\n",
    "    with open(\"./outputs/analysis/transfer_learning.model_intermediate.pkl\", \"wb\") as f:\n",
    "        pickle.dump(res, f)"
   ]
  },
  {
   "cell_type": "code",
   "execution_count": 14,
   "id": "43d5a510",
   "metadata": {},
   "outputs": [
    {
     "name": "stderr",
     "output_type": "stream",
     "text": [
      "findfont: Font family ['serif'] not found. Falling back to DejaVu Sans.\n",
      "findfont: Generic family 'serif' not found because none of the following families were found: Times New Roman\n"
     ]
    },
    {
     "data": {
      "image/png": "[encoded data removed]",
      "text/plain": [
       "<Figure size 576x360 with 1 Axes>"
      ]
     },
     "metadata": {
      "needs_background": "light"
     },
     "output_type": "display_data"
    },
    {
     "data": {
      "image/png": "[encoded data removed]",
      "text/plain": [
       "<Figure size 576x360 with 1 Axes>"
      ]
     },
     "metadata": {
      "needs_background": "light"
     },
     "output_type": "display_data"
    },
    {
     "data": {
      "image/png": "[encoded data removed]",
      "text/plain": [
       "<Figure size 576x360 with 1 Axes>"
      ]
     },
     "metadata": {
      "needs_background": "light"
     },
     "output_type": "display_data"
    }
   ],
   "source": [
    "dfs = {}\n",
    "for data_id in ['kleinsitver', 'listgarten', 'listgarten_indel']:\n",
    "    in_vitro_clv = []\n",
    "    in_vivo_clv = []\n",
    "    for model_id in range(5):\n",
    "        tmp = res[(model_id, data_id)]\n",
    "        in_vitro_clv.append(tmp['old_clv'])\n",
    "        in_vivo_clv.append(tmp['new_clv'])\n",
    "    df = pd.DataFrame({\n",
    "        'in_vitro_clv': np.array(in_vitro_clv).mean(axis=0), \n",
    "        'in_vivo_clv': np.array(in_vivo_clv).mean(axis=0)})\n",
    "    df['in_vitro_clv_bin'] = pd.cut(df['in_vitro_clv'], [-7.1] + np.arange(-6.5, -1, 0.5).tolist())\n",
    "    dfs[data_id] = df\n",
    "    fig, ax = plt.subplots(1,1,figsize=(8,5))\n",
    "    sns.boxplot(x='in_vitro_clv_bin', y='in_vivo_clv', data=df, ax=ax)\n",
    "    _ = ax.set_xticklabels(np.arange(-6.5, -1, 0.5).tolist())\n",
    "    ax.set_title(data_id)\n",
    "    ax.set_xlabel('In Vitro predicted cleavage')\n",
    "    ax.set_ylabel('In Vivo predicted cleavage')\n",
    "    # save to source_data\n",
    "    df.to_csv(f'source_data/Fig4_{data_id}.csv', )"
   ]
  },
  {
   "cell_type": "code",
   "execution_count": 15,
   "id": "83b0b519",
   "metadata": {},
   "outputs": [
    {
     "data": {
      "text/html": [
       "<div>\n",
       "<style scoped>\n",
       "    .dataframe tbody tr th:only-of-type {\n",
       "        vertical-align: middle;\n",
       "    }\n",
       "\n",
       "    .dataframe tbody tr th {\n",
       "        vertical-align: top;\n",
       "    }\n",
       "\n",
       "    .dataframe thead th {\n",
       "        text-align: right;\n",
       "    }\n",
       "</style>\n",
       "<table border=\"1\" class=\"dataframe\">\n",
       "  <thead>\n",
       "    <tr style=\"text-align: right;\">\n",
       "      <th></th>\n",
       "      <th>in_vitro_clv</th>\n",
       "      <th>in_vivo_clv</th>\n",
       "      <th>in_vitro_clv_bin</th>\n",
       "      <th>y_obs</th>\n",
       "    </tr>\n",
       "  </thead>\n",
       "  <tbody>\n",
       "    <tr>\n",
       "      <th>95789</th>\n",
       "      <td>-5.553682</td>\n",
       "      <td>-1.763735</td>\n",
       "      <td>(-6.0, -5.5]</td>\n",
       "      <td>1</td>\n",
       "    </tr>\n",
       "    <tr>\n",
       "      <th>95791</th>\n",
       "      <td>-5.753591</td>\n",
       "      <td>-1.636075</td>\n",
       "      <td>(-6.0, -5.5]</td>\n",
       "      <td>1</td>\n",
       "    </tr>\n",
       "    <tr>\n",
       "      <th>95794</th>\n",
       "      <td>-5.356524</td>\n",
       "      <td>-1.774548</td>\n",
       "      <td>(-5.5, -5.0]</td>\n",
       "      <td>1</td>\n",
       "    </tr>\n",
       "    <tr>\n",
       "      <th>95796</th>\n",
       "      <td>-5.196607</td>\n",
       "      <td>-1.906012</td>\n",
       "      <td>(-5.5, -5.0]</td>\n",
       "      <td>1</td>\n",
       "    </tr>\n",
       "    <tr>\n",
       "      <th>95797</th>\n",
       "      <td>-5.715512</td>\n",
       "      <td>-1.848067</td>\n",
       "      <td>(-6.0, -5.5]</td>\n",
       "      <td>1</td>\n",
       "    </tr>\n",
       "    <tr>\n",
       "      <th>95803</th>\n",
       "      <td>-6.625443</td>\n",
       "      <td>-1.551159</td>\n",
       "      <td>(-7.1, -6.5]</td>\n",
       "      <td>1</td>\n",
       "    </tr>\n",
       "    <tr>\n",
       "      <th>95810</th>\n",
       "      <td>-5.305200</td>\n",
       "      <td>-1.387211</td>\n",
       "      <td>(-5.5, -5.0]</td>\n",
       "      <td>1</td>\n",
       "    </tr>\n",
       "    <tr>\n",
       "      <th>95811</th>\n",
       "      <td>-5.172741</td>\n",
       "      <td>-1.750070</td>\n",
       "      <td>(-5.5, -5.0]</td>\n",
       "      <td>1</td>\n",
       "    </tr>\n",
       "    <tr>\n",
       "      <th>95815</th>\n",
       "      <td>-5.055985</td>\n",
       "      <td>-1.504634</td>\n",
       "      <td>(-5.5, -5.0]</td>\n",
       "      <td>1</td>\n",
       "    </tr>\n",
       "    <tr>\n",
       "      <th>95816</th>\n",
       "      <td>-6.894896</td>\n",
       "      <td>-1.888164</td>\n",
       "      <td>(-7.1, -6.5]</td>\n",
       "      <td>1</td>\n",
       "    </tr>\n",
       "    <tr>\n",
       "      <th>95817</th>\n",
       "      <td>-6.407876</td>\n",
       "      <td>-1.713319</td>\n",
       "      <td>(-6.5, -6.0]</td>\n",
       "      <td>1</td>\n",
       "    </tr>\n",
       "    <tr>\n",
       "      <th>95823</th>\n",
       "      <td>-5.598268</td>\n",
       "      <td>-1.702078</td>\n",
       "      <td>(-6.0, -5.5]</td>\n",
       "      <td>1</td>\n",
       "    </tr>\n",
       "  </tbody>\n",
       "</table>\n",
       "</div>"
      ],
      "text/plain": [
       "       in_vitro_clv  in_vivo_clv in_vitro_clv_bin  y_obs\n",
       "95789     -5.553682    -1.763735     (-6.0, -5.5]      1\n",
       "95791     -5.753591    -1.636075     (-6.0, -5.5]      1\n",
       "95794     -5.356524    -1.774548     (-5.5, -5.0]      1\n",
       "95796     -5.196607    -1.906012     (-5.5, -5.0]      1\n",
       "95797     -5.715512    -1.848067     (-6.0, -5.5]      1\n",
       "95803     -6.625443    -1.551159     (-7.1, -6.5]      1\n",
       "95810     -5.305200    -1.387211     (-5.5, -5.0]      1\n",
       "95811     -5.172741    -1.750070     (-5.5, -5.0]      1\n",
       "95815     -5.055985    -1.504634     (-5.5, -5.0]      1\n",
       "95816     -6.894896    -1.888164     (-7.1, -6.5]      1\n",
       "95817     -6.407876    -1.713319     (-6.5, -6.0]      1\n",
       "95823     -5.598268    -1.702078     (-6.0, -5.5]      1"
      ]
     },
     "execution_count": 15,
     "metadata": {},
     "output_type": "execute_result"
    }
   ],
   "source": [
    "data_id = 'kleinsitver'\n",
    "#data_id = 'listgarten'\n",
    "#data_id = 'listgarten_indel'\n",
    "dfs[data_id]['y_obs'] = data_cache[data_id][1]\n",
    "diff_df = dfs[data_id].query(\"in_vitro_clv< -5 and in_vivo_clv> -2 and y_obs==1\")\n",
    "diff_df"
   ]
  },
  {
   "cell_type": "code",
   "execution_count": 16,
   "id": "f2fb1cfe",
   "metadata": {},
   "outputs": [
    {
     "name": "stdout",
     "output_type": "stream",
     "text": [
      "0.3616882263629 0.22789077430342408\n"
     ]
    }
   ],
   "source": [
    "# sanity check\n",
    "from sklearn import metrics\n",
    "print(\n",
    "    metrics.average_precision_score(dfs[data_id]['y_obs'], dfs[data_id]['in_vivo_clv']),\n",
    "    metrics.average_precision_score(dfs[data_id]['y_obs'], dfs[data_id]['in_vitro_clv']),\n",
    ")"
   ]
  },
  {
   "cell_type": "code",
   "execution_count": 17,
   "id": "6e9cd544",
   "metadata": {},
   "outputs": [
    {
     "data": {
      "text/plain": [
       "\"\\nscore = permute_seq(model, data_cache['kleinsitver'][0][diff_df.index[0]])\\nfig, ax = plt.subplots(1,1, figsize=(12,5))\\nrdgn = sns.diverging_palette(h_neg=220, h_pos=0, s=99, l=70, sep=10, n=10, as_cmap=True)\\nsns.heatmap(score.T, center=0, cmap=rdgn, ax=ax)\\n\""
      ]
     },
     "execution_count": 17,
     "metadata": {},
     "output_type": "execute_result"
    }
   ],
   "source": [
    "def permute_seq(model, x):\n",
    "    score = np.zeros((25,4))\n",
    "    old = model.predict(x[np.newaxis, ...])\n",
    "    for i in range(25):\n",
    "        for j in range(4):\n",
    "            _x = x.copy()\n",
    "            _x[i, 0:4] = 0\n",
    "            _x[i,j] = 1\n",
    "            new = model.predict(_x[np.newaxis, ...])\n",
    "            score[i,j] = new - old\n",
    "    return score\n",
    "\n",
    "\"\"\"\n",
    "score = permute_seq(model, data_cache['kleinsitver'][0][diff_df.index[0]])\n",
    "fig, ax = plt.subplots(1,1, figsize=(12,5))\n",
    "rdgn = sns.diverging_palette(h_neg=220, h_pos=0, s=99, l=70, sep=10, n=10, as_cmap=True)\n",
    "sns.heatmap(score.T, center=0, cmap=rdgn, ax=ax)\n",
    "\"\"\""
   ]
  },
  {
   "cell_type": "code",
   "execution_count": 18,
   "id": "250f0a5a",
   "metadata": {},
   "outputs": [],
   "source": [
    "def get_base_kinn_model(model):\n",
    "    layer_dict = {l.name:l for l in model.layers}\n",
    "    k_layer_name = [x for x in layer_dict if x.startswith(\"kinn_\")][0]\n",
    "    seq_ohe = model.inputs[0]\n",
    "    seq_ohe = tf.gather(seq_ohe, layer_dict[k_layer_name].channels, axis=-1)\n",
    "    inp_list = layer_dict[k_layer_name].mb.blockify_seq_ohe(seq_ohe)\n",
    "    kinn_rates = layer_dict[k_layer_name].kinn_header(inp_list)\n",
    "    clv = layer_dict[k_layer_name].kinn_body(kinn_rates)\n",
    "    kinetic_model = tf.keras.models.Model(\n",
    "        inputs = model.inputs,\n",
    "        outputs = clv\n",
    "    )\n",
    "    return kinetic_model"
   ]
  },
  {
   "cell_type": "code",
   "execution_count": 19,
   "id": "8c69d453",
   "metadata": {},
   "outputs": [],
   "source": [
    "def get_shap(model, kinn, x):\n",
    "    bg_seq = np.zeros((1,25,13))\n",
    "    e=shap.GradientExplainer(model, bg_seq, batch_size=25000)\n",
    "    e2=shap.GradientExplainer(kinn, bg_seq, batch_size=25000)\n",
    "    res = e.shap_values(X=x)\n",
    "    res2 = e2.shap_values(X=x)\n",
    "    diff = (res[0]/np.abs(res[0]).max()-res2[0]/np.abs(res2[0]).max()).squeeze().T\n",
    "    diff = diff/np.abs(diff).max()\n",
    "    return res[0], res2[0], diff\n",
    "\n",
    "def get_diff_df(data_id):\n",
    "    dfs[data_id]['y_obs'] = data_cache[data_id][1]\n",
    "    diff_df = dfs[data_id].query(\"in_vitro_clv< -5 and in_vivo_clv> -2 and y_obs==1\")\n",
    "    diff_df['clv_diff'] = diff_df['in_vitro_clv'] - diff_df['in_vivo_clv']\n",
    "    return diff_df.sort_values('clv_diff', ascending=True)\n",
    "\n"
   ]
  },
  {
   "cell_type": "code",
   "execution_count": 20,
   "id": "a66c427d",
   "metadata": {},
   "outputs": [],
   "source": [
    "import numpy as np\n",
    "import matplotlib.pyplot as plt\n",
    "from matplotlib.collections import PatchCollection\n",
    "from matplotlib import colors\n",
    "\n",
    "\n",
    "def mat_to_seq(annot):\n",
    "    letters = list('ACGT')\n",
    "    seq_ohe = annot[:, 0:4]\n",
    "    s = [letters[np.where(x)[0][0]] if np.sum(x)==1 else 'N' for x in seq_ohe]\n",
    "    return s\n",
    "\n",
    "\n",
    "def heatmap_with_circle(s, c, annot, remove_indel=False):\n",
    "    N = 13 if remove_indel is False else 8\n",
    "    M = 25\n",
    "    letters = 'ACGT'\n",
    "    ylabels = list(letters) + ['s-%s'%x for x in letters]\n",
    "    if remove_indel: \n",
    "        s = s[0:8]\n",
    "        c = c[0:8]\n",
    "    else:\n",
    "        ylabel +=  ['i-%s'%x for x in letters] + ['d']\n",
    "    #xlabels = np.arange(1, M+1)\n",
    "    xlabels = mat_to_seq(annot)\n",
    "\n",
    "    x, y = np.meshgrid(np.arange(M), np.arange(N))\n",
    "    #s = np.random.randint(0, 180, size=(N,M))\n",
    "    #c = np.random.rand(N, M)-0.5\n",
    "\n",
    "    fig, ax = plt.subplots(1,1,figsize=(12,5))\n",
    "\n",
    "    R = s/s.max()/2\n",
    "    circles = [plt.Circle((j,i), radius=r, alpha=r) for r, j, i in zip(R.flat, x.flat, y.flat)]\n",
    "    rdgn = sns.diverging_palette(h_neg=220, h_pos=0, s=99, l=70, sep=10, n=10, as_cmap=True)\n",
    "    divnorm=colors.TwoSlopeNorm(vmin=-0.5, vcenter=0., vmax=0.5)\n",
    "    col = PatchCollection(circles, array=c.flatten(), cmap=rdgn, norm=divnorm)\n",
    "    ax.add_collection(col)\n",
    "\n",
    "    ax.set(xticks=np.arange(M), yticks=np.arange(N),\n",
    "           xticklabels=xlabels, yticklabels=ylabels)\n",
    "    ax.set_xticks(np.arange(M+1)-0.5, minor=True)\n",
    "    ax.set_yticks(np.arange(N+1)-0.5, minor=True)\n",
    "    ax.grid(which='minor')\n",
    "\n",
    "    fig.colorbar(col)\n",
    "    plt.gca().invert_yaxis()\n",
    "    return fig, ax"
   ]
  },
  {
   "cell_type": "code",
   "execution_count": 21,
   "id": "44aa866b",
   "metadata": {},
   "outputs": [],
   "source": [
    "reload_shaps_from_disk = True\n",
    "shaps = {}\n",
    "if reload_shaps_from_disk and os.path.isfile('./outputs/analysis/transfer_learning.shaps.pkl'):\n",
    "    with open('./outputs/analysis/transfer_learning.shaps.pkl', 'rb') as f:\n",
    "        shaps = pickle.load(f)\n",
    "else:\n",
    "    for data_id in ['kleinsitver', 'listgarten', 'listgarten_indel']:\n",
    "        diff_df = get_diff_df(data_id)\n",
    "        for model_id, model in enumerate(model_ensemble):\n",
    "            print(model_id)\n",
    "            model = model_ensemble[model_id]\n",
    "            kinn = get_base_kinn_model(model)\n",
    "            for idx in tqdm(diff_df.index):\n",
    "                x=data_cache[data_id][0][[idx]]\n",
    "                res, res2, diff = get_shap(model, kinn, x)\n",
    "                shaps[(model_id, data_id, idx)] = diff\n",
    "\n",
    "    with open('./outputs/analysis/transfer_learning.shaps.pkl', 'wb') as f:\n",
    "        pickle.dump(shaps, f)"
   ]
  },
  {
   "cell_type": "code",
   "execution_count": 22,
   "id": "9ea60ed2",
   "metadata": {},
   "outputs": [],
   "source": [
    "# concat shaps by datapoints\n",
    "shaps_agg = {}\n",
    "_shaps_agg = defaultdict(list)\n",
    "for k, diff in shaps.items():\n",
    "    model_id, data_id, idx = k\n",
    "    if np.isnan(diff.sum()):\n",
    "        continue\n",
    "    _shaps_agg[(data_id, idx)].append(diff)\n",
    "\n",
    "for k,v in _shaps_agg.items():\n",
    "    tmp = np.array(_shaps_agg[k])\n",
    "    shaps_agg[k] = tmp.mean(axis=0), 1/(tmp.var(axis=0)+0.1)"
   ]
  },
  {
   "cell_type": "code",
   "execution_count": 23,
   "id": "163a92ec",
   "metadata": {},
   "outputs": [],
   "source": [
    "letter_contrib = [[], [], [], []]\n",
    "letter_vars = [[], [], [], []]\n",
    "for k in shaps_agg:\n",
    "    for i in range(4):\n",
    "        tmp = shaps_agg[k][0][i]\n",
    "        tmp2 = shaps_agg[k][1][i]\n",
    "        letter_contrib[i].extend(tmp[tmp!=0].tolist())\n",
    "        letter_vars[i].extend(tmp2[tmp!=0].tolist())"
   ]
  },
  {
   "cell_type": "code",
   "execution_count": 24,
   "id": "efd6d65a",
   "metadata": {},
   "outputs": [
    {
     "data": {
      "text/plain": [
       "Text(0, 0.5, 'Log10(Var_Shap)')"
      ]
     },
     "execution_count": 24,
     "metadata": {},
     "output_type": "execute_result"
    },
    {
     "data": {
      "image/png": "[encoded data removed]",
      "text/plain": [
       "<Figure size 360x360 with 1 Axes>"
      ]
     },
     "metadata": {
      "needs_background": "light"
     },
     "output_type": "display_data"
    }
   ],
   "source": [
    "# see the correlation between contrib vs across-model variance\n",
    "fig, ax = plt.subplots(1,1,figsize=(5,5))\n",
    "c = [np.abs(x) for _ in letter_contrib for x in _]\n",
    "s = [np.log10(1/x-0.1) for _ in letter_vars for x in _]\n",
    "sns.scatterplot(x=c, y=s, alpha=0.6)\n",
    "ax.set_title(\"Pearson=%.3f (p=%.2e)\" % ss.pearsonr(c,s))\n",
    "ax.set_xlabel('Absolute Mean_Shap')\n",
    "ax.set_ylabel('Log10(Var_Shap)')"
   ]
  },
  {
   "cell_type": "code",
   "execution_count": 25,
   "id": "059dfe81",
   "metadata": {},
   "outputs": [],
   "source": [
    "def box_and_whisker(data, title, ylabel, xticklabels, test_combinations=None):\n",
    "    \"\"\"\n",
    "    Function from: https://rowannicholls.github.io/python/graphs/ax_based/boxplots_significance.html\n",
    "    Create a box-and-whisker plot with significance bars.\n",
    "    \"\"\"\n",
    "    fig, ax = plt.subplots(1,1,figsize=(5,5))\n",
    "    bp = ax.boxplot(data, widths=0.6, patch_artist=True)\n",
    "    # Graph title\n",
    "    ax.set_title(title, fontsize=14)\n",
    "    # Label y-axis\n",
    "    ax.set_ylabel(ylabel)\n",
    "    # Label x-axis ticks\n",
    "    ax.set_xticklabels(xticklabels)\n",
    "    # Hide x-axis major ticks\n",
    "    ax.tick_params(axis='x', which='major', length=0)\n",
    "    # Show x-axis minor ticks\n",
    "    xticks = [0.5] + [x + 0.5 for x in ax.get_xticks()]\n",
    "    ax.set_xticks(xticks, minor=True)\n",
    "    # Clean up the appearance\n",
    "    ax.tick_params(axis='x', which='minor', length=3, width=1)\n",
    "\n",
    "    # Change the colour of the boxes to Seaborn's 'pastel' palette\n",
    "    colors = sns.color_palette('pastel')\n",
    "    for patch, color in zip(bp['boxes'], colors):\n",
    "        patch.set_facecolor(color)\n",
    "\n",
    "    # Colour of the median lines\n",
    "    plt.setp(bp['medians'], color='k')\n",
    "\n",
    "    # Check for statistical significance\n",
    "    test_combinations = test_combinations or []\n",
    "    significant_combinations = []\n",
    "    # Check from the outside pairs of boxes inwards\n",
    "    ls = list(range(1, len(data) + 1))\n",
    "    combinations = [(ls[x], ls[x + y]) for y in reversed(ls) for x in range((len(ls) - y))]\n",
    "    for c in combinations:\n",
    "        if len(test_combinations) and not c in test_combinations:\n",
    "            print(f\"skipped test {c}\")\n",
    "            continue\n",
    "        data1 = data[c[0] - 1]\n",
    "        data2 = data[c[1] - 1]\n",
    "        # Significance\n",
    "        U, p = ss.mannwhitneyu(data1, data2, alternative='two-sided')\n",
    "        if p < 0.05:\n",
    "            significant_combinations.append([c, p])\n",
    "\n",
    "    # Get info about y-axis\n",
    "    bottom, top = ax.get_ylim()\n",
    "    yrange = top - bottom\n",
    "\n",
    "    # Significance bars\n",
    "    for i, significant_combination in enumerate(significant_combinations):\n",
    "        # Columns corresponding to the datasets of interest\n",
    "        x1 = significant_combination[0][0]\n",
    "        x2 = significant_combination[0][1]\n",
    "        # What level is this bar among the bars above the plot?\n",
    "        level = len(significant_combinations) - i\n",
    "        # Plot the bar\n",
    "        bar_height = (yrange * 0.08 * level) + top\n",
    "        bar_tips = bar_height - (yrange * 0.02)\n",
    "        plt.plot(\n",
    "            [x1, x1, x2, x2],\n",
    "            [bar_tips, bar_height, bar_height, bar_tips], lw=1, c='k')\n",
    "        # Significance level\n",
    "        p = significant_combination[1]\n",
    "        if p < 0.001:\n",
    "            sig_symbol = '***'\n",
    "        elif p < 0.01:\n",
    "            sig_symbol = '**'\n",
    "        elif p < 0.05:\n",
    "            sig_symbol = '*'\n",
    "        text_height = bar_height + (yrange * 0.01)\n",
    "        plt.text((x1 + x2) * 0.5, text_height, sig_symbol, ha='center', c='k')\n",
    "\n",
    "    # Adjust y-axis\n",
    "    bottom, top = ax.get_ylim()\n",
    "    yrange = top - bottom\n",
    "    ax.set_ylim(bottom - 0.02 * yrange, top)\n",
    "\n",
    "    # Annotate sample size below each box\n",
    "    for i, dataset in enumerate(data):\n",
    "        sample_size = len(dataset)\n",
    "        ax.text(i + 1, bottom, fr'n = {sample_size}', ha='center', size='large')\n",
    "\n",
    "    plt.show()"
   ]
  },
  {
   "cell_type": "code",
   "execution_count": 26,
   "id": "35e4c09f",
   "metadata": {},
   "outputs": [
    {
     "name": "stderr",
     "output_type": "stream",
     "text": [
      "findfont: Font family ['serif'] not found. Falling back to DejaVu Sans.\n",
      "findfont: Generic family 'serif' not found because none of the following families were found: Times New Roman\n",
      "findfont: Font family ['serif'] not found. Falling back to DejaVu Sans.\n",
      "findfont: Generic family 'serif' not found because none of the following families were found: Times New Roman\n"
     ]
    },
    {
     "name": "stdout",
     "output_type": "stream",
     "text": [
      "skipped test (1, 4)\n",
      "skipped test (2, 4)\n",
      "skipped test (1, 2)\n"
     ]
    },
    {
     "data": {
      "image/png": "[encoded data removed]",
      "text/plain": [
       "<Figure size 360x360 with 1 Axes>"
      ]
     },
     "metadata": {
      "needs_background": "light"
     },
     "output_type": "display_data"
    }
   ],
   "source": [
    "# Analyze ACGT shap values\n",
    "box_and_whisker(\n",
    "    letter_contrib, title='', \n",
    "    ylabel='Shap value', xticklabels=['A','C','G','T'],\n",
    "    test_combinations=[(1,3),(2,3),(3,4)]\n",
    ")"
   ]
  },
  {
   "cell_type": "code",
   "execution_count": 27,
   "id": "22f101f6",
   "metadata": {},
   "outputs": [
    {
     "data": {
      "text/plain": [
       "Text(0, 0.5, 'SHAP value')"
      ]
     },
     "execution_count": 27,
     "metadata": {},
     "output_type": "execute_result"
    },
    {
     "data": {
      "image/png": "[encoded data removed]",
      "text/plain": [
       "<Figure size 360x360 with 1 Axes>"
      ]
     },
     "metadata": {
      "needs_background": "light"
     },
     "output_type": "display_data"
    }
   ],
   "source": [
    "fig, ax = plt.subplots(1,1,figsize=(5,5))\n",
    "df = pd.DataFrame(letter_contrib, index=['A','C','G','T']).T\n",
    "ax = df.plot(kind='box', ax=ax,\n",
    "             color=dict(boxes='r', whiskers='r', medians='r', caps='r'),\n",
    "             boxprops=dict(linestyle='-', linewidth=1.5),\n",
    "             #flierprops=dict(linestyle='-', linewidth=1.5),\n",
    "             medianprops=dict(linestyle='-', linewidth=1.5),\n",
    "             whiskerprops=dict(linestyle='-', linewidth=1.5),\n",
    "             capprops=dict(linestyle='-', linewidth=1.5),\n",
    "             showfliers=True, grid=True, rot=0)\n",
    "ax.set_ylabel('SHAP value')"
   ]
  },
  {
   "cell_type": "code",
   "execution_count": 28,
   "id": "bfd22d55",
   "metadata": {
    "scrolled": false
   },
   "outputs": [
    {
     "name": "stdout",
     "output_type": "stream",
     "text": [
      "('kleinsitver', 95817)\n"
     ]
    },
    {
     "data": {
      "text/plain": [
       "<AxesSubplot:>"
      ]
     },
     "execution_count": 28,
     "metadata": {},
     "output_type": "execute_result"
    },
    {
     "data": {
      "image/png": "[encoded data removed]",
      "text/plain": [
       "<Figure size 864x360 with 2 Axes>"
      ]
     },
     "metadata": {
      "needs_background": "light"
     },
     "output_type": "display_data"
    }
   ],
   "source": [
    "ks = [k for k in shaps_agg]\n",
    "k = ks[2]\n",
    "print(k)\n",
    "# plain plot from seaborn for sanity checks\n",
    "x = data_cache[k[0]][0][k[1]]\n",
    "fig, ax = plt.subplots(1,1, figsize=(12,5))\n",
    "rdgn = sns.diverging_palette(h_neg=220, h_pos=0, s=99, l=70, sep=10, n=10, as_cmap=True)\n",
    "sns.heatmap(shaps_agg[k][0], annot=x.squeeze().T, center=0, cmap=rdgn, ax=ax)"
   ]
  },
  {
   "cell_type": "code",
   "execution_count": 29,
   "id": "7d36792d",
   "metadata": {},
   "outputs": [
    {
     "data": {
      "image/png": "[encoded data removed]",
      "text/plain": [
       "<Figure size 864x360 with 2 Axes>"
      ]
     },
     "metadata": {
      "needs_background": "light"
     },
     "output_type": "display_data"
    }
   ],
   "source": [
    "\n",
    "# Example 1: largest diff\n",
    "k = ks[2]\n",
    "c = shaps_agg[k][0].copy()\n",
    "c[c==0] = np.nan\n",
    "s = shaps_agg[k][1]\n",
    "annot = data_cache[k[0]][0][k[1]]\n",
    "fig, ax = heatmap_with_circle(c=c, s=s, annot=annot, remove_indel=True)\n",
    "ax.set_title(\"In Vivo=%.2f\\nIn Vitro=%.2f\" % (dfs[k[0]].loc[k[1], 'in_vivo_clv'], dfs[k[0]].loc[k[1], 'in_vitro_clv'], ))\n",
    "# save to source_data\n",
    "dd = []\n",
    "for i in range(8):\n",
    "    dd.append([])\n",
    "    for j in range(len(c[i])):\n",
    "        # Combine the corresponding entries in mean and variance\n",
    "        combined_entry = f'{round(c[i, j],3)} ({round(s[i, j],3)})'\n",
    "        if np.isnan(c[i, j]): combined_entry = '-'\n",
    "        # Add the combined entry to the new data frame\n",
    "        dd[i].append(combined_entry)\n",
    "dd = pd.DataFrame(dd, index=['A','C','G','T','s-A','s-C','s-G','s-T'], columns=mat_to_seq(annot))\n",
    "dd.to_csv('source_data/Fig4C_1.csv')"
   ]
  },
  {
   "cell_type": "code",
   "execution_count": 30,
   "id": "216d08e3",
   "metadata": {},
   "outputs": [
    {
     "data": {
      "image/png": "[encoded data removed]",
      "text/plain": [
       "<Figure size 864x360 with 2 Axes>"
      ]
     },
     "metadata": {
      "needs_background": "light"
     },
     "output_type": "display_data"
    }
   ],
   "source": [
    "# Example 2: largest diff\n",
    "k = ks[3]\n",
    "c = shaps_agg[k][0].copy()\n",
    "c[c==0] = np.nan\n",
    "s = shaps_agg[k][1]\n",
    "annot = data_cache[k[0]][0][k[1]]\n",
    "fig, ax = heatmap_with_circle(c=c, s=s, annot=annot, remove_indel=True)\n",
    "ax.set_title(\"In Vivo=%.2f\\nIn Vitro=%.2f\" % (dfs[k[0]].loc[k[1], 'in_vivo_clv'], dfs[k[0]].loc[k[1], 'in_vitro_clv'], ))\n",
    "\n",
    "# save to source_data\n",
    "dd = []\n",
    "for i in range(8):\n",
    "    dd.append([])\n",
    "    for j in range(len(c[i])):\n",
    "        # Combine the corresponding entries in mean and variance\n",
    "        combined_entry = f'{round(c[i, j],3)} ({round(s[i, j],3)})'\n",
    "        if np.isnan(c[i, j]): combined_entry = '-'\n",
    "        # Add the combined entry to the new data frame\n",
    "        dd[i].append(combined_entry)\n",
    "dd = pd.DataFrame(dd, index=['A','C','G','T','s-A','s-C','s-G','s-T'], columns=mat_to_seq(annot))\n",
    "dd.to_csv('source_data/Fig4C_2.csv')"
   ]
  },
  {
   "cell_type": "code",
   "execution_count": 31,
   "id": "1d3b780c",
   "metadata": {},
   "outputs": [
    {
     "name": "stdout",
     "output_type": "stream",
     "text": [
      "Last updated: Wed Oct 18 2023\n",
      "\n",
      "Python implementation: CPython\n",
      "Python version       : 3.7.9\n",
      "IPython version      : 7.22.0\n",
      "\n",
      "src       : 0.0.3\n",
      "pandas    : 1.0.3\n",
      "shap      : 0.41.0\n",
      "sklearn   : 0.0\n",
      "tensorflow: 1.15.0\n",
      "numpy     : 1.19.5\n",
      "seaborn   : 0.11.1\n",
      "h5py      : 2.10.0\n",
      "scipy     : 1.7.3\n",
      "keras     : 2.2.5\n",
      "matplotlib: 3.4.3\n",
      "\n",
      "Watermark: 2.3.1\n",
      "\n"
     ]
    }
   ],
   "source": [
    "%load_ext watermark\n",
    "%watermark -n -u -v -iv -w"
   ]
  },
  {
   "cell_type": "code",
   "execution_count": null,
   "id": "f5218c8e",
   "metadata": {},
   "outputs": [],
   "source": []
  }
 ],
 "metadata": {
  "kernelspec": {
   "display_name": "Python 3",
   "language": "python",
   "name": "python3"
  },
  "language_info": {
   "codemirror_mode": {
    "name": "ipython",
    "version": 3
   },
   "file_extension": ".py",
   "mimetype": "text/x-python",
   "name": "python",
   "nbconvert_exporter": "python",
   "pygments_lexer": "ipython3",
   "version": "3.7.9"
  }
 },
 "nbformat": 4,
 "nbformat_minor": 5
}
